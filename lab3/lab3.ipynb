{
 "cells": [
  {
   "cell_type": "markdown",
   "id": "c2bd8ebf",
   "metadata": {},
   "source": [
    "# Lab 3 exercises\n",
    "\n",
    "Exercises about lists.\n"
   ]
  },
  {
   "cell_type": "markdown",
   "id": "0a1d9887",
   "metadata": {},
   "source": [
    "**Exercise 1.** Define the `rotate n xs` function that puts the n first elements of a list at its end"
   ]
  },
  {
   "cell_type": "code",
   "execution_count": 10,
   "id": "a4940161",
   "metadata": {},
   "outputs": [],
   "source": []
  },
  {
   "cell_type": "code",
   "execution_count": 11,
   "id": "e90a4906",
   "metadata": {},
   "outputs": [
    {
     "data": {
      "text/plain": [
       "[2,3,4,5,6,7,1]"
      ]
     },
     "metadata": {},
     "output_type": "display_data"
    },
    {
     "data": {
      "text/plain": [
       "[3,4,5,6,7,1,2]"
      ]
     },
     "metadata": {},
     "output_type": "display_data"
    },
    {
     "data": {
      "text/plain": [
       "[4,5,6,7,1,2,3]"
      ]
     },
     "metadata": {},
     "output_type": "display_data"
    },
    {
     "data": {
      "text/plain": [
       "[1,2,3,4,5,6,7]"
      ]
     },
     "metadata": {},
     "output_type": "display_data"
    },
    {
     "data": {
      "text/plain": [
       "[1,2,3,4,5,6,7]"
      ]
     },
     "metadata": {},
     "output_type": "display_data"
    }
   ],
   "source": [
    "-- Test code\n",
    "rotate 1 [1, 2, 3, 4, 5, 6, 7] \n",
    "rotate 2 [1, 2, 3, 4, 5, 6, 7] \n",
    "rotate 3 [1, 2, 3, 4, 5, 6, 7] \n",
    "rotate 7 [1, 2, 3, 4, 5, 6, 7] \n",
    "rotate 8 [1, 2, 3, 4, 5, 6, 7] "
   ]
  },
  {
   "cell_type": "markdown",
   "id": "c978ecd6",
   "metadata": {},
   "source": [
    "**Exercise 2.**  Define the `interval a b xs` function that returns the elements of xs between positions a and b (b not included)"
   ]
  },
  {
   "cell_type": "code",
   "execution_count": 14,
   "id": "44e35ad7",
   "metadata": {},
   "outputs": [],
   "source": []
  },
  {
   "cell_type": "code",
   "execution_count": 15,
   "id": "19f9da7e",
   "metadata": {},
   "outputs": [
    {
     "data": {
      "text/plain": [
       "[1]"
      ]
     },
     "metadata": {},
     "output_type": "display_data"
    },
    {
     "data": {
      "text/plain": [
       "[1,2,3,4,5,6]"
      ]
     },
     "metadata": {},
     "output_type": "display_data"
    },
    {
     "data": {
      "text/plain": [
       "[2,3,4,5]"
      ]
     },
     "metadata": {},
     "output_type": "display_data"
    },
    {
     "data": {
      "text/plain": [
       "[]"
      ]
     },
     "metadata": {},
     "output_type": "display_data"
    }
   ],
   "source": [
    "-- Test code\n",
    "interval 0 1 [1, 2, 3, 4, 5, 6, 7] \n",
    "interval 0 6 [1, 2, 3, 4, 5, 6, 7] \n",
    "interval 2 5 [1, 2, 3, 4, 5, 6, 7] \n",
    "interval 4 2 [1, 2, 3, 4, 5, 6, 7] "
   ]
  },
  {
   "cell_type": "markdown",
   "id": "60cc9291",
   "metadata": {},
   "source": [
    "**Exercise 3.** Given a two lists of 2 elements `[a,b]` and `[c,d]` that represent the boundaries of two intervals define the `intersection [a,b] [c,d]` function that returns the intersection of both intervals."
   ]
  },
  {
   "cell_type": "code",
   "execution_count": 19,
   "id": "e555523b",
   "metadata": {},
   "outputs": [],
   "source": []
  },
  {
   "cell_type": "code",
   "execution_count": 23,
   "id": "950c94c4",
   "metadata": {},
   "outputs": [
    {
     "data": {
      "text/plain": [
       "[]"
      ]
     },
     "metadata": {},
     "output_type": "display_data"
    },
    {
     "data": {
      "text/plain": [
       "[]"
      ]
     },
     "metadata": {},
     "output_type": "display_data"
    },
    {
     "data": {
      "text/plain": [
       "[]"
      ]
     },
     "metadata": {},
     "output_type": "display_data"
    },
    {
     "data": {
      "text/plain": [
       "[6,6]"
      ]
     },
     "metadata": {},
     "output_type": "display_data"
    },
    {
     "data": {
      "text/plain": [
       "[2,6]"
      ]
     },
     "metadata": {},
     "output_type": "display_data"
    },
    {
     "data": {
      "text/plain": [
       "[2,4]"
      ]
     },
     "metadata": {},
     "output_type": "display_data"
    },
    {
     "data": {
      "text/plain": [
       "[4,4]"
      ]
     },
     "metadata": {},
     "output_type": "display_data"
    },
    {
     "data": {
      "text/plain": [
       "[]"
      ]
     },
     "metadata": {},
     "output_type": "display_data"
    }
   ],
   "source": [
    "-- Test code\n",
    "intersection [] [3,5] \n",
    "intersection [3,5] []\n",
    "intersection [2,4] [6,9] \n",
    "intersection [2,6] [6,9] \n",
    "intersection [2,6] [0,9]\n",
    "intersection [2,6] [0,4] \n",
    "intersection [4,6] [4,4] \n",
    "intersection [5,6] [0,4]"
   ]
  },
  {
   "cell_type": "markdown",
   "id": "bb443f5d",
   "metadata": {},
   "source": [
    "**Exercise 4.** Define the `addEven xs` function that returns the addition of the elements in even positions in a list of integer numbers."
   ]
  },
  {
   "cell_type": "code",
   "execution_count": 2,
   "id": "8ce3f2e8",
   "metadata": {},
   "outputs": [],
   "source": []
  },
  {
   "cell_type": "code",
   "execution_count": 6,
   "id": "41c9efe9",
   "metadata": {},
   "outputs": [
    {
     "data": {
      "text/plain": [
       "0"
      ]
     },
     "metadata": {},
     "output_type": "display_data"
    },
    {
     "data": {
      "text/plain": [
       "1"
      ]
     },
     "metadata": {},
     "output_type": "display_data"
    },
    {
     "data": {
      "text/plain": [
       "4"
      ]
     },
     "metadata": {},
     "output_type": "display_data"
    },
    {
     "data": {
      "text/plain": [
       "9"
      ]
     },
     "metadata": {},
     "output_type": "display_data"
    }
   ],
   "source": [
    "-- Test\n",
    "addEven []\n",
    "addEven [1]\n",
    "addEven [1, 2, 3, 4]\n",
    "addEven [1, 2, 3, 4, 5, 6]"
   ]
  },
  {
   "cell_type": "markdown",
   "id": "6d716145",
   "metadata": {},
   "source": [
    "**Exercise 5.** Define the `takeN n xs` function that behaves like the `take` function but if `n` $\\geq$ `len xs` the last element of the list is repeated until the returned list has `n` elements. For the empty list it must return the empty list.  \n",
    "Make sure it works for infinity lists."
   ]
  },
  {
   "cell_type": "code",
   "execution_count": null,
   "id": "cb2aefee",
   "metadata": {},
   "outputs": [],
   "source": []
  },
  {
   "cell_type": "code",
   "execution_count": 9,
   "id": "5f0117bd",
   "metadata": {},
   "outputs": [
    {
     "data": {
      "text/plain": [
       "[1,2,3]"
      ]
     },
     "metadata": {},
     "output_type": "display_data"
    },
    {
     "data": {
      "text/plain": [
       "[1,2,2,2]"
      ]
     },
     "metadata": {},
     "output_type": "display_data"
    },
    {
     "data": {
      "text/plain": [
       "[1,1,1,1,1]"
      ]
     },
     "metadata": {},
     "output_type": "display_data"
    },
    {
     "data": {
      "text/plain": [
       "\"helloooo\""
      ]
     },
     "metadata": {},
     "output_type": "display_data"
    },
    {
     "data": {
      "text/plain": [
       "[]"
      ]
     },
     "metadata": {},
     "output_type": "display_data"
    },
    {
     "data": {
      "text/plain": [
       "[\"h\",\"h\",\"h\",\"h\",\"h\",\"h\",\"h\",\"h\",\"h\",\"h\",\"h\",\"h\",\"h\",\"h\",\"h\",\"h\",\"h\",\"h\",\"h\",\"h\",\"h\",\"h\"]"
      ]
     },
     "metadata": {},
     "output_type": "display_data"
    }
   ],
   "source": [
    "-- Test\n",
    "takeN 3 [1, 2, 3]\n",
    "takeN 4 [1, 2]\n",
    "takeN 5 [1]\n",
    "takeN 8 \"hello\"\n",
    "takeN 4 []\n",
    "takeN 22 (repeat \"h\")"
   ]
  },
  {
   "cell_type": "markdown",
   "id": "f56806ca",
   "metadata": {},
   "source": [
    "**Exercise 6.** Create a function `maxMinLetter st` that given a lower case string returns a tuple with the `(highest character, smallest character)` considering the Spanish alphabet (both `a` and `á`, etc. must be considered and `ñ` appears in between `n` and `o`. Assume the string will contain at least one lower case letter and it will not contain anything that it is not a lower case letter."
   ]
  },
  {
   "cell_type": "code",
   "execution_count": 25,
   "id": "5a187956",
   "metadata": {},
   "outputs": [],
   "source": []
  },
  {
   "cell_type": "code",
   "execution_count": 26,
   "id": "85c0bd6c",
   "metadata": {},
   "outputs": [
    {
     "data": {
      "text/plain": [
       "('o','e')"
      ]
     },
     "metadata": {},
     "output_type": "display_data"
    },
    {
     "data": {
      "text/plain": [
       "('u','a')"
      ]
     },
     "metadata": {},
     "output_type": "display_data"
    },
    {
     "data": {
      "text/plain": [
       "('\\241','a')"
      ]
     },
     "metadata": {},
     "output_type": "display_data"
    }
   ],
   "source": [
    "maxMinLetter \"hello\"\n",
    "maxMinLetter \"ñandú\"\n",
    "maxMinLetter \"niña\""
   ]
  }
 ],
 "metadata": {
  "kernelspec": {
   "display_name": "Haskell",
   "language": "haskell",
   "name": "haskell"
  },
  "language_info": {
   "codemirror_mode": "ihaskell",
   "file_extension": ".hs",
   "mimetype": "text/x-haskell",
   "name": "haskell",
   "pygments_lexer": "Haskell",
   "version": "9.4.5"
  }
 },
 "nbformat": 4,
 "nbformat_minor": 5
}

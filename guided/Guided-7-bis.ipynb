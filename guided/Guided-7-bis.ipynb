{
 "cells": [
  {
   "cell_type": "markdown",
   "id": "2fbe9757",
   "metadata": {},
   "source": [
    "# GUIDED EXERCISE 7: The countdown problem"
   ]
  },
  {
   "cell_type": "markdown",
   "id": "821b22fe",
   "metadata": {},
   "source": [
    "**Problem definition:** Given a target number and a sequence of numbers, combine the numbers of the sequence using arithmetic operators (addition, subtraction, multiplication, division) and parentheses to construct an expression whose value is the target.\n",
    "\n",
    "**Goal:** Create a program that checks whether a giving expression is a solution of a countdown problem"
   ]
  },
  {
   "cell_type": "markdown",
   "id": "677b3d42",
   "metadata": {},
   "source": [
    "**Exercise 1.** Declare a type named Op with one constructor for each of the arithmetic operators and redefine the show method for them so it shows their symbol (+ - * /)"
   ]
  },
  {
   "cell_type": "code",
   "execution_count": 1,
   "id": "5654cbf6",
   "metadata": {},
   "outputs": [],
   "source": [
    "data Op = Add | Sub | Mul | Div\n",
    "\n",
    "instance Show Op where\n",
    "    show Add = \"+\"\n",
    "    show Sub = \"-\"\n",
    "    show Mul = \"*\"\n",
    "    show Div = \"/\""
   ]
  },
  {
   "cell_type": "code",
   "execution_count": 2,
   "id": "1af242da",
   "metadata": {},
   "outputs": [
    {
     "data": {
      "text/plain": [
       "+"
      ]
     },
     "metadata": {},
     "output_type": "display_data"
    },
    {
     "data": {
      "text/plain": [
       "/"
      ]
     },
     "metadata": {},
     "output_type": "display_data"
    }
   ],
   "source": [
    "Add\n",
    "Div"
   ]
  },
  {
   "cell_type": "markdown",
   "id": "a6b283ca",
   "metadata": {},
   "source": [
    "**Exercise 2.** Create a `valid` function that returns if one operator can be applied to two natural numbers: `Add` and `Mul`, always, `Sub` only if the result is >= 0, `Div` only if they are divisible and the divisor is not 0."
   ]
  },
  {
   "cell_type": "code",
   "execution_count": 3,
   "id": "f0dd6556",
   "metadata": {},
   "outputs": [],
   "source": [
    "valid :: Op -> Int -> Int -> Bool\n",
    "valid Add _ _ = True\n",
    "valid Sub a b = a >= b\n",
    "valid Mul _ _ = True\n",
    "valid Div a b = b /= 0 && a `mod` b == 0"
   ]
  },
  {
   "cell_type": "code",
   "execution_count": 4,
   "id": "2995860e",
   "metadata": {},
   "outputs": [
    {
     "data": {
      "text/plain": [
       "True"
      ]
     },
     "metadata": {},
     "output_type": "display_data"
    },
    {
     "data": {
      "text/plain": [
       "False"
      ]
     },
     "metadata": {},
     "output_type": "display_data"
    },
    {
     "data": {
      "text/plain": [
       "False"
      ]
     },
     "metadata": {},
     "output_type": "display_data"
    }
   ],
   "source": [
    "valid Add 32 42\n",
    "valid Sub 3 5\n",
    "valid Div 3 5"
   ]
  },
  {
   "cell_type": "markdown",
   "id": "85552dd3",
   "metadata": {},
   "source": [
    "**Exercise 3.** Create an `apply` function that applies an operator to two natural numbers."
   ]
  },
  {
   "cell_type": "code",
   "execution_count": 5,
   "id": "d4afdf4c",
   "metadata": {},
   "outputs": [],
   "source": [
    "apply :: Op -> Int -> Int -> Int\n",
    "apply Add a b = a + b\n",
    "apply Sub a b = a - b\n",
    "apply Mul a b = a * b\n",
    "apply Div a b = a `div` b"
   ]
  },
  {
   "cell_type": "code",
   "execution_count": 6,
   "id": "ce726554",
   "metadata": {},
   "outputs": [
    {
     "data": {
      "text/plain": [
       "2"
      ]
     },
     "metadata": {},
     "output_type": "display_data"
    },
    {
     "data": {
      "text/plain": [
       "3"
      ]
     },
     "metadata": {},
     "output_type": "display_data"
    }
   ],
   "source": [
    "apply Div 6 3\n",
    "apply Sub 6 3"
   ]
  },
  {
   "cell_type": "markdown",
   "id": "17f14043",
   "metadata": {},
   "source": [
    "**Exercise 4.** Create a new type Expression. An expression can be a numerical value or an operator applied to two expressions. Redefine the show method as in the example below."
   ]
  },
  {
   "cell_type": "code",
   "execution_count": 7,
   "id": "026e6c4f",
   "metadata": {},
   "outputs": [],
   "source": [
    "data Expression = Value Int | Applicate Op Expression Expression\n",
    "instance Show Expression where\n",
    "    show (Value x) = show x\n",
    "    show (Applicate o e1 e2) = sho e1 ++ \" \" ++ show o ++ \" \" ++ sho e2\n",
    "        where\n",
    "            sho (Value x) = show x\n",
    "            sho expre = \"(\" ++ show expre ++ \")\""
   ]
  },
  {
   "cell_type": "code",
   "execution_count": 8,
   "id": "5e4299f8",
   "metadata": {},
   "outputs": [
    {
     "data": {
      "text/plain": [
       "1 + (2 * 3)"
      ]
     },
     "metadata": {},
     "output_type": "display_data"
    },
    {
     "data": {
      "text/plain": [
       "(21 - 12) * (21 / 3)"
      ]
     },
     "metadata": {},
     "output_type": "display_data"
    }
   ],
   "source": [
    "expr1 = Applicate Add (Value 1) (Applicate Mul (Value 2) (Value 3))\n",
    "expr2 = Applicate Mul (Applicate Sub (Value 21) (Value 12)) (Applicate Div (Value 21) (Value 3))\n",
    "expr1\n",
    "expr2"
   ]
  },
  {
   "cell_type": "markdown",
   "id": "a7d6acbd",
   "metadata": {},
   "source": [
    "**Exercise 5.** Create the `values` function that returns a list with the values of an Expression"
   ]
  },
  {
   "cell_type": "code",
   "execution_count": 9,
   "id": "c6e69cbc",
   "metadata": {},
   "outputs": [],
   "source": [
    "values :: Expression -> [Int]\n",
    "values (Value x) = [x]\n",
    "values (Applicate o e1 e2) = values e1 ++ values e2"
   ]
  },
  {
   "cell_type": "code",
   "execution_count": 10,
   "id": "d3e1fa1c",
   "metadata": {},
   "outputs": [
    {
     "data": {
      "text/plain": [
       "[1,2,3]"
      ]
     },
     "metadata": {},
     "output_type": "display_data"
    },
    {
     "data": {
      "text/plain": [
       "[21,12,21,3]"
      ]
     },
     "metadata": {},
     "output_type": "display_data"
    }
   ],
   "source": [
    "values expr1\n",
    "values expr2"
   ]
  },
  {
   "cell_type": "markdown",
   "id": "d4d46c81",
   "metadata": {},
   "source": [
    "**Exercise 6.** Create an `eval` function that returns the evaluation of an expression if it is valid or the empty list if it is not"
   ]
  },
  {
   "cell_type": "code",
   "execution_count": 11,
   "id": "22ba9b54",
   "metadata": {},
   "outputs": [],
   "source": [
    "eval (Value x) = values (Value x)\n",
    "eval (Applicate o e1 e2) = [apply o x y | x <- eval e1, y <- eval e2, valid o x y]"
   ]
  },
  {
   "cell_type": "code",
   "execution_count": 12,
   "id": "b05fb4d3",
   "metadata": {},
   "outputs": [
    {
     "data": {
      "text/plain": [
       "[4]"
      ]
     },
     "metadata": {},
     "output_type": "display_data"
    },
    {
     "data": {
      "text/plain": [
       "[7]"
      ]
     },
     "metadata": {},
     "output_type": "display_data"
    },
    {
     "data": {
      "text/plain": [
       "[63]"
      ]
     },
     "metadata": {},
     "output_type": "display_data"
    },
    {
     "data": {
      "text/plain": [
       "[]"
      ]
     },
     "metadata": {},
     "output_type": "display_data"
    },
    {
     "data": {
      "text/plain": [
       "[2]"
      ]
     },
     "metadata": {},
     "output_type": "display_data"
    }
   ],
   "source": [
    "eval (Value 4)\n",
    "eval expr1\n",
    "eval expr2\n",
    "eval $ Applicate Sub (Value 3) (Value 4)\n",
    "eval $ Applicate Sub (Value 4) (Value 2)"
   ]
  },
  {
   "cell_type": "markdown",
   "id": "3f854cfa",
   "metadata": {},
   "source": [
    "**Exercise 7.** Create a `checksolution` function that given a list of numbers, an expression and a result checks if all the values of the expression are members of the list of numbers and if result of the expression is the result."
   ]
  },
  {
   "cell_type": "code",
   "execution_count": 13,
   "id": "117b1cd4",
   "metadata": {},
   "outputs": [],
   "source": [
    "-- Auxiliary function\n",
    "allInList :: Eq a => [a] -> [a] -> Bool\n",
    "allInList xs ys =  all (`elem` ys) xs\n",
    "\n",
    "checkSolution :: [Int] -> Expression -> Int -> Bool\n",
    "checkSolution ns e r = allInList (values e) ns && eval e == [r]"
   ]
  },
  {
   "cell_type": "code",
   "execution_count": 27,
   "id": "0c89b646",
   "metadata": {
    "scrolled": true
   },
   "outputs": [
    {
     "data": {
      "text/plain": [
       "(1 + 50) * (25 - 10)"
      ]
     },
     "metadata": {},
     "output_type": "display_data"
    },
    {
     "data": {
      "text/plain": [
       "True"
      ]
     },
     "metadata": {},
     "output_type": "display_data"
    },
    {
     "data": {
      "text/plain": [
       "False"
      ]
     },
     "metadata": {},
     "output_type": "display_data"
    },
    {
     "data": {
      "text/plain": [
       "True"
      ]
     },
     "metadata": {},
     "output_type": "display_data"
    },
    {
     "data": {
      "text/plain": [
       "False"
      ]
     },
     "metadata": {},
     "output_type": "display_data"
    }
   ],
   "source": [
    "e1 = Applicate Add (Value 1) (Value 50)\n",
    "e2 = Applicate Sub (Value 25) (Value 10)\n",
    "e  = Applicate Mul e1 e2\n",
    "e\n",
    "checkSolution [1, 50, 10, 25] e 765\n",
    "checkSolution [1, 50, 10, 25] e 764\n",
    "checkSolution [1, 50, 10, 25, 20] e 765\n",
    "checkSolution [1, 50, 10, 5, 20] e 765"
   ]
  }
 ],
 "metadata": {
  "kernelspec": {
   "display_name": "Haskell",
   "language": "haskell",
   "name": "haskell"
  },
  "language_info": {
   "codemirror_mode": "ihaskell",
   "file_extension": ".hs",
   "mimetype": "text/x-haskell",
   "name": "haskell",
   "pygments_lexer": "Haskell",
   "version": "9.4.5"
  }
 },
 "nbformat": 4,
 "nbformat_minor": 5
}

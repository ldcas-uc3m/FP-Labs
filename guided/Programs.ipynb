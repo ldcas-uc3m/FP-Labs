{
 "cells": [
  {
   "cell_type": "markdown",
   "id": "4845d641",
   "metadata": {},
   "source": [
    "### Tautology checker"
   ]
  },
  {
   "cell_type": "markdown",
   "id": "961479f3",
   "metadata": {},
   "source": [
    "Develop a function that decides if simple logical propositions are always true. Such propositions are called\n",
    "tautologies.\n",
    "\n",
    "Consider a language of propositions built up from basic values (False,True) and variables (A, B, ..., Z)\n",
    "using negation (¬), conjunction (^), implication (->), and parentheses. For example, the following are all\n",
    "propositions:\n",
    "\n",
    "p1= A ∧ ¬A\n",
    "\n",
    "p2= (A ∧ B) ⇒ A\n",
    "\n",
    "p3= A ⇒ (A ∧ B)\n",
    "\n",
    "p4= (A ∧ (A ⇒ B)) ⇒ B\n",
    "\n",
    "The meaning of the logical operators can be defined using truth tables, which give the resulting value\n",
    "for each combination of argument values:\n",
    "\n",
    "| A | B |\\|| A -> B|      |A  |\\| | A ^ ¬A |\n",
    "|:- | -:|-:| :-|          |:- | -: |-:      |\n",
    "|F | F |\\|| T|            | F  |\\| | T|\n",
    "|F | T |\\|| T|            | T  |\\| | T|\n",
    "|T | F |\\|| F|            |    |   | |\n",
    "|T | T |\\|| T|            |    |   | |\n",
    "\n",
    "\n"
   ]
  },
  {
   "cell_type": "markdown",
   "id": "0c0deb9f",
   "metadata": {},
   "source": [
    "### Resolution method:\n",
    "\n",
    "1) Define a type to represent propositions\n",
    "\n",
    "2) Define function **tautology** that input a proposition p and return True/False when p is/isn't a tautology\n",
    "\n",
    "3) The reasoning method is: extract all the variables in the proposition defining function **vars**, for example is p= A -> B it should return (A,B), remove duplicates defining a general function **rmdups** that removes duplicates from any list, create the rows of the truth table as a substitute list, for example, [('A',False),('B',False)], [('A', False), ('B', True)], [('A',True), ('B',False)], [('A', True), ('B', True)] defining function **substs**. Define first a function **bools** which, for example, will return all eight lists of three logical values:\n",
    "\n",
    "? bools 3 returns\n",
    "\n",
    "[[False, False, False],\n",
    "[False, False, True],\n",
    "[False, True, False],\n",
    "[False, True, True],\n",
    "[True, False, False],\n",
    "[True, False, True],\n",
    "[True, True, False],\n",
    "[True, True, True]]\n",
    "\n",
    "\n",
    "4) Define a type for defining substitute lists as list of tuples (Char,Bool). Define function **find** that return the logical value of a variable in a substitute list. Define function **eval** that given a proposition and a substitute list returns the evaluation of the proposition according with the values of its variables. \n"
   ]
  },
  {
   "cell_type": "code",
   "execution_count": 1,
   "id": "5f838911",
   "metadata": {},
   "outputs": [
    {
     "data": {
      "text/plain": [
       "False"
      ]
     },
     "metadata": {},
     "output_type": "display_data"
    },
    {
     "data": {
      "text/plain": [
       "False"
      ]
     },
     "metadata": {},
     "output_type": "display_data"
    },
    {
     "data": {
      "text/plain": [
       "True"
      ]
     },
     "metadata": {},
     "output_type": "display_data"
    },
    {
     "data": {
      "text/plain": [
       "\"ABA\""
      ]
     },
     "metadata": {},
     "output_type": "display_data"
    },
    {
     "data": {
      "text/plain": [
       "[[False],[True]]"
      ]
     },
     "metadata": {},
     "output_type": "display_data"
    },
    {
     "data": {
      "text/plain": [
       "[[False,False],[False,True],[True,False],[True,True]]"
      ]
     },
     "metadata": {},
     "output_type": "display_data"
    },
    {
     "data": {
      "text/plain": [
       "[[False,False,False],[False,False,True],[False,True,False],[False,True,True],[True,False,False],[True,False,True],[True,True,False],[True,True,True]]"
      ]
     },
     "metadata": {},
     "output_type": "display_data"
    },
    {
     "data": {
      "text/plain": [
       "[[('A',False),('B',False)],[('A',False),('B',True)],[('A',True),('B',False)],[('A',True),('B',True)]]"
      ]
     },
     "metadata": {},
     "output_type": "display_data"
    },
    {
     "data": {
      "text/plain": [
       "False"
      ]
     },
     "metadata": {},
     "output_type": "display_data"
    },
    {
     "data": {
      "text/plain": [
       "True"
      ]
     },
     "metadata": {},
     "output_type": "display_data"
    },
    {
     "data": {
      "text/plain": [
       "False"
      ]
     },
     "metadata": {},
     "output_type": "display_data"
    },
    {
     "data": {
      "text/plain": [
       "True"
      ]
     },
     "metadata": {},
     "output_type": "display_data"
    }
   ],
   "source": [
    "-- Tautology checker\n",
    "\n",
    "-- A proposition can be a const value True o False, a variable named by a char, or can be generated from\n",
    "-- logic operators not, and and imply (we omit or in our definition)\n",
    "data Prop = Const Bool| Var Char | Not Prop | And Prop Prop| Imply Prop Prop deriving Show\n",
    "\n",
    "p1 :: Prop\n",
    "p1 = And (Var 'A') (Not (Var 'A'))\n",
    "\n",
    "p2 :: Prop\n",
    "p2 = Imply (And (Var 'A') (Var 'B')) (Var 'A')\n",
    "\n",
    "p3 :: Prop\n",
    "p3 = Imply (Var 'A') (And (Var 'A') (Var 'B'))\n",
    "\n",
    "p4 :: Prop\n",
    "p4 = Imply (And (Var 'A') (Imply (Var 'A') (Var 'B'))) (Var 'B')\n",
    "\n",
    "-- To evaluate a proposition to a logical value we need to know the value of each of its variables. \n",
    "-- We declare a substitution as a lookup table that associates variables names to logical values\n",
    "-- Ex. the substitution [('A',False), ('B',True)] assigns A=False and B=True\n",
    "type Assoc k v = [(k,v)]\n",
    "type Subst = Assoc Char Bool\n",
    "\n",
    "find :: Eq k => k -> Assoc k v -> v\n",
    "find k t = head [v | (k',v) <- t, k == k']\n",
    "\n",
    "find 'A' [('A',False), ('B',True)]\n",
    "\n",
    "-- A function that evaluates a proposition given a substitution for its variables can now be defined by\n",
    "-- pattern matching on the five possible forms that the proposition can have:\n",
    "eval :: Subst -> Prop -> Bool\n",
    "eval _ (Const b)      = b\n",
    "eval s (Var x)        = find x s\n",
    "eval s (Not p)        = not (eval s p)\n",
    "eval s (And p q)      = eval s p && eval s q\n",
    "eval s (Imply p q)    = eval s p <= eval s q\n",
    "-- the logical implication operator is implemented by the <= ordering on logical values.\n",
    "-- False < True and the only False in the implication A -> B is when (A=True, B=False)\n",
    "-- Logical implication A-> B is false only when (A=True and B=Fasle), so it's equivalent to say A <= B\n",
    "True <= False\n",
    "False <= True \n",
    "\n",
    "{-To decide if a proposition is a tautology, we will consider all possible substitutions for the variables\n",
    "that it contains. First of all, we define a function that returns a list of all the variables in a proposition.\n",
    "For example, vars p2 = [’A’,’B’,’A’]. Note that this function does not remove duplicates, which will\n",
    "be done separately later on.\n",
    "-}\n",
    "vars :: Prop -> [Char]\n",
    "vars (Const _)    = []\n",
    "vars (Var x)      = [x]\n",
    "vars (Not p)      = vars p\n",
    "vars (And p q)    = vars p ++ vars q\n",
    "vars (Imply p q)  = vars p ++ vars q\n",
    "\n",
    "vars p2\n",
    "\n",
    "-- Function to remove duplicates from a list\n",
    "rmdups :: Eq a => [a] -> [a]\n",
    "rmdups []   =  []\n",
    "rmdups (x:xs) = x : filter (/= x) (rmdups xs)\n",
    "\n",
    "{- The key to generating substitutions is producing lists of logical values of a given length. Hence we seek\n",
    "to define a function bools :: Int -> [[Bool]] which, for example, will return all eight lists of three\n",
    "logical values:\n",
    "> bools 3\n",
    "[[False, False, False],\n",
    "[False, False, True],\n",
    "[False, True, False],\n",
    "[False, True, True],\n",
    "[True, False, False],\n",
    "[True, False, True],\n",
    "[True, True, False],\n",
    "[True, True, True]]\n",
    "-}\n",
    "\n",
    "bools :: Int -> [[Bool]]\n",
    "bools 0   = [[]]\n",
    "bools n   = map (False:) bss ++ map (True:) bss\n",
    "     where bss = bools (n-1)\n",
    "\n",
    "bools 1\n",
    "bools 2\n",
    "bools 3\n",
    "\n",
    "{- Function that generate all possible possible substitutions for a proposition by \n",
    "extracting its variables, removing duplicates from this list, \n",
    "generating all possible lists of logical values for this many variables, and then \n",
    "zipping the list of variables with each of the resulting lists:\n",
    "-}\n",
    "\n",
    "substs  :: Prop -> [Subst]\n",
    "substs p = map (zip vs) (bools (length vs))\n",
    "           where vs = rmdups (vars p)\n",
    "\n",
    "substs p2\n",
    "\n",
    "{- Finally, we define a function that decides if a proposition is a tautology, by simply checking if it\n",
    "evaluates to True for all possible substitutions:\n",
    "-}\n",
    "\n",
    "isTaut :: Prop -> Bool\n",
    "isTaut p = and [eval s p | s <- substs p]\n",
    "\n",
    "isTaut p1\n",
    "isTaut p2\n",
    "isTaut p3\n",
    "isTaut p4\n",
    "           \n",
    "          "
   ]
  },
  {
   "cell_type": "code",
   "execution_count": 9,
   "id": "62367d4b",
   "metadata": {},
   "outputs": [
    {
     "data": {
      "text/plain": [
       "A ^ ¬A"
      ]
     },
     "metadata": {},
     "output_type": "display_data"
    },
    {
     "data": {
      "text/plain": [
       "A ^ B -> A"
      ]
     },
     "metadata": {},
     "output_type": "display_data"
    },
    {
     "data": {
      "text/plain": [
       "A -> A ^ B"
      ]
     },
     "metadata": {},
     "output_type": "display_data"
    },
    {
     "data": {
      "text/plain": [
       "A ^ A -> B -> B"
      ]
     },
     "metadata": {},
     "output_type": "display_data"
    },
    {
     "data": {
      "text/plain": [
       "And (Var 'A') (Not (Var 'A'))"
      ]
     },
     "metadata": {},
     "output_type": "display_data"
    },
    {
     "data": {
      "text/plain": [
       "Imply (And (Var 'A') (Var 'B')) (Var 'A')"
      ]
     },
     "metadata": {},
     "output_type": "display_data"
    },
    {
     "data": {
      "text/plain": [
       "Imply (Var 'A') (And (Var 'A') (Var 'B'))"
      ]
     },
     "metadata": {},
     "output_type": "display_data"
    },
    {
     "data": {
      "text/plain": [
       "Imply (And (Var 'A') (Imply (Var 'A') (Var 'B'))) (Var 'B')"
      ]
     },
     "metadata": {},
     "output_type": "display_data"
    }
   ],
   "source": [
    "-- Redefine the show methods of Prop\n",
    "data Prop' = Const' Bool| Var' Char | Not' Prop' | And' Prop' Prop'| Imply' Prop' Prop' \n",
    "\n",
    "p1' = And' (Var' 'A') (Not' (Var' 'A'))\n",
    "\n",
    "p2' = Imply' (And' (Var' 'A') (Var' 'B')) (Var' 'A')\n",
    "\n",
    "p3' = Imply' (Var' 'A') (And' (Var' 'A') (Var' 'B'))\n",
    "\n",
    "p4' = Imply' (And' (Var' 'A') (Imply' (Var' 'A') (Var' 'B'))) (Var' 'B')\n",
    "\n",
    "instance Show Prop' where\n",
    "    show (Const' a) = show a\n",
    "    show (Var' a) = [a] -- if you put (show a) return 'A'\n",
    "    show (Not' p) =  \"¬\" ++ show p \n",
    "    show (And' p1 p2) = show p1 ++ \" ^ \" ++ show p2\n",
    "    show (Imply' p1 p2) = show p1 ++ \" -> \" ++ show p2 \n",
    "\n",
    "{- with parentheses\n",
    "    show (Const' a) = show a\n",
    "    show (Var' a) = [a] -- if you put (show a) return 'A'\n",
    "    show (Not' p) = \"~(\" ++ show p ++ \")\"\n",
    "    show (And' p1 p2) = \"(\" ++ show p1 ++ \") ^ (\" ++ show p2 ++ \")\"\n",
    "    show (Imply' p1 p2) = \"(\" ++ show p1 ++ \") -> (\" ++ show p2 ++ \")\"\n",
    "-}\n",
    "\n",
    "\n",
    "p1'\n",
    "p2'\n",
    "p3'\n",
    "p4'\n",
    "\n",
    "-- Without redefining show it would be:\n",
    "p1\n",
    "p2 \n",
    "p3 \n",
    "p4"
   ]
  },
  {
   "cell_type": "markdown",
   "id": "7b6dd209",
   "metadata": {},
   "source": [
    "### Binary string transmitter"
   ]
  },
  {
   "cell_type": "markdown",
   "id": "b17c6c5b",
   "metadata": {},
   "source": [
    "Consider the problem of simulating the transmission of a string of characters in low-level form as a list of binary digits.\n",
    "\n",
    "For example, the binary number 1101 can be understood as follows:\n",
    "1101 = (2^3 * 1) +(2^2 * 1) +(2^1 * 0) +(2^0 * 1) = (8 * 1) +(4 * 1) +(2 * 0) +(1 * 1).\n",
    "That is, 1101 represents the sum of the products of the weights 8, 4, 2, 1 with the bits 1, 1, 0, 1, which\n",
    "evaluates to the integer 13.\n",
    "\n",
    "To simplify the definition of certain functions, we assume for the remainder of this example that binary\n",
    "numbers are written in reverse order to normal. For example, 1101 would now be written as 1011, with\n",
    "successive bits as we move to the right increasing in weight by a factor of two:\n",
    "1011 = (1 * 1) +(2 * 0) +(4 * 1) +(8 * 1)\n",
    "\n"
   ]
  },
  {
   "cell_type": "markdown",
   "id": "9b28bc62",
   "metadata": {},
   "source": [
    "### Resolution method:\n",
    "\n",
    "We have to convert each char in the string into its Unicode number using function ord (we need Data.Char library). Convert the number into a bit, defining function **int2bin**. Truncates or extends a binary number to make it precisely eight bits, defining function **make8**. Encodes a string of characters as a list of bits by\n",
    "converting each character into a Unicode number, converting each such number into an eight-bit binary number, and\n",
    "concatenating all these numbers together to produce a list of bits, defining function **encode**.\n",
    "For example, ? encode \"abc\" will return [1,0,0,0,0,1,1,0,0,1,0,0,0,1,1,0,1,1,0,0,0,1,1,0] (ord a = 97, int2bin 97 = [1,0,0,0,0,1,1], make8 (int2bin 97) = [1,0,0,0,0,1,1,0,0], repeat the same with 'b' and 'c').\n",
    "\n",
    "To decode a list of bits produced using encode define function **encode**. First define a function **chop8** that chops such a list up into eight-bit binary numbers. For example, chop8 [1,0,1,0,1,0,1,0,1,1,1,1,1,1,1,1,0,0,0,0,0,0,0,0,1,1,1] returns\n",
    "[[1,0,1,0,1,0,1,0],[1,1,1,1,1,1,1,1],[0,0,0,0,0,0,0,0],[1,1,1]] Convert each eight-bit binary number into an integer, defining **bin2int**. Transform the Unicode number into a char using function char and concatenate the result.\n",
    "\n",
    "Finally, define the function **transmit** as *transmit = decode . channel . encode*, where function **channel** is just the **id** function. \n",
    "\n",
    "Start by defining a type Bit as a synonym of integer. Then define functions **bin2int** and **int2bin**. Afterward define functions **make8**, **endode**, **chop8**, **decode**, **channel** and **transmit**.\n",
    "\n",
    "? transmit \"higher-order functions are easy\" returns \"higher-order functions are easy\""
   ]
  },
  {
   "cell_type": "code",
   "execution_count": 19,
   "id": "99379e16",
   "metadata": {},
   "outputs": [
    {
     "data": {
      "text/plain": [
       "13"
      ]
     },
     "metadata": {},
     "output_type": "display_data"
    },
    {
     "data": {
      "text/plain": [
       "13"
      ]
     },
     "metadata": {},
     "output_type": "display_data"
    },
    {
     "data": {
      "text/plain": [
       "[1,1]"
      ]
     },
     "metadata": {},
     "output_type": "display_data"
    },
    {
     "data": {
      "text/plain": [
       "1"
      ]
     },
     "metadata": {},
     "output_type": "display_data"
    },
    {
     "data": {
      "text/plain": [
       "1"
      ]
     },
     "metadata": {},
     "output_type": "display_data"
    },
    {
     "data": {
      "text/plain": [
       "[1,1]"
      ]
     },
     "metadata": {},
     "output_type": "display_data"
    },
    {
     "data": {
      "text/plain": [
       "[1,0,1,1]"
      ]
     },
     "metadata": {},
     "output_type": "display_data"
    },
    {
     "data": {
      "text/plain": [
       "1"
      ]
     },
     "metadata": {},
     "output_type": "display_data"
    },
    {
     "data": {
      "text/plain": [
       "6"
      ]
     },
     "metadata": {},
     "output_type": "display_data"
    },
    {
     "data": {
      "text/plain": [
       "[1,0,1,1]"
      ]
     },
     "metadata": {},
     "output_type": "display_data"
    },
    {
     "data": {
      "text/plain": [
       "[0,1,1]"
      ]
     },
     "metadata": {},
     "output_type": "display_data"
    },
    {
     "data": {
      "text/plain": [
       "[0,1,1]"
      ]
     },
     "metadata": {},
     "output_type": "display_data"
    },
    {
     "data": {
      "text/plain": [
       "[1,0,1,1,0,0,0,0]"
      ]
     },
     "metadata": {},
     "output_type": "display_data"
    },
    {
     "data": {
      "text/plain": [
       "97"
      ]
     },
     "metadata": {},
     "output_type": "display_data"
    },
    {
     "data": {
      "text/plain": [
       "[1,0,0,0,0,1,1]"
      ]
     },
     "metadata": {},
     "output_type": "display_data"
    },
    {
     "data": {
      "text/plain": [
       "[1,0,0,0,0,1,1,0,0,1,0,0,0,1,1,0,1,1,0,0,0,1,1,0]"
      ]
     },
     "metadata": {},
     "output_type": "display_data"
    },
    {
     "data": {
      "text/plain": [
       "[[1,0,1,0,1,0,1,0],[1,1,1,1,1,1,1,1],[0,0,0,0,0,0,0,0],[1,1,1]]"
      ]
     },
     "metadata": {},
     "output_type": "display_data"
    },
    {
     "data": {
      "text/html": [
       "<style>/* Styles used for the Hoogle display in the pager */\n",
       ".hoogle-doc {\n",
       "display: block;\n",
       "padding-bottom: 1.3em;\n",
       "padding-left: 0.4em;\n",
       "}\n",
       ".hoogle-code {\n",
       "display: block;\n",
       "font-family: monospace;\n",
       "white-space: pre;\n",
       "}\n",
       ".hoogle-text {\n",
       "display: block;\n",
       "}\n",
       ".hoogle-name {\n",
       "color: green;\n",
       "font-weight: bold;\n",
       "}\n",
       ".hoogle-head {\n",
       "font-weight: bold;\n",
       "}\n",
       ".hoogle-sub {\n",
       "display: block;\n",
       "margin-left: 0.4em;\n",
       "}\n",
       ".hoogle-package {\n",
       "font-weight: bold;\n",
       "font-style: italic;\n",
       "}\n",
       ".hoogle-module {\n",
       "font-weight: bold;\n",
       "}\n",
       ".hoogle-class {\n",
       "font-weight: bold;\n",
       "}\n",
       ".get-type {\n",
       "color: green;\n",
       "font-weight: bold;\n",
       "font-family: monospace;\n",
       "display: block;\n",
       "white-space: pre-wrap;\n",
       "}\n",
       ".show-type {\n",
       "color: green;\n",
       "font-weight: bold;\n",
       "font-family: monospace;\n",
       "margin-left: 1em;\n",
       "}\n",
       ".mono {\n",
       "font-family: monospace;\n",
       "display: block;\n",
       "}\n",
       ".err-msg {\n",
       "color: red;\n",
       "font-style: italic;\n",
       "font-family: monospace;\n",
       "white-space: pre;\n",
       "display: block;\n",
       "}\n",
       "#unshowable {\n",
       "color: red;\n",
       "font-weight: bold;\n",
       "}\n",
       ".err-msg.in.collapse {\n",
       "padding-top: 0.7em;\n",
       "}\n",
       ".highlight-code {\n",
       "white-space: pre;\n",
       "font-family: monospace;\n",
       "}\n",
       ".suggestion-warning { \n",
       "font-weight: bold;\n",
       "color: rgb(200, 130, 0);\n",
       "}\n",
       ".suggestion-error { \n",
       "font-weight: bold;\n",
       "color: red;\n",
       "}\n",
       ".suggestion-name {\n",
       "font-weight: bold;\n",
       "}\n",
       "</style><span class='get-type'>chr :: Int -> Char</span>"
      ],
      "text/plain": [
       "chr :: Int -> Char"
      ]
     },
     "metadata": {},
     "output_type": "display_data"
    },
    {
     "data": {
      "text/plain": [
       "[0,0,0,1,0,1,1,0,1,0,1,0,0,1,1,0,0,0,1,1,0,1,1,0,0,0,1,1,0,1,1,0,1,1,1,1,0,1,1,0]"
      ]
     },
     "metadata": {},
     "output_type": "display_data"
    },
    {
     "data": {
      "text/plain": [
       "[[0,0,0,1,0,1,1,0],[1,0,1,0,0,1,1,0],[0,0,1,1,0,1,1,0],[0,0,1,1,0,1,1,0],[1,1,1,1,0,1,1,0]]"
      ]
     },
     "metadata": {},
     "output_type": "display_data"
    },
    {
     "data": {
      "text/plain": [
       "'h'"
      ]
     },
     "metadata": {},
     "output_type": "display_data"
    },
    {
     "data": {
      "text/plain": [
       "'e'"
      ]
     },
     "metadata": {},
     "output_type": "display_data"
    },
    {
     "data": {
      "text/plain": [
       "\"hello\""
      ]
     },
     "metadata": {},
     "output_type": "display_data"
    },
    {
     "data": {
      "text/plain": [
       "\"higher-order functions are easy\""
      ]
     },
     "metadata": {},
     "output_type": "display_data"
    }
   ],
   "source": [
    "--Binary string transmitter\n",
    "import Data.Char\n",
    "\n",
    "-- we declare a type for bits as a synonym for the type of integers:\n",
    "type Bit = Int\n",
    "\n",
    "-- A binary number, represented as a list of bits, can be converted into an integer by simply evaluating \n",
    "--the appropriate weighted sum:\n",
    "\n",
    "bin2int' :: [Bit] -> Int\n",
    "bin2int' bits = sum [w*b | (w,b) <- zip weights bits]\n",
    "     where weights = iterate (*2) 1\n",
    "      \n",
    "{-The higher-order library function iterate produces an infinite list by applying a function an increasing\n",
    "number of times to a value:\n",
    "iterate f x = [x, f x, f (f x), f (f (f x)), ...]     \n",
    "\n",
    "Hence the expression iterate (*2) 1 in the definition of bin2int produces the list of weights\n",
    "[1,2,4,8,...], which is then used to compute the weighted sum by means of a list comprehension. For\n",
    "example:\n",
    "> bin2int [1,0,1,1]\n",
    "13\n",
    "-}\n",
    "\n",
    "bin2int' [1,0,1,1] \n",
    "\n",
    "{-There is a simpler way to define bin2int with the aid of some algebra\n",
    "(1 * a) + (2 * b) + (4 * c) + (8 * d)\n",
    "can be restructured as follows:\n",
    "= a + (2 * b) + (4 * c) + (8 * d)\n",
    "= a + 2 * (b + (2 * c) + (4 * d))\n",
    "= a + 2 * (b + 2 * (c + (2 * d)))\n",
    "= a + 2 * (b + 2 * (c + 2 * (d + 2 * 0)))\n",
    "-}\n",
    "\n",
    "bin2int :: [Bit] -> Int\n",
    "bin2int = foldr (\\x y -> x + 2*y) 0\n",
    "\n",
    "bin2int [1,0,1,1]\n",
    "\n",
    "-- Funtion that converts an integer into a binary number\n",
    "int2bin :: Int -> [Bit]\n",
    "int2bin 0 = []\n",
    "int2bin n = n `mod` 2 : int2bin (n `div`  2)\n",
    "\n",
    "int2bin 3\n",
    "mod 3 2\n",
    "div 3 2\n",
    "1: int2bin 1\n",
    "\n",
    "int2bin 13\n",
    "mod 13 2\n",
    "div 13 2\n",
    "1: int2bin 6\n",
    "\n",
    "int2bin 6\n",
    "0: int2bin 3\n",
    "\n",
    "-- We will ensure that all our binary numbers have the same length, in this case eight bits, by using a\n",
    "-- function make8 that truncates or extends a binary number as appropriate to make it precisely eight bits:\n",
    "\n",
    "make8 :: [Bit] -> [Bit]\n",
    "--make8 bits = take 8 (bits ++ repeat 0) --not curried version\n",
    "make8 = take 8 . (++ repeat 0)\n",
    "\n",
    "\n",
    "{-The library function repeat :: a -> [a] produces an infinite list of copies of a value, but lazy\n",
    "evaluation ensures that only as many elements as required by the context will actually be produced. For\n",
    "example:> make8 [1,0,1,1]\n",
    "[1,0,1,1,0,0,0,0]\n",
    "-}\n",
    "\n",
    "make8 [1,0,1,1]\n",
    "\n",
    " {-We can now define a function that encodes a string of characters as a list of bits by converting each\n",
    "character into a Unicode number, converting each such number into an eight-bit binary number, and\n",
    "concatenating each of these numbers together to produce a list of bits. Using the higher-order functions\n",
    "map and composition, this conversion can be implemented as follows:\n",
    "-}\n",
    "encode :: String -> [Bit]\n",
    "encode = concat . map (make8 . int2bin . ord)\n",
    "\n",
    "-- :t concat\n",
    "-- concat [[1], [0,1,1], [3,4]] result [1,0,1,2,3,4]\n",
    "\n",
    "ord 'a'\n",
    "int2bin (ord 'a')\n",
    "\n",
    "encode \"abc\"\n",
    "-- encode \"a\"\n",
    "-- encode \"b\"\n",
    "-- encode \"c\"\n",
    "\n",
    "{-To decode a list of bits produced using encode, we first define a function chop8 that chops such a list\n",
    "up into eight-bit binary numbers:-}\n",
    "\n",
    "chop8 :: [Bit] -> [[Bit]]\n",
    "chop8 []     = []\n",
    "chop8 bits   = take 8 bits : chop8 (drop 8 bits)\n",
    "\n",
    "chop8 [1,0,1,0,1,0,1,0,1,1,1,1,1,1,1,1,0,0,0,0,0,0,0,0,1,1,1]\n",
    "-- result [[1,0,1,0,1,0,1,0],[1,1,1,1,1,1,1,1],[0,0,0,0,0,0,0,0],[1,1,1]]\n",
    "-- drop 3 [1..10] result [4,5,6,7,8,9,10]\n",
    "-- take 3 [1..10] result [1,2,3] \n",
    "\n",
    "{-It is now easy to define a function that decodes a list of bits as a string of characters by chopping the list\n",
    "up, and converting each resulting binary number into a Unicode number and then a character:-}\n",
    "decode :: [Bit] -> String\n",
    "decode = map (chr . bin2int) . chop8\n",
    "\n",
    ":t chr -- (chr) :: Int -> Char\n",
    "\n",
    "encode \"hello\" --result [0,0,0,1,0,1,1,0,1,0,1,0,0,1,1,0,0,0,1,1,0,1,1,0,0,0,1,1,0,1,1,0,1,1,1,1,0,1,1,0]\n",
    "chop8 [0,0,0,1,0,1,1,0,1,0,1,0,0,1,1,0,0,0,1,1,0,1,1,0,0,0,1,1,0,1,1,0,1,1,1,1,0,1,1,0]\n",
    "-- result [[0,0,0,1,0,1,1,0],[1,0,1,0,0,1,1,0],[0,0,1,1,0,1,1,0],[0,0,1,1,0,1,1,0],[1,1,1,1,0,1,1,0]]\n",
    "(chr . bin2int) [0,0,0,1,0,1,1,0]\n",
    "(chr . bin2int) [1,0,1,0,0,1,1,0]\n",
    "\n",
    "decode [0,0,0,1,0,1,1,0,1,0,1,0,0,1,1,0,0,0,1,1,0,1,1,0,0,0,1,1,0,1,1,0,1,1,1,1,0,1,1,0]\n",
    "\n",
    "{-Finally, we define a function transmit that simulates the transmission of a string of characters as a list\n",
    "of bits, using a perfect communication channel that we model using the identity function:-}\n",
    "\n",
    "transmit :: String -> String\n",
    "transmit = decode . channel . encode\n",
    "\n",
    "channel :: [Bit] -> [Bit]\n",
    "channel = id\n",
    "\n",
    "transmit \"higher-order functions are easy\"\n"
   ]
  },
  {
   "cell_type": "markdown",
   "id": "cafefaa1",
   "metadata": {},
   "source": [
    "### Voting algorithms"
   ]
  },
  {
   "cell_type": "markdown",
   "id": "ca5d48c2",
   "metadata": {},
   "source": [
    "We consider two different algorithms for deciding the winner in an election: the simple first past the post system, and the more refined alternative vote system.\n",
    "\n",
    "First past the post. \n",
    "In this system, each person has one vote, and the candidate with the largest number of votes is declared\n",
    "the winner. For example, if we define\n",
    "votes :: [String]\n",
    "votes = [\"Red\", \"Blue\", \"Green\", \"Blue\", \"Blue\", \"Red\"]\n",
    "then candidate \"Green\" has one vote, \"Red\" has two votes, while \"Blue\" has three votes and is hence the\n",
    "winner.\n",
    "\n",
    "Alternative vote. In this voting system, each person can vote for as many or as few candidates as they wish, listing them in preference order on their ballot (1st choice, 2nd choice, and so on)."
   ]
  },
  {
   "cell_type": "markdown",
   "id": "49914549",
   "metadata": {},
   "source": [
    "### Resolution method:\n",
    "\n",
    "#### First past the post\n",
    "\n",
    "votes = [\"Red\", \"Blue\", \"Green\", \"Blue\", \"Blue\", \"Red\"]\n",
    "\n",
    "1) Define a function **count** that counts the number of times that a given value occurs in a list. For example, \n",
    "\n",
    "? count \"Red\" votes returns 2\n",
    "\n",
    "2) Define a function that removes duplicate values from a list\n",
    "\n",
    "3) Define a function **result** that returns the result of a first-past-the-post election in increasing order of the number of votes received. For example, \n",
    "\n",
    "? result votes   returns [(1,\"Green\"), (2,\"Red\"), (3,\"Blue\")]\n",
    "\n",
    "4) Define function **winner**\n",
    "\n",
    "\n",
    "#### Alternative vote\n",
    "\n",
    "ballots = [[\"Red\", \"Green\"],\n",
    "           [\"Blue\"],\n",
    "           [\"Green\", \"Red\", \"Blue\"],\n",
    "           [\"Blue\", \"Green\", \"Red\"],\n",
    "           [\"Green\"]]\n",
    "           \n",
    "The first ballot has \"Red\" as 1st choice and \"Green\" as 2nd, while the second has \"Blue\" as the only\n",
    "choice, and so on. Now let us consider how the winner is decided for this example. First of all, \"Red\"\n",
    "has the smallest number of 1st-choice votes (just one), and is therefore eliminated:\n",
    "\n",
    "[[\"Green\"],\n",
    "[\"Blue\"],\n",
    "[\"Green\", \"Blue\"],\n",
    "[\"Blue\", \"Green\"],\n",
    "[\"Green\"]]\n",
    "\n",
    "Within these revised ballots, candidate \"Blue\" now has the smallest number of 1st-choice votes (just\n",
    " two), and is therefore also eliminated:\n",
    " \n",
    "[[\"Green\"],\n",
    "[],\n",
    "[\"Green\"],\n",
    "[\"Green\"],\n",
    "[\"Green\"]]\n",
    "\n",
    "After removing the second ballot, which is now empty, \"Green\" is the only remaining candidate and is\n",
    "hence the winner.\n",
    "\n",
    "1) Using filter and map, define functions **rmempty** that remove empty ballots, and **elim** that eliminate a given candidate from each ballot. Define such functions in a general manner rather than just for strings. \n",
    "\n",
    "2) In turn, using the function result from the previous section, define a function **ranks** that ranks the 1st-choice candidates in each ballot in increasing order of the number of such votes that were received\n",
    "\n",
    "? rank ballots  returns [\"Red\", \"Blue\", \"Green\"]\n",
    "\n",
    "3) Finally, define a recursive function that implements the alternative vote algorithm **winner'** \n",
    "           \n",
    "\n",
    "\n"
   ]
  },
  {
   "cell_type": "code",
   "execution_count": 3,
   "id": "1b805399",
   "metadata": {},
   "outputs": [
    {
     "data": {
      "text/plain": [
       "[\"Red\",\"Blue\",\"Green\"]"
      ]
     },
     "metadata": {},
     "output_type": "display_data"
    },
    {
     "data": {
      "text/plain": [
       "[[\"Green\"],[\"Blue\"],[\"Green\",\"Blue\"],[\"Blue\",\"Green\"],[\"Green\"]]"
      ]
     },
     "metadata": {},
     "output_type": "display_data"
    },
    {
     "data": {
      "text/plain": [
       "[\"Blue\",\"Green\"]"
      ]
     },
     "metadata": {},
     "output_type": "display_data"
    },
    {
     "data": {
      "text/plain": [
       "[[\"Green\"],[],[\"Green\"],[\"Green\"],[\"Green\"]]"
      ]
     },
     "metadata": {},
     "output_type": "display_data"
    },
    {
     "data": {
      "text/plain": [
       "[\"Green\"]"
      ]
     },
     "metadata": {},
     "output_type": "display_data"
    },
    {
     "data": {
      "text/plain": [
       "\"Green\""
      ]
     },
     "metadata": {},
     "output_type": "display_data"
    }
   ],
   "source": [
    "{-In this system, each person has one vote, and the candidate with the largest number of votes is declared\n",
    "the winner. For example, if we define-}\n",
    "import Data.List\n",
    "\n",
    "votes :: [String]\n",
    "votes = [\"Red\", \"Blue\", \"Green\", \"Blue\", \"Blue\", \"Red\"]\n",
    "\n",
    "\n",
    "{-then candidate \"Green\" has one vote, \"Red\" has two votes, while \"Blue\" has three votes and is hence the\n",
    "winner. Rather than making our implementation specific to candidate names represented as strings, we\n",
    "exploit the class system of Haskell to define our functions in a more general manner.\n",
    "First of all, we define a function that counts the number of times that a given value occurs in a list, for\n",
    "any type whose values can be compared for equality. This function could be defined using recursion, but a\n",
    "simpler definition is possible using higher-order functions by selecting all elements from the list that are\n",
    "equal to the target value, and taking the length of the resulting list:\n",
    "-}\n",
    "\n",
    "count :: Eq a => a -> [a] -> Int\n",
    "count x = length . filter (== x)\n",
    "\n",
    "-- count \"Red\" votes  result 2\n",
    "\n",
    "-- The higher-order function filter can also be used to define a function that removes duplicate values from a list:\n",
    "\n",
    "rmdups :: Eq a => [a] -> [a]\n",
    "rmdups []       = []\n",
    "rmdups (x:xs)   = x : filter (/= x) (rmdups xs)\n",
    "\n",
    "-- filter (/= 1) [1,2,3,1,1] result [2,3]\n",
    "\n",
    "-- rmdups votes   result [\"Red\", \"Blue\", \"Green\"]\n",
    "\n",
    "{- The functions count and rmdups can then be combined using a list comprehension to define a function\n",
    "that returns the result of a first-past-the-post election in increasing order of the number of votes received:-}\n",
    "result :: Ord a => [a] -> [(Int,a)]\n",
    "result vs = sort [(count v vs, v) | v <- rmdups vs]\n",
    "\n",
    "-- > result votes   result [(1,\"Green\"), (2,\"Red\"), (3,\"Blue\")]\n",
    "\n",
    "{-The sorting function sort :: Ord a => [a] -> [a] used above is provided in the library Data.List .\n",
    "Note that because pairs are ordered lexicographically, candidates with the same number of votes are\n",
    "returned in order of the candidate name by result. Finally, the winner of an election can now be obtained\n",
    "simply by selecting the second component of the last result:-}\n",
    "\n",
    "winner :: Ord a => [a] -> a\n",
    "winner = snd . last . result\n",
    "\n",
    "{-Alternative vote.\n",
    "In this voting system, each person can vote for as many or as few candidates as they wish, listing them in\n",
    "preference order on their ballot (1st choice, 2nd choice, and so on). To decide the winner, any empty\n",
    "ballots are first removed, then the candidate with the smallest number of 1st-choice votes is eliminated\n",
    "from the ballots, and same process is repeated until only one candidate remains, who is then declared the\n",
    "winner. For example, if we define-}\n",
    "\n",
    "ballots :: [[String]]\n",
    "ballots = [[\"Red\", \"Green\"],\n",
    "           [\"Blue\"],\n",
    "           [\"Green\", \"Red\", \"Blue\"],\n",
    "           [\"Blue\", \"Green\", \"Red\"],\n",
    "           [\"Green\"]]\n",
    "\n",
    "{-then the first ballot has \"Red\" as 1st choice and \"Green\" as 2nd, while the second has \"Blue\" as the only\n",
    "choice, and so on. Now let us consider how the winner is decided for this example. First of all, \"Red\"\n",
    "has the smallest number of 1st-choice votes (just one), and is therefore eliminated:\n",
    "[[\"Green\"],\n",
    "[\"Blue\"],\n",
    "[\"Green\", \"Blue\"],\n",
    "[\"Blue\", \"Green\"],\n",
    "[\"Green\"]]\n",
    "\n",
    "Within these revised ballots, candidate \"Blue\" now has the smallest number of 1st-choice votes (just\n",
    " two), and is therefore also eliminated:\n",
    "[[\"Green\"],\n",
    "[],\n",
    "[\"Green\"],\n",
    "[\"Green\"],\n",
    "[\"Green\"]]\n",
    "After removing the second ballot, which is now empty, \"Green\" is the only remaining candidate and is\n",
    "hence the winner.-}\n",
    "\n",
    "{-Using filter and map , it is easy to define functions that remove empty ballots, and eliminate a given\n",
    "candidate from each ballot:-}\n",
    "\n",
    "rmempty :: Eq a => [[a]] -> [[a]]\n",
    "rmempty = filter (/= [])\n",
    "\n",
    "elim :: Eq a => a -> [[a]] -> [[a]]\n",
    "elim x = map (filter (/= x))\n",
    "\n",
    "{-As before, we define such functions in a general manner rather than just for strings. In turn, using the\n",
    "function result from the previous section, we can define a function that ranks the 1st-choice candidates\n",
    "in each ballot in increasing order of the number of such votes that were received:-}\n",
    "\n",
    "rank :: Ord a => [[a]] -> [a]\n",
    "rank = map snd . result . map head\n",
    "\n",
    "-- map head ballots  return [\"Red\",\"Blue\",\"Green\",\"Blue\",\"Green\"]\n",
    "-- result [\"Red\",\"Blue\",\"Green\",\"Blue\",\"Green\"] return [(1,\"Red\"),(2,\"Blue\"),(2,\"Green\")]\n",
    "-- map snd [(1,\"Red\"),(2,\"Blue\"),(2,\"Green\")]\n",
    "\n",
    "-- rank ballots  result [\"Red\", \"Blue\", \"Green\"]\n",
    "\n",
    "{-Finally, it is now straightforward to define a recursive function that implements the alternative vote\n",
    "algorithm, as follows:-}\n",
    "\n",
    "winner' :: Ord a => [[a]] -> a\n",
    "winner' bs = case rank (rmempty bs) of\n",
    "                 [c] -> c\n",
    "                 (c:cs) -> winner' (elim c bs)\n",
    "                 \n",
    "rank ballots\n",
    "r1 = elim \"Red\" ballots\n",
    "r1\n",
    "\n",
    "rank (rmempty r1)\n",
    "r2 = elim \"Blue\" r1\n",
    "r2\n",
    "\n",
    "rank (rmempty r2)\n",
    "             \n",
    "{-That is, we first remove empty ballots, then rank the remaining 1st-choice candidates in increasing order\n",
    "of votes. If only one such candidate remains, they are the winner, otherwise we eliminate the candidate\n",
    "with the smallest number of 1st-choice votes and repeat the process. For example:\n",
    "> winner’ ballots \"Green\"-}\n",
    "\n",
    "winner' ballots"
   ]
  }
 ],
 "metadata": {
  "kernelspec": {
   "display_name": "Haskell",
   "language": "haskell",
   "name": "haskell"
  },
  "language_info": {
   "codemirror_mode": "ihaskell",
   "file_extension": ".hs",
   "mimetype": "text/x-haskell",
   "name": "haskell",
   "pygments_lexer": "Haskell",
   "version": "9.4.5"
  }
 },
 "nbformat": 4,
 "nbformat_minor": 5
}

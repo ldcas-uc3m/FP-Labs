{
 "cells": [
  {
   "cell_type": "markdown",
   "id": "d54bc6e4",
   "metadata": {},
   "source": [
    "# Guided exercise 5: Creating new types\n",
    "\n",
    "As we show in last guided exercise in Haskell we can create our own types, actually this is quite common. There are three different ways to do it: `type`, `data` and `newtype`.\n",
    "\n",
    "## Creating new types with data: single constructor with parameters\n",
    "\n",
    "We have already seen how to use `type`, and `data` with constructors with no parameters. The most generic case is to use `data` with parameters: `data Name = Constructor1 Type11 Type12 ... | Contstructor2 Type21 Type22  | ... deriving (TypeClass1, TypeClass2...)`\n",
    "\n",
    "It is a good idea to derive at least from `Show` to be able to show the results.\n",
    "\n",
    "When we have only one constructor it is common that the name of the constructor and the name of the type are the same, but it is not compulsory."
   ]
  },
  {
   "cell_type": "code",
   "execution_count": 11,
   "id": "8ac0ad63",
   "metadata": {},
   "outputs": [
    {
     "data": {
      "text/plain": [
       "NewType 2 4.0"
      ]
     },
     "metadata": {},
     "output_type": "display_data"
    },
    {
     "data": {
      "text/plain": [
       "Constructor 3 4"
      ]
     },
     "metadata": {},
     "output_type": "display_data"
    },
    {
     "data": {
      "text/html": [
       "<style>/* Styles used for the Hoogle display in the pager */\n",
       ".hoogle-doc {\n",
       "display: block;\n",
       "padding-bottom: 1.3em;\n",
       "padding-left: 0.4em;\n",
       "}\n",
       ".hoogle-code {\n",
       "display: block;\n",
       "font-family: monospace;\n",
       "white-space: pre;\n",
       "}\n",
       ".hoogle-text {\n",
       "display: block;\n",
       "}\n",
       ".hoogle-name {\n",
       "color: green;\n",
       "font-weight: bold;\n",
       "}\n",
       ".hoogle-head {\n",
       "font-weight: bold;\n",
       "}\n",
       ".hoogle-sub {\n",
       "display: block;\n",
       "margin-left: 0.4em;\n",
       "}\n",
       ".hoogle-package {\n",
       "font-weight: bold;\n",
       "font-style: italic;\n",
       "}\n",
       ".hoogle-module {\n",
       "font-weight: bold;\n",
       "}\n",
       ".hoogle-class {\n",
       "font-weight: bold;\n",
       "}\n",
       ".get-type {\n",
       "color: green;\n",
       "font-weight: bold;\n",
       "font-family: monospace;\n",
       "display: block;\n",
       "white-space: pre-wrap;\n",
       "}\n",
       ".show-type {\n",
       "color: green;\n",
       "font-weight: bold;\n",
       "font-family: monospace;\n",
       "margin-left: 1em;\n",
       "}\n",
       ".mono {\n",
       "font-family: monospace;\n",
       "display: block;\n",
       "}\n",
       ".err-msg {\n",
       "color: red;\n",
       "font-style: italic;\n",
       "font-family: monospace;\n",
       "white-space: pre;\n",
       "display: block;\n",
       "}\n",
       "#unshowable {\n",
       "color: red;\n",
       "font-weight: bold;\n",
       "}\n",
       ".err-msg.in.collapse {\n",
       "padding-top: 0.7em;\n",
       "}\n",
       ".highlight-code {\n",
       "white-space: pre;\n",
       "font-family: monospace;\n",
       "}\n",
       ".suggestion-warning { \n",
       "font-weight: bold;\n",
       "color: rgb(200, 130, 0);\n",
       "}\n",
       ".suggestion-error { \n",
       "font-weight: bold;\n",
       "color: red;\n",
       "}\n",
       ".suggestion-name {\n",
       "font-weight: bold;\n",
       "}\n",
       "</style><span class='get-type'>NewType :: Int -> Float -> NewType</span>"
      ],
      "text/plain": [
       "NewType :: Int -> Float -> NewType"
      ]
     },
     "metadata": {},
     "output_type": "display_data"
    },
    {
     "data": {
      "text/html": [
       "<style>/* Styles used for the Hoogle display in the pager */\n",
       ".hoogle-doc {\n",
       "display: block;\n",
       "padding-bottom: 1.3em;\n",
       "padding-left: 0.4em;\n",
       "}\n",
       ".hoogle-code {\n",
       "display: block;\n",
       "font-family: monospace;\n",
       "white-space: pre;\n",
       "}\n",
       ".hoogle-text {\n",
       "display: block;\n",
       "}\n",
       ".hoogle-name {\n",
       "color: green;\n",
       "font-weight: bold;\n",
       "}\n",
       ".hoogle-head {\n",
       "font-weight: bold;\n",
       "}\n",
       ".hoogle-sub {\n",
       "display: block;\n",
       "margin-left: 0.4em;\n",
       "}\n",
       ".hoogle-package {\n",
       "font-weight: bold;\n",
       "font-style: italic;\n",
       "}\n",
       ".hoogle-module {\n",
       "font-weight: bold;\n",
       "}\n",
       ".hoogle-class {\n",
       "font-weight: bold;\n",
       "}\n",
       ".get-type {\n",
       "color: green;\n",
       "font-weight: bold;\n",
       "font-family: monospace;\n",
       "display: block;\n",
       "white-space: pre-wrap;\n",
       "}\n",
       ".show-type {\n",
       "color: green;\n",
       "font-weight: bold;\n",
       "font-family: monospace;\n",
       "margin-left: 1em;\n",
       "}\n",
       ".mono {\n",
       "font-family: monospace;\n",
       "display: block;\n",
       "}\n",
       ".err-msg {\n",
       "color: red;\n",
       "font-style: italic;\n",
       "font-family: monospace;\n",
       "white-space: pre;\n",
       "display: block;\n",
       "}\n",
       "#unshowable {\n",
       "color: red;\n",
       "font-weight: bold;\n",
       "}\n",
       ".err-msg.in.collapse {\n",
       "padding-top: 0.7em;\n",
       "}\n",
       ".highlight-code {\n",
       "white-space: pre;\n",
       "font-family: monospace;\n",
       "}\n",
       ".suggestion-warning { \n",
       "font-weight: bold;\n",
       "color: rgb(200, 130, 0);\n",
       "}\n",
       ".suggestion-error { \n",
       "font-weight: bold;\n",
       "color: red;\n",
       "}\n",
       ".suggestion-name {\n",
       "font-weight: bold;\n",
       "}\n",
       "</style><span class='get-type'>Constructor :: Int -> Int -> NewType2</span>"
      ],
      "text/plain": [
       "Constructor :: Int -> Int -> NewType2"
      ]
     },
     "metadata": {},
     "output_type": "display_data"
    }
   ],
   "source": [
    "-- Two new types with data\n",
    "data NewType = NewType Int Float deriving Show\n",
    "data NewType2 = Constructor Int Int deriving Show\n",
    "-- Data of them\n",
    "NewType 2 4\n",
    "Constructor 3 4\n",
    "-- Which are the types of the constructors?\n",
    ":t NewType\n",
    ":t Constructor\n",
    "-- They are functions that return their types!!\n",
    "-- That is the reason why different types cannot have constructors with the same name"
   ]
  },
  {
   "cell_type": "markdown",
   "id": "1e52847c",
   "metadata": {},
   "source": [
    "**Exercise 1.** Create definition of the `Date` type of the weekly exercises using `data`:\n",
    "1. A type to represent a Date with day (Int), month (Int), year (Int)\n",
    "2. A function `isleap date` to return if the year of a Date is a leap year\n",
    "3. A function `rightMonth date` to check if a month number is correct\n",
    "4. A function `rightDay date` to check if a day number is correct for that month of that Date\n",
    "5. A function `fixDate date` that if the month or the day is incorrect, fixes them, the month will be 1 and the day will be 1 too.\n",
    "6. A function `monthName date` that returns the name of the month of that date\n",
    "7. A function `showDate date` that returns \"day of monthName of the leap/not leap year\"\n",
    "8. A function `nextDay date` that returns the next Date of a given one\n",
    "9. A function `isPrevious date1 date2` that returns if date1 is previous to date2"
   ]
  },
  {
   "cell_type": "code",
   "execution_count": 12,
   "id": "7e79faa4",
   "metadata": {},
   "outputs": [],
   "source": [
    "-- 1\n",
    "data Date = Date Int Int Int deriving Show"
   ]
  },
  {
   "cell_type": "code",
   "execution_count": 13,
   "id": "ca90d951",
   "metadata": {},
   "outputs": [],
   "source": [
    "-- 2\n",
    "isleap::Date -> Bool\n",
    "isleap (Date _ _ y) = y `mod` 4 == 0 && (y `mod` 100 /= 0 || y `mod` 400 == 0)\n",
    "\n",
    "-- 3\n",
    "rightMonth::Date -> Bool\n",
    "rightMonth (Date _ m _) = m > 0 && m < 13\n",
    "\n",
    "-- 4 \n",
    "rightDay::Date -> Bool\n",
    "rightDay (Date d m y)\n",
    "    | d < 1 || d > 31 = False\n",
    "    | m `elem` [1, 3, 5, 7, 8, 10, 12] = True\n",
    "    | m == 2 = d < 29 || (d == 29 && isleap (Date d m y))\n",
    "    | m `elem` [4, 6, 9, 11] = d <= 30\n",
    "    | otherwise = error \"Wrong month\"\n",
    "\n",
    "-- 5\n",
    "fixDate::Date -> Date\n",
    "fixDate (Date d m y)\n",
    "    | rightMonth (Date d m y) = if rightDay (Date d m y) then Date d m y else Date 1 m y\n",
    "    | otherwise = if rightDay (Date d 1 y) then Date d 1 y else Date 1 1 y\n",
    " \n",
    "-- 6\n",
    "monthName::Date -> String\n",
    "monthName (Date d m y) = if rightMonth (Date d m y) \n",
    "                        then months !! (m - 1) \n",
    "                        else error \"Wrong month\"\n",
    "                        where months = [\"january\", \"february\", \"march\", \"april\", \"may\", \"june\", \"july\", \"august\", \n",
    "                                        \"september\", \"october\", \"november\", \"december\"]\n",
    "                        \n",
    "-- 7\n",
    "showDate::Date -> String\n",
    "showDate (Date d m y) = show d ++ \" of \" ++ monthName (Date d m y) ++ \" of the \" ++ leap ++ show y\n",
    "    where leap = if isleap (Date d m y) then \"leap \" else \"non leap \"\n",
    "    \n",
    "-- 8 \n",
    "nextDay::Date -> Date\n",
    "nextDay (Date d m y) \n",
    "    | rightDay (Date (d + 1) m y) = Date (d + 1) m y\n",
    "    | rightMonth (Date 1 (m + 1) y) = Date 1 (m + 1) y\n",
    "    | otherwise = Date 1 1 (y + 1)\n",
    " \n",
    "-- 9\n",
    "isPrevious::Date -> Date -> Bool\n",
    "isPrevious (Date d1 m1 y1) (Date d2 m2 y2) \n",
    "    | y1 > y2 = False\n",
    "    | y1 < y2 = True\n",
    "    | m1 > m2 = False\n",
    "    | m1 < m2 = True\n",
    "    | d1 < d2 = True\n",
    "    | otherwise = False"
   ]
  },
  {
   "cell_type": "code",
   "execution_count": 14,
   "id": "c8b70b15",
   "metadata": {},
   "outputs": [
    {
     "data": {
      "text/plain": [
       "False"
      ]
     },
     "metadata": {},
     "output_type": "display_data"
    },
    {
     "data": {
      "text/plain": [
       "True"
      ]
     },
     "metadata": {},
     "output_type": "display_data"
    },
    {
     "data": {
      "text/plain": [
       "True"
      ]
     },
     "metadata": {},
     "output_type": "display_data"
    },
    {
     "data": {
      "text/plain": [
       "True"
      ]
     },
     "metadata": {},
     "output_type": "display_data"
    },
    {
     "data": {
      "text/plain": [
       "True"
      ]
     },
     "metadata": {},
     "output_type": "display_data"
    },
    {
     "data": {
      "text/plain": [
       "False"
      ]
     },
     "metadata": {},
     "output_type": "display_data"
    },
    {
     "data": {
      "text/plain": [
       "True"
      ]
     },
     "metadata": {},
     "output_type": "display_data"
    },
    {
     "data": {
      "text/plain": [
       "True"
      ]
     },
     "metadata": {},
     "output_type": "display_data"
    },
    {
     "data": {
      "text/plain": [
       "False"
      ]
     },
     "metadata": {},
     "output_type": "display_data"
    },
    {
     "data": {
      "text/plain": [
       "True"
      ]
     },
     "metadata": {},
     "output_type": "display_data"
    },
    {
     "data": {
      "text/plain": [
       "False"
      ]
     },
     "metadata": {},
     "output_type": "display_data"
    },
    {
     "data": {
      "text/plain": [
       "True"
      ]
     },
     "metadata": {},
     "output_type": "display_data"
    },
    {
     "data": {
      "text/plain": [
       "Date 1 12 1900"
      ]
     },
     "metadata": {},
     "output_type": "display_data"
    },
    {
     "data": {
      "text/plain": [
       "Date 30 11 1900"
      ]
     },
     "metadata": {},
     "output_type": "display_data"
    },
    {
     "data": {
      "text/plain": [
       "Date 1 2 1900"
      ]
     },
     "metadata": {},
     "output_type": "display_data"
    },
    {
     "data": {
      "text/plain": [
       "Date 5 1 2021"
      ]
     },
     "metadata": {},
     "output_type": "display_data"
    },
    {
     "data": {
      "text/plain": [
       "Date 1 1 2012"
      ]
     },
     "metadata": {},
     "output_type": "display_data"
    },
    {
     "data": {
      "text/plain": [
       "\"march\""
      ]
     },
     "metadata": {},
     "output_type": "display_data"
    },
    {
     "data": {
      "text/plain": [
       "\"1 of march of the leap 2020\""
      ]
     },
     "metadata": {},
     "output_type": "display_data"
    },
    {
     "data": {
      "text/plain": [
       "Date 2 1 2022"
      ]
     },
     "metadata": {},
     "output_type": "display_data"
    },
    {
     "data": {
      "text/plain": [
       "Date 1 3 2022"
      ]
     },
     "metadata": {},
     "output_type": "display_data"
    },
    {
     "data": {
      "text/plain": [
       "Date 1 1 2023"
      ]
     },
     "metadata": {},
     "output_type": "display_data"
    },
    {
     "data": {
      "text/plain": [
       "True"
      ]
     },
     "metadata": {},
     "output_type": "display_data"
    },
    {
     "data": {
      "text/plain": [
       "True"
      ]
     },
     "metadata": {},
     "output_type": "display_data"
    },
    {
     "data": {
      "text/plain": [
       "False"
      ]
     },
     "metadata": {},
     "output_type": "display_data"
    }
   ],
   "source": [
    "-- Testing code\n",
    "--2\n",
    "isleap (Date 1 1 1900)\n",
    "isleap (Date 1 1 2000)\n",
    "isleap (Date 1 1 2012)\n",
    "-- 3\n",
    "rightMonth (Date 1 1 1900)\n",
    "rightMonth (Date 1 12 1900)\n",
    "rightMonth (Date 1 13 1900)\n",
    "-- 4\n",
    "rightDay (Date 1 12 1900)\n",
    "rightDay (Date 31 12 1900)\n",
    "rightDay (Date 32 12 1900)\n",
    "rightDay (Date 30 11 1900)\n",
    "rightDay (Date 29 2 1900)\n",
    "rightDay (Date 29 2 2000)\n",
    "-- 5\n",
    "fixDate (Date 32 12 1900)\n",
    "fixDate (Date 30 11 1900)\n",
    "fixDate (Date 29 2 1900)\n",
    "fixDate (Date 5 24 2021)\n",
    "fixDate (Date 41 24 2012)\n",
    "-- 6\n",
    "monthName (Date 1 3 2020)\n",
    "-- 7\n",
    "showDate (Date 1 3 2020)\n",
    "-- 8\n",
    "nextDay (Date 1 1 2022)\n",
    "nextDay (Date 28 2 2022)\n",
    "nextDay (Date 31 12 2022)\n",
    "-- 9\n",
    "isPrevious (Date 1 1 2022) (Date 28 2 2022)\n",
    "isPrevious (Date 27 2 2022) (Date 28 2 2022)\n",
    "isPrevious (Date 27 1 2022) (Date 27 1 2022)"
   ]
  },
  {
   "cell_type": "markdown",
   "id": "7608c4cd",
   "metadata": {},
   "source": [
    "## Using @ for pattern matching\n",
    "\n",
    "When declaring a function with an algebraic data type (when using `data`) with parameters we can use `@` to create an alias of the input of the function to avoid repeating it into the body:"
   ]
  },
  {
   "cell_type": "code",
   "execution_count": 15,
   "id": "85fe41cd",
   "metadata": {},
   "outputs": [],
   "source": [
    "-- without @\n",
    "showDate::Date -> String\n",
    "showDate (Date d m y) = show d ++ \" of \" ++ monthName (Date d m y) ++ \" of the \" ++ leap ++ show y\n",
    "    where leap = if isleap (Date d m y) then \"leap \" else \"non leap \"\n",
    "\n",
    "    \n",
    "-- with @\n",
    "showDate'::Date -> String\n",
    "showDate' theDate@(Date d m y) = show d ++ \" of \" ++ monthName theDate ++ \" of the \" ++ leap ++ show y\n",
    "    where leap = if isleap theDate then \"leap \" else \"non leap \""
   ]
  },
  {
   "cell_type": "markdown",
   "id": "47fa0052",
   "metadata": {},
   "source": [
    "**Exercise 2.** Change the `fixDate` function to use this notation."
   ]
  },
  {
   "cell_type": "code",
   "execution_count": 16,
   "id": "c1c0d508",
   "metadata": {},
   "outputs": [],
   "source": [
    "fixDate::Date -> Date\n",
    "fixDate dt@(Date d m y)\n",
    "    | rightMonth dt = if rightDay dt then dt else Date 1 m y\n",
    "    | otherwise = if rightDay (Date d 1 y) then Date d 1 y else Date 1 1 y"
   ]
  },
  {
   "cell_type": "code",
   "execution_count": 17,
   "id": "ebe82a06",
   "metadata": {},
   "outputs": [
    {
     "data": {
      "text/plain": [
       "Date 1 12 1900"
      ]
     },
     "metadata": {},
     "output_type": "display_data"
    },
    {
     "data": {
      "text/plain": [
       "Date 30 11 1900"
      ]
     },
     "metadata": {},
     "output_type": "display_data"
    },
    {
     "data": {
      "text/plain": [
       "Date 1 2 1900"
      ]
     },
     "metadata": {},
     "output_type": "display_data"
    },
    {
     "data": {
      "text/plain": [
       "Date 5 1 2021"
      ]
     },
     "metadata": {},
     "output_type": "display_data"
    },
    {
     "data": {
      "text/plain": [
       "Date 1 1 2012"
      ]
     },
     "metadata": {},
     "output_type": "display_data"
    }
   ],
   "source": [
    "fixDate (Date 32 12 1900)\n",
    "fixDate (Date 30 11 1900)\n",
    "fixDate (Date 29 2 1900)\n",
    "fixDate (Date 5 24 2021)\n",
    "fixDate (Date 41 24 2012)"
   ]
  },
  {
   "cell_type": "markdown",
   "id": "a4b6a09c",
   "metadata": {},
   "source": [
    "## Record syntax\n",
    "\n",
    "When a new type is created with `data` a name can be given to each parameter to make it clearer what their meaning is. This is known as record syntax. Doing it that way also modifies how the values are shown."
   ]
  },
  {
   "cell_type": "code",
   "execution_count": 18,
   "id": "c1fc43a2",
   "metadata": {},
   "outputs": [],
   "source": [
    "data Date = Date {day::Int, month::Int, year::Int} deriving Show"
   ]
  },
  {
   "cell_type": "code",
   "execution_count": 19,
   "id": "7153a421",
   "metadata": {},
   "outputs": [],
   "source": [
    "-- In the functions we can use the old style\n",
    "isleap::Date -> Bool\n",
    "isleap (Date _ _ y) = y `mod` 4 == 0 && (y `mod` 100 /= 0 || y `mod` 400 == 0)\n",
    "\n",
    "-- Or the new one\n",
    "isleap'::Date -> Bool\n",
    "isleap' Date {day, month, year} = year `mod` 4 == 0 && (year `mod` 100 /= 0 || year `mod` 400 == 0)"
   ]
  },
  {
   "cell_type": "code",
   "execution_count": 20,
   "id": "2132c484",
   "metadata": {},
   "outputs": [
    {
     "data": {
      "text/plain": [
       "Date {day = 1, month = 1, year = 1900}"
      ]
     },
     "metadata": {},
     "output_type": "display_data"
    },
    {
     "data": {
      "text/plain": [
       "Date {day = 12, month = 9, year = 2000}"
      ]
     },
     "metadata": {},
     "output_type": "display_data"
    },
    {
     "data": {
      "text/plain": [
       "False"
      ]
     },
     "metadata": {},
     "output_type": "display_data"
    },
    {
     "data": {
      "text/plain": [
       "True"
      ]
     },
     "metadata": {},
     "output_type": "display_data"
    }
   ],
   "source": [
    "-- Notice that now show works in a different way\n",
    "\n",
    "-- We can create values in the old way\n",
    "Date 1 1 1900\n",
    "-- But also using the names, in this case any order is valid\n",
    "Date {year = 2000, day = 12, month = 9}\n",
    "-- Both ways also to invoke a function\n",
    "isleap' (Date 1 1 2022)\n",
    "isleap' Date {year = 2000, day = 12, month = 9}"
   ]
  },
  {
   "cell_type": "markdown",
   "id": "64bd099a",
   "metadata": {},
   "source": [
    "**Exercise 3.** Use record syntax to create a Person type with name, surname, id and age"
   ]
  },
  {
   "cell_type": "code",
   "execution_count": 21,
   "id": "b45a1e18",
   "metadata": {},
   "outputs": [
    {
     "data": {
      "text/plain": [
       "Person {name = \"Pepe\", surname = \"Perez\", id = \"444802840F\", age = 33}"
      ]
     },
     "metadata": {},
     "output_type": "display_data"
    },
    {
     "data": {
      "text/plain": [
       "Person {name = \"Pepe\", surname = \"Perez\", id = \"444802840F\", age = 33}"
      ]
     },
     "metadata": {},
     "output_type": "display_data"
    }
   ],
   "source": [
    "data Person = Person {name::String, surname::String, id::String, age::Int} deriving Show\n",
    "-- Testing it\n",
    "Person \"Pepe\" \"Perez\" \"444802840F\" 33\n",
    "Person {name = \"Pepe\", surname = \"Perez\", id = \"444802840F\", age = 33}"
   ]
  },
  {
   "cell_type": "markdown",
   "id": "559731f7",
   "metadata": {},
   "source": [
    "An alternative is to use `type` to create synonyms:"
   ]
  },
  {
   "cell_type": "code",
   "execution_count": 22,
   "id": "4ee5c878",
   "metadata": {},
   "outputs": [
    {
     "data": {
      "text/plain": [
       "\"Juan\""
      ]
     },
     "metadata": {},
     "output_type": "display_data"
    },
    {
     "data": {
      "text/plain": [
       "Person \"Juan\" \"Perez\" \"192031\" 12"
      ]
     },
     "metadata": {},
     "output_type": "display_data"
    }
   ],
   "source": [
    "type Name = String\n",
    "type Surname = String\n",
    "type Id = String\n",
    "type Age = Int\n",
    "data Person = Person Name Surname Id Age deriving Show\n",
    "\n",
    "--We can use the new types in the functions to make them easier to undestand\n",
    "personName::Person -> Name\n",
    "personName (Person n _ _ _) = n\n",
    "\n",
    "personName (Person \"Juan\" \"Perez\" \"192031\" 12)\n",
    "Person \"Juan\" \"Perez\" \"192031\" 12"
   ]
  },
  {
   "cell_type": "markdown",
   "id": "db52eafe",
   "metadata": {},
   "source": [
    "## data: multiple constructors with parameters\n",
    "\n",
    "We can have different consructors with different parameters."
   ]
  },
  {
   "cell_type": "markdown",
   "id": "0da3d186",
   "metadata": {},
   "source": [
    "**Exercise 4.** Create a second constructor where the `month` is `String`. Check the types of the constructors. Modify the `isleap` and `rightMonth` functions so they work with both constructors. "
   ]
  },
  {
   "cell_type": "code",
   "execution_count": 23,
   "id": "bceb3931",
   "metadata": {},
   "outputs": [],
   "source": [
    "-- We use the record syntax in one of them just to show it can be done\n",
    "data Date = Date1 Int Int Int | Date2 {day::Int, month::String, year::Int} deriving Show\n",
    "\n",
    "-- 2\n",
    "isleap::Date -> Bool\n",
    "isleap (Date1 _ _ y) = y `mod` 4 == 0 && (y `mod` 100 /= 0 || y `mod` 400 == 0)\n",
    "isleap (Date2 _ _ y) = y `mod` 4 == 0 && (y `mod` 100 /= 0 || y `mod` 400 == 0)\n",
    "\n",
    "-- 3\n",
    "rightMonth::Date -> Bool\n",
    "rightMonth (Date1 _ m _) = m > 0 && m < 13\n",
    "rightMonth (Date2 _ m _) = m `elem` [\"january\", \"february\", \"march\", \"april\", \"may\", \"june\", \"july\", \"august\", \n",
    "                                        \"september\", \"october\", \"november\", \"december\"]"
   ]
  },
  {
   "cell_type": "code",
   "execution_count": 24,
   "id": "2b120709",
   "metadata": {},
   "outputs": [
    {
     "data": {
      "text/html": [
       "<style>/* Styles used for the Hoogle display in the pager */\n",
       ".hoogle-doc {\n",
       "display: block;\n",
       "padding-bottom: 1.3em;\n",
       "padding-left: 0.4em;\n",
       "}\n",
       ".hoogle-code {\n",
       "display: block;\n",
       "font-family: monospace;\n",
       "white-space: pre;\n",
       "}\n",
       ".hoogle-text {\n",
       "display: block;\n",
       "}\n",
       ".hoogle-name {\n",
       "color: green;\n",
       "font-weight: bold;\n",
       "}\n",
       ".hoogle-head {\n",
       "font-weight: bold;\n",
       "}\n",
       ".hoogle-sub {\n",
       "display: block;\n",
       "margin-left: 0.4em;\n",
       "}\n",
       ".hoogle-package {\n",
       "font-weight: bold;\n",
       "font-style: italic;\n",
       "}\n",
       ".hoogle-module {\n",
       "font-weight: bold;\n",
       "}\n",
       ".hoogle-class {\n",
       "font-weight: bold;\n",
       "}\n",
       ".get-type {\n",
       "color: green;\n",
       "font-weight: bold;\n",
       "font-family: monospace;\n",
       "display: block;\n",
       "white-space: pre-wrap;\n",
       "}\n",
       ".show-type {\n",
       "color: green;\n",
       "font-weight: bold;\n",
       "font-family: monospace;\n",
       "margin-left: 1em;\n",
       "}\n",
       ".mono {\n",
       "font-family: monospace;\n",
       "display: block;\n",
       "}\n",
       ".err-msg {\n",
       "color: red;\n",
       "font-style: italic;\n",
       "font-family: monospace;\n",
       "white-space: pre;\n",
       "display: block;\n",
       "}\n",
       "#unshowable {\n",
       "color: red;\n",
       "font-weight: bold;\n",
       "}\n",
       ".err-msg.in.collapse {\n",
       "padding-top: 0.7em;\n",
       "}\n",
       ".highlight-code {\n",
       "white-space: pre;\n",
       "font-family: monospace;\n",
       "}\n",
       ".suggestion-warning { \n",
       "font-weight: bold;\n",
       "color: rgb(200, 130, 0);\n",
       "}\n",
       ".suggestion-error { \n",
       "font-weight: bold;\n",
       "color: red;\n",
       "}\n",
       ".suggestion-name {\n",
       "font-weight: bold;\n",
       "}\n",
       "</style><span class='get-type'>Date1 :: Int -> Int -> Int -> Date</span>"
      ],
      "text/plain": [
       "Date1 :: Int -> Int -> Int -> Date"
      ]
     },
     "metadata": {},
     "output_type": "display_data"
    },
    {
     "data": {
      "text/html": [
       "<style>/* Styles used for the Hoogle display in the pager */\n",
       ".hoogle-doc {\n",
       "display: block;\n",
       "padding-bottom: 1.3em;\n",
       "padding-left: 0.4em;\n",
       "}\n",
       ".hoogle-code {\n",
       "display: block;\n",
       "font-family: monospace;\n",
       "white-space: pre;\n",
       "}\n",
       ".hoogle-text {\n",
       "display: block;\n",
       "}\n",
       ".hoogle-name {\n",
       "color: green;\n",
       "font-weight: bold;\n",
       "}\n",
       ".hoogle-head {\n",
       "font-weight: bold;\n",
       "}\n",
       ".hoogle-sub {\n",
       "display: block;\n",
       "margin-left: 0.4em;\n",
       "}\n",
       ".hoogle-package {\n",
       "font-weight: bold;\n",
       "font-style: italic;\n",
       "}\n",
       ".hoogle-module {\n",
       "font-weight: bold;\n",
       "}\n",
       ".hoogle-class {\n",
       "font-weight: bold;\n",
       "}\n",
       ".get-type {\n",
       "color: green;\n",
       "font-weight: bold;\n",
       "font-family: monospace;\n",
       "display: block;\n",
       "white-space: pre-wrap;\n",
       "}\n",
       ".show-type {\n",
       "color: green;\n",
       "font-weight: bold;\n",
       "font-family: monospace;\n",
       "margin-left: 1em;\n",
       "}\n",
       ".mono {\n",
       "font-family: monospace;\n",
       "display: block;\n",
       "}\n",
       ".err-msg {\n",
       "color: red;\n",
       "font-style: italic;\n",
       "font-family: monospace;\n",
       "white-space: pre;\n",
       "display: block;\n",
       "}\n",
       "#unshowable {\n",
       "color: red;\n",
       "font-weight: bold;\n",
       "}\n",
       ".err-msg.in.collapse {\n",
       "padding-top: 0.7em;\n",
       "}\n",
       ".highlight-code {\n",
       "white-space: pre;\n",
       "font-family: monospace;\n",
       "}\n",
       ".suggestion-warning { \n",
       "font-weight: bold;\n",
       "color: rgb(200, 130, 0);\n",
       "}\n",
       ".suggestion-error { \n",
       "font-weight: bold;\n",
       "color: red;\n",
       "}\n",
       ".suggestion-name {\n",
       "font-weight: bold;\n",
       "}\n",
       "</style><span class='get-type'>Date2 :: Int -> String -> Int -> Date</span>"
      ],
      "text/plain": [
       "Date2 :: Int -> String -> Int -> Date"
      ]
     },
     "metadata": {},
     "output_type": "display_data"
    }
   ],
   "source": [
    ":t Date1\n",
    ":t Date2"
   ]
  },
  {
   "cell_type": "code",
   "execution_count": 25,
   "id": "28a89d79",
   "metadata": {},
   "outputs": [
    {
     "data": {
      "text/plain": [
       "False"
      ]
     },
     "metadata": {},
     "output_type": "display_data"
    },
    {
     "data": {
      "text/plain": [
       "True"
      ]
     },
     "metadata": {},
     "output_type": "display_data"
    },
    {
     "data": {
      "text/plain": [
       "True"
      ]
     },
     "metadata": {},
     "output_type": "display_data"
    },
    {
     "data": {
      "text/plain": [
       "False"
      ]
     },
     "metadata": {},
     "output_type": "display_data"
    },
    {
     "data": {
      "text/plain": [
       "True"
      ]
     },
     "metadata": {},
     "output_type": "display_data"
    },
    {
     "data": {
      "text/plain": [
       "True"
      ]
     },
     "metadata": {},
     "output_type": "display_data"
    },
    {
     "data": {
      "text/plain": [
       "True"
      ]
     },
     "metadata": {},
     "output_type": "display_data"
    },
    {
     "data": {
      "text/plain": [
       "True"
      ]
     },
     "metadata": {},
     "output_type": "display_data"
    },
    {
     "data": {
      "text/plain": [
       "False"
      ]
     },
     "metadata": {},
     "output_type": "display_data"
    },
    {
     "data": {
      "text/plain": [
       "True"
      ]
     },
     "metadata": {},
     "output_type": "display_data"
    },
    {
     "data": {
      "text/plain": [
       "True"
      ]
     },
     "metadata": {},
     "output_type": "display_data"
    },
    {
     "data": {
      "text/plain": [
       "False"
      ]
     },
     "metadata": {},
     "output_type": "display_data"
    }
   ],
   "source": [
    "-- Testing code\n",
    "--2\n",
    "isleap (Date1 1 1 1900)\n",
    "isleap (Date1 1 1 2000)\n",
    "isleap (Date1 1 1 2012)\n",
    "isleap (Date2 1 \"january\" 1900)\n",
    "isleap (Date2 1 \"january\" 2000)\n",
    "isleap (Date2 1 \"january\" 2012)\n",
    "-- 3\n",
    "rightMonth (Date1 1 1 1900)\n",
    "rightMonth (Date1 1 12 1900)\n",
    "rightMonth (Date1 1 13 1900)\n",
    "rightMonth (Date2 1 \"january\" 1900)\n",
    "rightMonth (Date2 1 \"december\" 1900)\n",
    "rightMonth (Date2 1 \"januaryyy\" 1900)"
   ]
  },
  {
   "cell_type": "markdown",
   "id": "c93eacd1",
   "metadata": {},
   "source": [
    "## Deriving from typeclasses\n",
    "\n",
    "We can use `deriving` to mark that a type is an instance of a given typeclass. This makes it automatically implement all the typeclass functions."
   ]
  },
  {
   "cell_type": "code",
   "execution_count": 26,
   "id": "f00fd727",
   "metadata": {},
   "outputs": [],
   "source": [
    "-- We make person to derive also from Eq and Ord\n",
    "data Person = Person {name::String, surname::String, id::String, age::Int} deriving (Show, Eq, Ord)"
   ]
  },
  {
   "cell_type": "code",
   "execution_count": 27,
   "id": "b7ccd573",
   "metadata": {},
   "outputs": [
    {
     "data": {
      "text/plain": [
       "True"
      ]
     },
     "metadata": {},
     "output_type": "display_data"
    },
    {
     "data": {
      "text/plain": [
       "False"
      ]
     },
     "metadata": {},
     "output_type": "display_data"
    },
    {
     "data": {
      "text/plain": [
       "True"
      ]
     },
     "metadata": {},
     "output_type": "display_data"
    },
    {
     "data": {
      "text/plain": [
       "False"
      ]
     },
     "metadata": {},
     "output_type": "display_data"
    }
   ],
   "source": [
    "-- Now we can use the equality and ordering operators\n",
    "Person \"Juan\" \"Perez\" \"192031\" 12 == Person \"Juan\" \"Perez\" \"192031\" 12\n",
    "Person \"Juan\" \"Perez\" \"192031\" 12 == Person \"Juan\" \"Perez\" \"192031\" 33\n",
    "-- It compares first and first, then second and second until an answer is found\n",
    "Person \"Juan\" \"Perez\" \"192031\" 12 > Person \"Juan\" \"Perez\" \"129021\" 29\n",
    "Person \"Juan\" \"Perez\" \"192031\" 12 > Person \"Santiago\" \"Perez\" \"129021\" 9"
   ]
  },
  {
   "cell_type": "markdown",
   "id": "9f12c8cf",
   "metadata": {},
   "source": [
    "When we derive from a typeclass we use the by-default implementations of the functions, but they can be overrided, either using the original one or giving a totally new implementation. In this case we say the type is an *instance* of the typeclass and we don't need to derive from it using `deriving`. To do it, we use:\n",
    "```\n",
    "instance typeclass newType where \n",
    "    new_definition_of_function\n",
    "```\n",
    "\n",
    "It is not compulsory to implement all the methods, if we give no definition, the by-default one will be used."
   ]
  },
  {
   "cell_type": "code",
   "execution_count": 45,
   "id": "2119a6d1",
   "metadata": {},
   "outputs": [],
   "source": [
    "data Person = Person {name::String, surname::String, id::String, age::Int} deriving Show\n",
    "-- We are redefining == based on the original == \n",
    "instance Eq Person where\n",
    "    (Person _ _ id1 _) == (Person _ _ id2 _) = id1 == id2"
   ]
  },
  {
   "cell_type": "code",
   "execution_count": 41,
   "id": "9615d575",
   "metadata": {},
   "outputs": [
    {
     "data": {
      "text/plain": [
       "True"
      ]
     },
     "metadata": {},
     "output_type": "display_data"
    }
   ],
   "source": [
    "Person \"Antonio\" \"Gonzalez\" \"192031\" 12 == Person \"Juan\" \"Perez\" \"192031\" 21"
   ]
  },
  {
   "cell_type": "markdown",
   "id": "1c5aac31",
   "metadata": {},
   "source": [
    "**Exercise 5.** Redefine the >, >=, <= and < operators for Person so they compare the ages"
   ]
  },
  {
   "cell_type": "code",
   "execution_count": 48,
   "id": "04b34dc3",
   "metadata": {},
   "outputs": [],
   "source": [
    "instance Ord Person where\n",
    "    (Person _ _ _ ag1) < (Person _ _ _ ag2) = ag1 < ag2\n",
    "    (Person _ _ _ ag1) > (Person _ _ _ ag2) = ag1 > ag2\n",
    "    (Person _ _ _ ag1) <= (Person _ _ _ ag2) = ag1 <= ag2\n",
    "    (Person _ _ _ ag1) >= (Person _ _ _ ag2) = ag1 >= ag2"
   ]
  },
  {
   "cell_type": "code",
   "execution_count": 49,
   "id": "a76e50a3",
   "metadata": {},
   "outputs": [
    {
     "data": {
      "text/plain": [
       "False"
      ]
     },
     "metadata": {},
     "output_type": "display_data"
    },
    {
     "data": {
      "text/plain": [
       "True"
      ]
     },
     "metadata": {},
     "output_type": "display_data"
    }
   ],
   "source": [
    "Person \"Juan\" \"Perez\" \"192031\" 12 >= Person \"Antonio\" \"Gonzalez\" \"00031\" 21\n",
    "Person \"Juan\" \"Perez\" \"192031\" 21 >= Person \"Antonio\" \"Gonzalez\" \"00031\" 21"
   ]
  },
  {
   "cell_type": "markdown",
   "id": "b27c4393",
   "metadata": {},
   "source": [
    "**Exercise 6.** Redefine the show function of Person type so it shows something like: Juan Perez with id 192031 is 12 years old"
   ]
  },
  {
   "cell_type": "code",
   "execution_count": 38,
   "id": "523bdd69",
   "metadata": {},
   "outputs": [],
   "source": [
    "instance Show Person where\n",
    "    show (Person n s i a) = n ++ \" \" ++  s ++ \" with id \" ++ i ++ \" is \" ++ show a ++ \" years old\""
   ]
  },
  {
   "cell_type": "code",
   "execution_count": 39,
   "id": "be76d713",
   "metadata": {},
   "outputs": [
    {
     "data": {
      "text/plain": [
       "Juan Perez with id 192031 is 12 years old"
      ]
     },
     "metadata": {},
     "output_type": "display_data"
    }
   ],
   "source": [
    "Person \"Juan\" \"Perez\" \"192031\" 12"
   ]
  },
  {
   "cell_type": "markdown",
   "id": "953fb502",
   "metadata": {},
   "source": [
    "## General parameters\n",
    "\n",
    "The parameters of a constructor can be general ones"
   ]
  },
  {
   "cell_type": "code",
   "execution_count": 65,
   "id": "e10f53f6",
   "metadata": {},
   "outputs": [
    {
     "data": {
      "text/html": [
       "<style>/* Styles used for the Hoogle display in the pager */\n",
       ".hoogle-doc {\n",
       "display: block;\n",
       "padding-bottom: 1.3em;\n",
       "padding-left: 0.4em;\n",
       "}\n",
       ".hoogle-code {\n",
       "display: block;\n",
       "font-family: monospace;\n",
       "white-space: pre;\n",
       "}\n",
       ".hoogle-text {\n",
       "display: block;\n",
       "}\n",
       ".hoogle-name {\n",
       "color: green;\n",
       "font-weight: bold;\n",
       "}\n",
       ".hoogle-head {\n",
       "font-weight: bold;\n",
       "}\n",
       ".hoogle-sub {\n",
       "display: block;\n",
       "margin-left: 0.4em;\n",
       "}\n",
       ".hoogle-package {\n",
       "font-weight: bold;\n",
       "font-style: italic;\n",
       "}\n",
       ".hoogle-module {\n",
       "font-weight: bold;\n",
       "}\n",
       ".hoogle-class {\n",
       "font-weight: bold;\n",
       "}\n",
       ".get-type {\n",
       "color: green;\n",
       "font-weight: bold;\n",
       "font-family: monospace;\n",
       "display: block;\n",
       "white-space: pre-wrap;\n",
       "}\n",
       ".show-type {\n",
       "color: green;\n",
       "font-weight: bold;\n",
       "font-family: monospace;\n",
       "margin-left: 1em;\n",
       "}\n",
       ".mono {\n",
       "font-family: monospace;\n",
       "display: block;\n",
       "}\n",
       ".err-msg {\n",
       "color: red;\n",
       "font-style: italic;\n",
       "font-family: monospace;\n",
       "white-space: pre;\n",
       "display: block;\n",
       "}\n",
       "#unshowable {\n",
       "color: red;\n",
       "font-weight: bold;\n",
       "}\n",
       ".err-msg.in.collapse {\n",
       "padding-top: 0.7em;\n",
       "}\n",
       ".highlight-code {\n",
       "white-space: pre;\n",
       "font-family: monospace;\n",
       "}\n",
       ".suggestion-warning { \n",
       "font-weight: bold;\n",
       "color: rgb(200, 130, 0);\n",
       "}\n",
       ".suggestion-error { \n",
       "font-weight: bold;\n",
       "color: red;\n",
       "}\n",
       ".suggestion-name {\n",
       "font-weight: bold;\n",
       "}\n",
       "</style><span class='get-type'>Binary :: forall a. a -> a -> Operands a</span>"
      ],
      "text/plain": [
       "Binary :: forall a. a -> a -> Operands a"
      ]
     },
     "metadata": {},
     "output_type": "display_data"
    },
    {
     "data": {
      "text/html": [
       "<style>/* Styles used for the Hoogle display in the pager */\n",
       ".hoogle-doc {\n",
       "display: block;\n",
       "padding-bottom: 1.3em;\n",
       "padding-left: 0.4em;\n",
       "}\n",
       ".hoogle-code {\n",
       "display: block;\n",
       "font-family: monospace;\n",
       "white-space: pre;\n",
       "}\n",
       ".hoogle-text {\n",
       "display: block;\n",
       "}\n",
       ".hoogle-name {\n",
       "color: green;\n",
       "font-weight: bold;\n",
       "}\n",
       ".hoogle-head {\n",
       "font-weight: bold;\n",
       "}\n",
       ".hoogle-sub {\n",
       "display: block;\n",
       "margin-left: 0.4em;\n",
       "}\n",
       ".hoogle-package {\n",
       "font-weight: bold;\n",
       "font-style: italic;\n",
       "}\n",
       ".hoogle-module {\n",
       "font-weight: bold;\n",
       "}\n",
       ".hoogle-class {\n",
       "font-weight: bold;\n",
       "}\n",
       ".get-type {\n",
       "color: green;\n",
       "font-weight: bold;\n",
       "font-family: monospace;\n",
       "display: block;\n",
       "white-space: pre-wrap;\n",
       "}\n",
       ".show-type {\n",
       "color: green;\n",
       "font-weight: bold;\n",
       "font-family: monospace;\n",
       "margin-left: 1em;\n",
       "}\n",
       ".mono {\n",
       "font-family: monospace;\n",
       "display: block;\n",
       "}\n",
       ".err-msg {\n",
       "color: red;\n",
       "font-style: italic;\n",
       "font-family: monospace;\n",
       "white-space: pre;\n",
       "display: block;\n",
       "}\n",
       "#unshowable {\n",
       "color: red;\n",
       "font-weight: bold;\n",
       "}\n",
       ".err-msg.in.collapse {\n",
       "padding-top: 0.7em;\n",
       "}\n",
       ".highlight-code {\n",
       "white-space: pre;\n",
       "font-family: monospace;\n",
       "}\n",
       ".suggestion-warning { \n",
       "font-weight: bold;\n",
       "color: rgb(200, 130, 0);\n",
       "}\n",
       ".suggestion-error { \n",
       "font-weight: bold;\n",
       "color: red;\n",
       "}\n",
       ".suggestion-name {\n",
       "font-weight: bold;\n",
       "}\n",
       "</style><span class='get-type'>Unary :: forall a. a -> Operands a</span>"
      ],
      "text/plain": [
       "Unary :: forall a. a -> Operands a"
      ]
     },
     "metadata": {},
     "output_type": "display_data"
    }
   ],
   "source": [
    "data Operands a = Binary a a | Unary a\n",
    ":t Binary\n",
    ":t Unary\n",
    "\n",
    "addition:: Num a => Operands a -> a\n",
    "addition (Unary a) = a\n",
    "addition (Binary b c) = b + c"
   ]
  },
  {
   "cell_type": "code",
   "execution_count": 67,
   "id": "49410e8a",
   "metadata": {},
   "outputs": [
    {
     "data": {
      "text/plain": [
       "4"
      ]
     },
     "metadata": {},
     "output_type": "display_data"
    },
    {
     "data": {
      "text/plain": [
       "6"
      ]
     },
     "metadata": {},
     "output_type": "display_data"
    }
   ],
   "source": [
    "addition (Unary 4)\n",
    "addition (Binary 2 4)"
   ]
  }
 ],
 "metadata": {
  "kernelspec": {
   "display_name": "Haskell",
   "language": "haskell",
   "name": "haskell"
  },
  "language_info": {
   "codemirror_mode": "ihaskell",
   "file_extension": ".hs",
   "mimetype": "text/x-haskell",
   "name": "haskell",
   "pygments_lexer": "Haskell",
   "version": "9.4.5"
  }
 },
 "nbformat": 4,
 "nbformat_minor": 5
}

{
 "cells": [
  {
   "cell_type": "markdown",
   "id": "2fbe9757",
   "metadata": {},
   "source": [
    "# Guided exercise 8: Input and Output"
   ]
  },
  {
   "cell_type": "markdown",
   "id": "821b22fe",
   "metadata": {},
   "source": [
    "With monadic programming we are able to handle IO (and more things we are used to in imperative programming)\n",
    "\n",
    "The basic IO actions are `getChar :: IO Char`, `putChar :: Char -> IO ()` and `return :: a -> IO a`\n",
    "\n",
    "We call them actions because they have side effects (reading something from the keyboard or printing something to the screen) in addition to returning something as any other Haskell function. The returning value is always `IO a`"
   ]
  },
  {
   "cell_type": "code",
   "execution_count": 2,
   "id": "62c1e9a7",
   "metadata": {},
   "outputs": [
    {
     "data": {
      "text/html": [
       "<style>/* Styles used for the Hoogle display in the pager */\n",
       ".hoogle-doc {\n",
       "display: block;\n",
       "padding-bottom: 1.3em;\n",
       "padding-left: 0.4em;\n",
       "}\n",
       ".hoogle-code {\n",
       "display: block;\n",
       "font-family: monospace;\n",
       "white-space: pre;\n",
       "}\n",
       ".hoogle-text {\n",
       "display: block;\n",
       "}\n",
       ".hoogle-name {\n",
       "color: green;\n",
       "font-weight: bold;\n",
       "}\n",
       ".hoogle-head {\n",
       "font-weight: bold;\n",
       "}\n",
       ".hoogle-sub {\n",
       "display: block;\n",
       "margin-left: 0.4em;\n",
       "}\n",
       ".hoogle-package {\n",
       "font-weight: bold;\n",
       "font-style: italic;\n",
       "}\n",
       ".hoogle-module {\n",
       "font-weight: bold;\n",
       "}\n",
       ".hoogle-class {\n",
       "font-weight: bold;\n",
       "}\n",
       ".get-type {\n",
       "color: green;\n",
       "font-weight: bold;\n",
       "font-family: monospace;\n",
       "display: block;\n",
       "white-space: pre-wrap;\n",
       "}\n",
       ".show-type {\n",
       "color: green;\n",
       "font-weight: bold;\n",
       "font-family: monospace;\n",
       "margin-left: 1em;\n",
       "}\n",
       ".mono {\n",
       "font-family: monospace;\n",
       "display: block;\n",
       "}\n",
       ".err-msg {\n",
       "color: red;\n",
       "font-style: italic;\n",
       "font-family: monospace;\n",
       "white-space: pre;\n",
       "display: block;\n",
       "}\n",
       "#unshowable {\n",
       "color: red;\n",
       "font-weight: bold;\n",
       "}\n",
       ".err-msg.in.collapse {\n",
       "padding-top: 0.7em;\n",
       "}\n",
       ".highlight-code {\n",
       "white-space: pre;\n",
       "font-family: monospace;\n",
       "}\n",
       ".suggestion-warning { \n",
       "font-weight: bold;\n",
       "color: rgb(200, 130, 0);\n",
       "}\n",
       ".suggestion-error { \n",
       "font-weight: bold;\n",
       "color: red;\n",
       "}\n",
       ".suggestion-name {\n",
       "font-weight: bold;\n",
       "}\n",
       "</style><span class='get-type'>getChar :: IO Char</span>"
      ],
      "text/plain": [
       "getChar :: IO Char"
      ]
     },
     "metadata": {},
     "output_type": "display_data"
    },
    {
     "data": {
      "text/html": [
       "<style>/* Styles used for the Hoogle display in the pager */\n",
       ".hoogle-doc {\n",
       "display: block;\n",
       "padding-bottom: 1.3em;\n",
       "padding-left: 0.4em;\n",
       "}\n",
       ".hoogle-code {\n",
       "display: block;\n",
       "font-family: monospace;\n",
       "white-space: pre;\n",
       "}\n",
       ".hoogle-text {\n",
       "display: block;\n",
       "}\n",
       ".hoogle-name {\n",
       "color: green;\n",
       "font-weight: bold;\n",
       "}\n",
       ".hoogle-head {\n",
       "font-weight: bold;\n",
       "}\n",
       ".hoogle-sub {\n",
       "display: block;\n",
       "margin-left: 0.4em;\n",
       "}\n",
       ".hoogle-package {\n",
       "font-weight: bold;\n",
       "font-style: italic;\n",
       "}\n",
       ".hoogle-module {\n",
       "font-weight: bold;\n",
       "}\n",
       ".hoogle-class {\n",
       "font-weight: bold;\n",
       "}\n",
       ".get-type {\n",
       "color: green;\n",
       "font-weight: bold;\n",
       "font-family: monospace;\n",
       "display: block;\n",
       "white-space: pre-wrap;\n",
       "}\n",
       ".show-type {\n",
       "color: green;\n",
       "font-weight: bold;\n",
       "font-family: monospace;\n",
       "margin-left: 1em;\n",
       "}\n",
       ".mono {\n",
       "font-family: monospace;\n",
       "display: block;\n",
       "}\n",
       ".err-msg {\n",
       "color: red;\n",
       "font-style: italic;\n",
       "font-family: monospace;\n",
       "white-space: pre;\n",
       "display: block;\n",
       "}\n",
       "#unshowable {\n",
       "color: red;\n",
       "font-weight: bold;\n",
       "}\n",
       ".err-msg.in.collapse {\n",
       "padding-top: 0.7em;\n",
       "}\n",
       ".highlight-code {\n",
       "white-space: pre;\n",
       "font-family: monospace;\n",
       "}\n",
       ".suggestion-warning { \n",
       "font-weight: bold;\n",
       "color: rgb(200, 130, 0);\n",
       "}\n",
       ".suggestion-error { \n",
       "font-weight: bold;\n",
       "color: red;\n",
       "}\n",
       ".suggestion-name {\n",
       "font-weight: bold;\n",
       "}\n",
       "</style><span class='get-type'>putChar :: Char -> IO ()</span>"
      ],
      "text/plain": [
       "putChar :: Char -> IO ()"
      ]
     },
     "metadata": {},
     "output_type": "display_data"
    },
    {
     "data": {
      "text/html": [
       "<style>/* Styles used for the Hoogle display in the pager */\n",
       ".hoogle-doc {\n",
       "display: block;\n",
       "padding-bottom: 1.3em;\n",
       "padding-left: 0.4em;\n",
       "}\n",
       ".hoogle-code {\n",
       "display: block;\n",
       "font-family: monospace;\n",
       "white-space: pre;\n",
       "}\n",
       ".hoogle-text {\n",
       "display: block;\n",
       "}\n",
       ".hoogle-name {\n",
       "color: green;\n",
       "font-weight: bold;\n",
       "}\n",
       ".hoogle-head {\n",
       "font-weight: bold;\n",
       "}\n",
       ".hoogle-sub {\n",
       "display: block;\n",
       "margin-left: 0.4em;\n",
       "}\n",
       ".hoogle-package {\n",
       "font-weight: bold;\n",
       "font-style: italic;\n",
       "}\n",
       ".hoogle-module {\n",
       "font-weight: bold;\n",
       "}\n",
       ".hoogle-class {\n",
       "font-weight: bold;\n",
       "}\n",
       ".get-type {\n",
       "color: green;\n",
       "font-weight: bold;\n",
       "font-family: monospace;\n",
       "display: block;\n",
       "white-space: pre-wrap;\n",
       "}\n",
       ".show-type {\n",
       "color: green;\n",
       "font-weight: bold;\n",
       "font-family: monospace;\n",
       "margin-left: 1em;\n",
       "}\n",
       ".mono {\n",
       "font-family: monospace;\n",
       "display: block;\n",
       "}\n",
       ".err-msg {\n",
       "color: red;\n",
       "font-style: italic;\n",
       "font-family: monospace;\n",
       "white-space: pre;\n",
       "display: block;\n",
       "}\n",
       "#unshowable {\n",
       "color: red;\n",
       "font-weight: bold;\n",
       "}\n",
       ".err-msg.in.collapse {\n",
       "padding-top: 0.7em;\n",
       "}\n",
       ".highlight-code {\n",
       "white-space: pre;\n",
       "font-family: monospace;\n",
       "}\n",
       ".suggestion-warning { \n",
       "font-weight: bold;\n",
       "color: rgb(200, 130, 0);\n",
       "}\n",
       ".suggestion-error { \n",
       "font-weight: bold;\n",
       "color: red;\n",
       "}\n",
       ".suggestion-name {\n",
       "font-weight: bold;\n",
       "}\n",
       "</style><span class='get-type'>return :: forall (m :: * -> *) a. Monad m => a -> m a</span>"
      ],
      "text/plain": [
       "return :: forall (m :: * -> *) a. Monad m => a -> m a"
      ]
     },
     "metadata": {},
     "output_type": "display_data"
    }
   ],
   "source": [
    "-- Checking the types\n",
    ":t getChar\n",
    ":t putChar\n",
    ":t return "
   ]
  },
  {
   "cell_type": "code",
   "execution_count": 3,
   "id": "ed9845d7",
   "metadata": {},
   "outputs": [
    {
     "data": {
      "text/plain": [
       "'c'"
      ]
     },
     "metadata": {},
     "output_type": "display_data"
    },
    {
     "data": {
      "text/plain": [
       "a"
      ]
     },
     "metadata": {},
     "output_type": "display_data"
    },
    {
     "data": {
      "text/plain": [
       "4"
      ]
     },
     "metadata": {},
     "output_type": "display_data"
    },
    {
     "data": {
      "text/html": [
       "<style>/* Styles used for the Hoogle display in the pager */\n",
       ".hoogle-doc {\n",
       "display: block;\n",
       "padding-bottom: 1.3em;\n",
       "padding-left: 0.4em;\n",
       "}\n",
       ".hoogle-code {\n",
       "display: block;\n",
       "font-family: monospace;\n",
       "white-space: pre;\n",
       "}\n",
       ".hoogle-text {\n",
       "display: block;\n",
       "}\n",
       ".hoogle-name {\n",
       "color: green;\n",
       "font-weight: bold;\n",
       "}\n",
       ".hoogle-head {\n",
       "font-weight: bold;\n",
       "}\n",
       ".hoogle-sub {\n",
       "display: block;\n",
       "margin-left: 0.4em;\n",
       "}\n",
       ".hoogle-package {\n",
       "font-weight: bold;\n",
       "font-style: italic;\n",
       "}\n",
       ".hoogle-module {\n",
       "font-weight: bold;\n",
       "}\n",
       ".hoogle-class {\n",
       "font-weight: bold;\n",
       "}\n",
       ".get-type {\n",
       "color: green;\n",
       "font-weight: bold;\n",
       "font-family: monospace;\n",
       "display: block;\n",
       "white-space: pre-wrap;\n",
       "}\n",
       ".show-type {\n",
       "color: green;\n",
       "font-weight: bold;\n",
       "font-family: monospace;\n",
       "margin-left: 1em;\n",
       "}\n",
       ".mono {\n",
       "font-family: monospace;\n",
       "display: block;\n",
       "}\n",
       ".err-msg {\n",
       "color: red;\n",
       "font-style: italic;\n",
       "font-family: monospace;\n",
       "white-space: pre;\n",
       "display: block;\n",
       "}\n",
       "#unshowable {\n",
       "color: red;\n",
       "font-weight: bold;\n",
       "}\n",
       ".err-msg.in.collapse {\n",
       "padding-top: 0.7em;\n",
       "}\n",
       ".highlight-code {\n",
       "white-space: pre;\n",
       "font-family: monospace;\n",
       "}\n",
       ".suggestion-warning { \n",
       "font-weight: bold;\n",
       "color: rgb(200, 130, 0);\n",
       "}\n",
       ".suggestion-error { \n",
       "font-weight: bold;\n",
       "color: red;\n",
       "}\n",
       ".suggestion-name {\n",
       "font-weight: bold;\n",
       "}\n",
       "</style><span class='get-type'>return 4 :: forall {m :: * -> *} {a}. (Monad m, Num a) => m a</span>"
      ],
      "text/plain": [
       "return 4 :: forall {m :: * -> *} {a}. (Monad m, Num a) => m a"
      ]
     },
     "metadata": {},
     "output_type": "display_data"
    }
   ],
   "source": [
    "-- Some examples\n",
    "getChar\n",
    "putChar 'a'\n",
    "-- Be carefull this is not an Int, but a Monad Int\n",
    "return 4\n",
    ":t return 4\n",
    "-- This will raise an error\n",
    "-- 3 + (return 4)"
   ]
  },
  {
   "cell_type": "markdown",
   "id": "677b3d42",
   "metadata": {},
   "source": [
    " **Exercise 1.** Create a function `multiplyPut Int` that receives a number, multiplies it by 2 and puts it on IO using `putChar`. Guess the type."
   ]
  },
  {
   "cell_type": "code",
   "execution_count": 4,
   "id": "5654cbf6",
   "metadata": {},
   "outputs": [],
   "source": [
    "-- First version, only the first character is printed\n",
    "multiplyPut :: (Show a, Num a) => a -> IO ()\n",
    "multiplyPut a = putChar $ head $ show $ a * 2"
   ]
  },
  {
   "cell_type": "code",
   "execution_count": 5,
   "id": "fcc709cd",
   "metadata": {
    "scrolled": true
   },
   "outputs": [
    {
     "data": {
      "text/plain": [
       "2"
      ]
     },
     "metadata": {},
     "output_type": "display_data"
    },
    {
     "data": {
      "text/plain": [
       "2"
      ]
     },
     "metadata": {},
     "output_type": "display_data"
    }
   ],
   "source": [
    "multiplyPut 12\n",
    "multiplyPut 1.3"
   ]
  },
  {
   "cell_type": "code",
   "execution_count": 27,
   "id": "5a1552ab",
   "metadata": {},
   "outputs": [],
   "source": [
    "-- To be able to show all characters we need to use a do\n",
    "putChars :: String -> IO ()\n",
    "putChars [] = putChar '\\n'\n",
    "putChars (x:xs) = do\n",
    "    putChar x\n",
    "    putChars xs\n",
    "    \n",
    "multiplyPut' :: (Show a, Num a) => a -> IO ()\n",
    "multiplyPut' a = putChars $ show $ a * 2"
   ]
  },
  {
   "cell_type": "code",
   "execution_count": 8,
   "id": "efb8cd49",
   "metadata": {},
   "outputs": [
    {
     "data": {
      "text/plain": [
       "24"
      ]
     },
     "metadata": {},
     "output_type": "display_data"
    },
    {
     "data": {
      "text/plain": [
       "2.6"
      ]
     },
     "metadata": {},
     "output_type": "display_data"
    }
   ],
   "source": [
    "multiplyPut' 12\n",
    "multiplyPut' 1.3"
   ]
  },
  {
   "cell_type": "code",
   "execution_count": 28,
   "id": "cd6faf8e",
   "metadata": {},
   "outputs": [
    {
     "data": {
      "text/html": [
       "<style>/* Styles used for the Hoogle display in the pager */\n",
       ".hoogle-doc {\n",
       "display: block;\n",
       "padding-bottom: 1.3em;\n",
       "padding-left: 0.4em;\n",
       "}\n",
       ".hoogle-code {\n",
       "display: block;\n",
       "font-family: monospace;\n",
       "white-space: pre;\n",
       "}\n",
       ".hoogle-text {\n",
       "display: block;\n",
       "}\n",
       ".hoogle-name {\n",
       "color: green;\n",
       "font-weight: bold;\n",
       "}\n",
       ".hoogle-head {\n",
       "font-weight: bold;\n",
       "}\n",
       ".hoogle-sub {\n",
       "display: block;\n",
       "margin-left: 0.4em;\n",
       "}\n",
       ".hoogle-package {\n",
       "font-weight: bold;\n",
       "font-style: italic;\n",
       "}\n",
       ".hoogle-module {\n",
       "font-weight: bold;\n",
       "}\n",
       ".hoogle-class {\n",
       "font-weight: bold;\n",
       "}\n",
       ".get-type {\n",
       "color: green;\n",
       "font-weight: bold;\n",
       "font-family: monospace;\n",
       "display: block;\n",
       "white-space: pre-wrap;\n",
       "}\n",
       ".show-type {\n",
       "color: green;\n",
       "font-weight: bold;\n",
       "font-family: monospace;\n",
       "margin-left: 1em;\n",
       "}\n",
       ".mono {\n",
       "font-family: monospace;\n",
       "display: block;\n",
       "}\n",
       ".err-msg {\n",
       "color: red;\n",
       "font-style: italic;\n",
       "font-family: monospace;\n",
       "white-space: pre;\n",
       "display: block;\n",
       "}\n",
       "#unshowable {\n",
       "color: red;\n",
       "font-weight: bold;\n",
       "}\n",
       ".err-msg.in.collapse {\n",
       "padding-top: 0.7em;\n",
       "}\n",
       ".highlight-code {\n",
       "white-space: pre;\n",
       "font-family: monospace;\n",
       "}\n",
       ".suggestion-warning { \n",
       "font-weight: bold;\n",
       "color: rgb(200, 130, 0);\n",
       "}\n",
       ".suggestion-error { \n",
       "font-weight: bold;\n",
       "color: red;\n",
       "}\n",
       ".suggestion-name {\n",
       "font-weight: bold;\n",
       "}\n",
       "</style><span class='get-type'>putChars :: String -> IO ()</span>"
      ],
      "text/plain": [
       "putChars :: String -> IO ()"
      ]
     },
     "metadata": {},
     "output_type": "display_data"
    }
   ],
   "source": [
    ":t putChars"
   ]
  },
  {
   "cell_type": "markdown",
   "id": "dfff6c85",
   "metadata": {},
   "source": [
    "**Performing several I/O operations in a row.** If we want to perform several I/O operations one after the other, we need to use the `do`. This will make our function to look like an imperative program."
   ]
  },
  {
   "cell_type": "code",
   "execution_count": 7,
   "id": "307bb5f6",
   "metadata": {},
   "outputs": [],
   "source": [
    "-- Function that writes all the characters of a string with - between them\n",
    "-- The type is IO () as the base case is IO ()\n",
    "writeChars :: String -> IO ()\n",
    "writeChars [x] = putChar x\n",
    "writeChars (x:xs) = do\n",
    "        -- Indentation must be the same for all the do block\n",
    "        putChar x\n",
    "        putChar '-'\n",
    "        writeChars xs"
   ]
  },
  {
   "cell_type": "code",
   "execution_count": 8,
   "id": "69e3ce3a",
   "metadata": {},
   "outputs": [
    {
     "data": {
      "text/plain": [
       "h-e-l-l-o"
      ]
     },
     "metadata": {},
     "output_type": "display_data"
    }
   ],
   "source": [
    "writeChars \"hello\""
   ]
  },
  {
   "cell_type": "markdown",
   "id": "91e55e06",
   "metadata": {},
   "source": [
    "**Exercise 2.** Create a `printVowels String` function that prints the vowels of a word separated by \"-\""
   ]
  },
  {
   "cell_type": "code",
   "execution_count": 5,
   "id": "9f39df71",
   "metadata": {},
   "outputs": [
    {
     "data": {
      "text/html": [
       "<style>/* Styles used for the Hoogle display in the pager */\n",
       ".hoogle-doc {\n",
       "display: block;\n",
       "padding-bottom: 1.3em;\n",
       "padding-left: 0.4em;\n",
       "}\n",
       ".hoogle-code {\n",
       "display: block;\n",
       "font-family: monospace;\n",
       "white-space: pre;\n",
       "}\n",
       ".hoogle-text {\n",
       "display: block;\n",
       "}\n",
       ".hoogle-name {\n",
       "color: green;\n",
       "font-weight: bold;\n",
       "}\n",
       ".hoogle-head {\n",
       "font-weight: bold;\n",
       "}\n",
       ".hoogle-sub {\n",
       "display: block;\n",
       "margin-left: 0.4em;\n",
       "}\n",
       ".hoogle-package {\n",
       "font-weight: bold;\n",
       "font-style: italic;\n",
       "}\n",
       ".hoogle-module {\n",
       "font-weight: bold;\n",
       "}\n",
       ".hoogle-class {\n",
       "font-weight: bold;\n",
       "}\n",
       ".get-type {\n",
       "color: green;\n",
       "font-weight: bold;\n",
       "font-family: monospace;\n",
       "display: block;\n",
       "white-space: pre-wrap;\n",
       "}\n",
       ".show-type {\n",
       "color: green;\n",
       "font-weight: bold;\n",
       "font-family: monospace;\n",
       "margin-left: 1em;\n",
       "}\n",
       ".mono {\n",
       "font-family: monospace;\n",
       "display: block;\n",
       "}\n",
       ".err-msg {\n",
       "color: red;\n",
       "font-style: italic;\n",
       "font-family: monospace;\n",
       "white-space: pre;\n",
       "display: block;\n",
       "}\n",
       "#unshowable {\n",
       "color: red;\n",
       "font-weight: bold;\n",
       "}\n",
       ".err-msg.in.collapse {\n",
       "padding-top: 0.7em;\n",
       "}\n",
       ".highlight-code {\n",
       "white-space: pre;\n",
       "font-family: monospace;\n",
       "}\n",
       ".suggestion-warning { \n",
       "font-weight: bold;\n",
       "color: rgb(200, 130, 0);\n",
       "}\n",
       ".suggestion-error { \n",
       "font-weight: bold;\n",
       "color: red;\n",
       "}\n",
       ".suggestion-name {\n",
       "font-weight: bold;\n",
       "}\n",
       "</style><div class=\"suggestion-name\" style=\"clear:both;\">Use when</div><div class=\"suggestion-row\" style=\"float: left;\"><div class=\"suggestion-warning\">Found:</div><div class=\"highlight-code\" id=\"haskell\">if vowel x then putChar x else return ()</div></div><div class=\"suggestion-row\" style=\"float: left;\"><div class=\"suggestion-warning\">Why Not:</div><div class=\"highlight-code\" id=\"haskell\">Control.Monad.when (vowel x) $ putChar x</div></div>"
      ],
      "text/plain": [
       "Line 8: Use when\n",
       "Found:\n",
       "if vowel x then putChar x else return ()\n",
       "Why not:\n",
       "Control.Monad.when (vowel x) $ putChar x"
      ]
     },
     "metadata": {},
     "output_type": "display_data"
    }
   ],
   "source": [
    "vowel :: Char -> Bool\n",
    "vowel x = x `elem` \"aeiouAEIOU\"\n",
    "\n",
    "filterVowel :: String -> String\n",
    "filterVowel = filter vowel\n",
    "\n",
    "printVowels :: String -> IO ()\n",
    "printVowels [x] = if vowel x then putChar x else return ()\n",
    "printVowels (x:xs) = if not (vowel x) then printVowels xs\n",
    "        else do\n",
    "            putChar x\n",
    "            putChar '_'\n",
    "            printVowels xs\n",
    "\n",
    "printVowels' xs = printVowels $ filterVowel xs"
   ]
  },
  {
   "cell_type": "code",
   "execution_count": 7,
   "id": "bfc3220f",
   "metadata": {},
   "outputs": [
    {
     "data": {
      "text/plain": [
       "\"eooaeouIaO\""
      ]
     },
     "metadata": {},
     "output_type": "display_data"
    },
    {
     "data": {
      "text/plain": [
       "e_o_o_a_e_o_u_I_a_O_"
      ]
     },
     "metadata": {},
     "output_type": "display_data"
    },
    {
     "data": {
      "text/plain": [
       "e_o_o_a_e_o_u_I_a_O_i_e_o_u"
      ]
     },
     "metadata": {},
     "output_type": "display_data"
    },
    {
     "data": {
      "text/plain": [
       "e_o_o_a_e_o_u_I_a_O"
      ]
     },
     "metadata": {},
     "output_type": "display_data"
    },
    {
     "data": {
      "text/plain": [
       "e_o_o_a_e_o_u_I_a_O_i_e_o_u"
      ]
     },
     "metadata": {},
     "output_type": "display_data"
    }
   ],
   "source": [
    "filterVowel \"hello how are you, I am OK\" \n",
    "printVowels \"hello how are you, I am OK\"\n",
    "printVowels \"hello how are you, I am OK like you\"\n",
    "printVowels' \"hello how are you, I am OK\"\n",
    "printVowels' \"hello how are you, I am OK like you\""
   ]
  },
  {
   "cell_type": "markdown",
   "id": "914a42f8",
   "metadata": {},
   "source": [
    "The `getChar` function does not return a `Char` but an `IO Char` which is not compatible. How do we work with the `Char` in `getChar :: IO Char`? "
   ]
  },
  {
   "cell_type": "code",
   "execution_count": 1,
   "id": "14c8cfa3",
   "metadata": {},
   "outputs": [],
   "source": [
    "-- Function that attempts to read a char and return it\n",
    "-- Notice it returns a monad of IO Char but not the Char (we'll work with monads next week)\n",
    "wrongReadChar :: Monad m => m (IO Char)\n",
    "wrongReadChar = return getChar"
   ]
  },
  {
   "cell_type": "markdown",
   "id": "629aad9a",
   "metadata": {},
   "source": [
    "We need to use the `<-` operator inside a `do`. Notice the `=` does not work for `IO` as you would get the whole `IO Char`"
   ]
  },
  {
   "cell_type": "code",
   "execution_count": 14,
   "id": "1af242da",
   "metadata": {},
   "outputs": [],
   "source": [
    "-- Function that reads two chars and returns a String with them\n",
    "-- Notice String is defined as type String = [Char], so we could also put IO [Char]\n",
    "readTwoChars :: IO String \n",
    "readTwoChars = do \n",
    "    -- Indentation must be equal for all the do block\n",
    "    -- The <- operator binds the result of an IO to a name\n",
    "    x <- getChar\n",
    "    putStrLn $ \"The first character is \" ++ [x]\n",
    "    -- This is to discard the /n\n",
    "    getChar\n",
    "    y <- getChar\n",
    "    putStrLn $ \"The second character is \" ++ [y]\n",
    "    -- This is to discard the /n\n",
    "    getChar\n",
    "    return [x, y]"
   ]
  },
  {
   "cell_type": "code",
   "execution_count": 15,
   "id": "ec410324",
   "metadata": {},
   "outputs": [
    {
     "data": {
      "text/plain": [
       "The first character is a\n",
       "The second character is b\n",
       "\"ab\""
      ]
     },
     "metadata": {},
     "output_type": "display_data"
    }
   ],
   "source": [
    "readTwoChars"
   ]
  },
  {
   "cell_type": "markdown",
   "id": "f9cdd885",
   "metadata": {},
   "source": [
    "**Exercise 3.** Create a function `equalChars` that reads two chars and returns if they are equal or not"
   ]
  },
  {
   "cell_type": "code",
   "execution_count": 3,
   "id": "2e68e659",
   "metadata": {},
   "outputs": [],
   "source": [
    "equalChars :: IO Bool\n",
    "equalChars = do         \n",
    "                -- We'll use the previous one\n",
    "                x <- readTwoChars\n",
    "                putStrLn $ \"The first character is \" ++ show (head x)\n",
    "                putStrLn $ \"The second character is \" ++ show (last x)\n",
    "                return (head x == last x)"
   ]
  },
  {
   "cell_type": "code",
   "execution_count": 4,
   "id": "410b9096",
   "metadata": {},
   "outputs": [
    {
     "data": {
      "text/plain": [
       "The first character is 'a'\n",
       "The second character is 'a'\n",
       "True"
      ]
     },
     "metadata": {},
     "output_type": "display_data"
    }
   ],
   "source": [
    "equalChars"
   ]
  },
  {
   "cell_type": "markdown",
   "id": "a6b283ca",
   "metadata": {},
   "source": [
    "The `getChar` function is generalized by `getLine` (see slides). We have also `putStr` and `putStrLn`"
   ]
  },
  {
   "cell_type": "code",
   "execution_count": 8,
   "id": "f0dd6556",
   "metadata": {},
   "outputs": [
    {
     "data": {
      "text/plain": [
       "Enter you name"
      ]
     },
     "metadata": {},
     "output_type": "display_data"
    },
    {
     "data": {
      "text/plain": [
       "hello Pepe! How are you?"
      ]
     },
     "metadata": {},
     "output_type": "display_data"
    },
    {
     "data": {
      "text/html": [
       "<style>/* Styles used for the Hoogle display in the pager */\n",
       ".hoogle-doc {\n",
       "display: block;\n",
       "padding-bottom: 1.3em;\n",
       "padding-left: 0.4em;\n",
       "}\n",
       ".hoogle-code {\n",
       "display: block;\n",
       "font-family: monospace;\n",
       "white-space: pre;\n",
       "}\n",
       ".hoogle-text {\n",
       "display: block;\n",
       "}\n",
       ".hoogle-name {\n",
       "color: green;\n",
       "font-weight: bold;\n",
       "}\n",
       ".hoogle-head {\n",
       "font-weight: bold;\n",
       "}\n",
       ".hoogle-sub {\n",
       "display: block;\n",
       "margin-left: 0.4em;\n",
       "}\n",
       ".hoogle-package {\n",
       "font-weight: bold;\n",
       "font-style: italic;\n",
       "}\n",
       ".hoogle-module {\n",
       "font-weight: bold;\n",
       "}\n",
       ".hoogle-class {\n",
       "font-weight: bold;\n",
       "}\n",
       ".get-type {\n",
       "color: green;\n",
       "font-weight: bold;\n",
       "font-family: monospace;\n",
       "display: block;\n",
       "white-space: pre-wrap;\n",
       "}\n",
       ".show-type {\n",
       "color: green;\n",
       "font-weight: bold;\n",
       "font-family: monospace;\n",
       "margin-left: 1em;\n",
       "}\n",
       ".mono {\n",
       "font-family: monospace;\n",
       "display: block;\n",
       "}\n",
       ".err-msg {\n",
       "color: red;\n",
       "font-style: italic;\n",
       "font-family: monospace;\n",
       "white-space: pre;\n",
       "display: block;\n",
       "}\n",
       "#unshowable {\n",
       "color: red;\n",
       "font-weight: bold;\n",
       "}\n",
       ".err-msg.in.collapse {\n",
       "padding-top: 0.7em;\n",
       "}\n",
       ".highlight-code {\n",
       "white-space: pre;\n",
       "font-family: monospace;\n",
       "}\n",
       ".suggestion-warning { \n",
       "font-weight: bold;\n",
       "color: rgb(200, 130, 0);\n",
       "}\n",
       ".suggestion-error { \n",
       "font-weight: bold;\n",
       "color: red;\n",
       "}\n",
       ".suggestion-name {\n",
       "font-weight: bold;\n",
       "}\n",
       "</style><span class='get-type'>getLine :: IO String</span>"
      ],
      "text/plain": [
       "getLine :: IO String"
      ]
     },
     "metadata": {},
     "output_type": "display_data"
    },
    {
     "data": {
      "text/html": [
       "<style>/* Styles used for the Hoogle display in the pager */\n",
       ".hoogle-doc {\n",
       "display: block;\n",
       "padding-bottom: 1.3em;\n",
       "padding-left: 0.4em;\n",
       "}\n",
       ".hoogle-code {\n",
       "display: block;\n",
       "font-family: monospace;\n",
       "white-space: pre;\n",
       "}\n",
       ".hoogle-text {\n",
       "display: block;\n",
       "}\n",
       ".hoogle-name {\n",
       "color: green;\n",
       "font-weight: bold;\n",
       "}\n",
       ".hoogle-head {\n",
       "font-weight: bold;\n",
       "}\n",
       ".hoogle-sub {\n",
       "display: block;\n",
       "margin-left: 0.4em;\n",
       "}\n",
       ".hoogle-package {\n",
       "font-weight: bold;\n",
       "font-style: italic;\n",
       "}\n",
       ".hoogle-module {\n",
       "font-weight: bold;\n",
       "}\n",
       ".hoogle-class {\n",
       "font-weight: bold;\n",
       "}\n",
       ".get-type {\n",
       "color: green;\n",
       "font-weight: bold;\n",
       "font-family: monospace;\n",
       "display: block;\n",
       "white-space: pre-wrap;\n",
       "}\n",
       ".show-type {\n",
       "color: green;\n",
       "font-weight: bold;\n",
       "font-family: monospace;\n",
       "margin-left: 1em;\n",
       "}\n",
       ".mono {\n",
       "font-family: monospace;\n",
       "display: block;\n",
       "}\n",
       ".err-msg {\n",
       "color: red;\n",
       "font-style: italic;\n",
       "font-family: monospace;\n",
       "white-space: pre;\n",
       "display: block;\n",
       "}\n",
       "#unshowable {\n",
       "color: red;\n",
       "font-weight: bold;\n",
       "}\n",
       ".err-msg.in.collapse {\n",
       "padding-top: 0.7em;\n",
       "}\n",
       ".highlight-code {\n",
       "white-space: pre;\n",
       "font-family: monospace;\n",
       "}\n",
       ".suggestion-warning { \n",
       "font-weight: bold;\n",
       "color: rgb(200, 130, 0);\n",
       "}\n",
       ".suggestion-error { \n",
       "font-weight: bold;\n",
       "color: red;\n",
       "}\n",
       ".suggestion-name {\n",
       "font-weight: bold;\n",
       "}\n",
       "</style><span class='get-type'>putStr :: String -> IO ()</span>"
      ],
      "text/plain": [
       "putStr :: String -> IO ()"
      ]
     },
     "metadata": {},
     "output_type": "display_data"
    }
   ],
   "source": [
    "-- Try it without the do, to see what happens\n",
    "putStrLn \"Enter you name\"\n",
    "do \n",
    "    x <- getLine\n",
    "    putStr \"hello \" \n",
    "    putStr x\n",
    "    putStrLn \"! How are you?\"\n",
    "\n",
    "-- Types\n",
    ":t getLine\n",
    ":t putStr"
   ]
  },
  {
   "cell_type": "markdown",
   "id": "e778eeb4",
   "metadata": {},
   "source": [
    "With `getChar` and `getLine` we read a `Char` and a `String` respectively, but how do we read numbers? We can read a `String` and use `let` and the `read` method:"
   ]
  },
  {
   "cell_type": "code",
   "execution_count": 10,
   "id": "c774959b",
   "metadata": {},
   "outputs": [],
   "source": [
    "evenInput :: IO String\n",
    "evenInput = do\n",
    "            putStrLn \"Enter a number\"\n",
    "            sn <- getLine\n",
    "            putStrLn (\"You entered \" ++ sn)\n",
    "            if even (read sn :: Int) then return \"Even\" else return \"Odd\""
   ]
  },
  {
   "cell_type": "code",
   "execution_count": 11,
   "id": "2bfe98ba",
   "metadata": {},
   "outputs": [
    {
     "data": {
      "text/plain": [
       "Enter a number\n",
       "You entered 45\n",
       "\"Odd\""
      ]
     },
     "metadata": {},
     "output_type": "display_data"
    }
   ],
   "source": [
    "evenInput"
   ]
  },
  {
   "cell_type": "markdown",
   "id": "2dbd7d89",
   "metadata": {},
   "source": [
    "**Exercise 4.** Create a function that asks for two integer numbers, adds them and returns the result."
   ]
  },
  {
   "cell_type": "code",
   "execution_count": 12,
   "id": "2995860e",
   "metadata": {},
   "outputs": [],
   "source": [
    "addNumbers :: IO Int\n",
    "addNumbers = do\n",
    "        putStrLn \"Enter the first number\"\n",
    "        sn1 <- getLine\n",
    "        putStrLn sn1\n",
    "        putStrLn \"Enter the second number\"\n",
    "        sn2 <- getLine\n",
    "        putStrLn sn2\n",
    "        -- We can use let to make things easier to read\n",
    "        let n1 = read sn1 :: Int\n",
    "            n2 = read sn2 :: Int\n",
    "        putStrLn (sn1 ++ \" + \" ++ sn2 ++ \" = \" ++ show (n1 + n2))\n",
    "        return (n1 + n2)"
   ]
  },
  {
   "cell_type": "code",
   "execution_count": 19,
   "id": "3f040b1d",
   "metadata": {},
   "outputs": [
    {
     "data": {
      "text/plain": [
       "Enter the first number\n",
       "5\n",
       "Enter the second number\n",
       "22\n",
       "5 + 22 = 27\n",
       "27"
      ]
     },
     "metadata": {},
     "output_type": "display_data"
    }
   ],
   "source": [
    "addNumbers"
   ]
  },
  {
   "cell_type": "markdown",
   "id": "85552dd3",
   "metadata": {},
   "source": [
    "How do we get the read numbers out of the function? In other languages we are used to do something like \n",
    " `result = readNumber()` and then work with `result`. In Haskell we cannot do it, but we can invoke another function on a read value:"
   ]
  },
  {
   "cell_type": "code",
   "execution_count": 13,
   "id": "d4afdf4c",
   "metadata": {},
   "outputs": [],
   "source": [
    "inbounds :: Int -> Int -> Int -> Bool\n",
    "inbounds lb up val = lb <= val && up >= val\n",
    "\n",
    "checkBound :: IO Bool\n",
    "checkBound =\n",
    "    do\n",
    "    putStrLn \"Enter the lower bound\"\n",
    "    lb <- getLine\n",
    "    putStrLn $ \"You entered \" ++  lb\n",
    "    putStrLn \"Enter upper bound\"\n",
    "    ub <- getLine\n",
    "    putStrLn $ \"You entered \" ++  ub\n",
    "    putStrLn \"Enter the value\"\n",
    "    val <- getLine\n",
    "    putStrLn $ \"You entered \" ++  val\n",
    "    return $ inbounds (read lb::Int) (read ub :: Int) (read val :: Int)"
   ]
  },
  {
   "cell_type": "code",
   "execution_count": 14,
   "id": "ce726554",
   "metadata": {},
   "outputs": [
    {
     "data": {
      "text/plain": [
       "Enter the lower bound\n",
       "You entered 2\n",
       "Enter upper bound\n",
       "You entered 10\n",
       "Enter the value\n",
       "You entered 4\n",
       "True"
      ]
     },
     "metadata": {},
     "output_type": "display_data"
    }
   ],
   "source": [
    "checkBound"
   ]
  },
  {
   "cell_type": "markdown",
   "id": "17f14043",
   "metadata": {},
   "source": [
    "Check the result of the following program. As you see in Haskell `return` is not like in imperative languages, it should be read as *wrap the datum to an IO type*"
   ]
  },
  {
   "cell_type": "code",
   "execution_count": 19,
   "id": "026e6c4f",
   "metadata": {},
   "outputs": [
    {
     "data": {
      "text/html": [
       "<style>/* Styles used for the Hoogle display in the pager */\n",
       ".hoogle-doc {\n",
       "display: block;\n",
       "padding-bottom: 1.3em;\n",
       "padding-left: 0.4em;\n",
       "}\n",
       ".hoogle-code {\n",
       "display: block;\n",
       "font-family: monospace;\n",
       "white-space: pre;\n",
       "}\n",
       ".hoogle-text {\n",
       "display: block;\n",
       "}\n",
       ".hoogle-name {\n",
       "color: green;\n",
       "font-weight: bold;\n",
       "}\n",
       ".hoogle-head {\n",
       "font-weight: bold;\n",
       "}\n",
       ".hoogle-sub {\n",
       "display: block;\n",
       "margin-left: 0.4em;\n",
       "}\n",
       ".hoogle-package {\n",
       "font-weight: bold;\n",
       "font-style: italic;\n",
       "}\n",
       ".hoogle-module {\n",
       "font-weight: bold;\n",
       "}\n",
       ".hoogle-class {\n",
       "font-weight: bold;\n",
       "}\n",
       ".get-type {\n",
       "color: green;\n",
       "font-weight: bold;\n",
       "font-family: monospace;\n",
       "display: block;\n",
       "white-space: pre-wrap;\n",
       "}\n",
       ".show-type {\n",
       "color: green;\n",
       "font-weight: bold;\n",
       "font-family: monospace;\n",
       "margin-left: 1em;\n",
       "}\n",
       ".mono {\n",
       "font-family: monospace;\n",
       "display: block;\n",
       "}\n",
       ".err-msg {\n",
       "color: red;\n",
       "font-style: italic;\n",
       "font-family: monospace;\n",
       "white-space: pre;\n",
       "display: block;\n",
       "}\n",
       "#unshowable {\n",
       "color: red;\n",
       "font-weight: bold;\n",
       "}\n",
       ".err-msg.in.collapse {\n",
       "padding-top: 0.7em;\n",
       "}\n",
       ".highlight-code {\n",
       "white-space: pre;\n",
       "font-family: monospace;\n",
       "}\n",
       ".suggestion-warning { \n",
       "font-weight: bold;\n",
       "color: rgb(200, 130, 0);\n",
       "}\n",
       ".suggestion-error { \n",
       "font-weight: bold;\n",
       "color: red;\n",
       "}\n",
       ".suggestion-name {\n",
       "font-weight: bold;\n",
       "}\n",
       "</style><div class=\"suggestion-name\" style=\"clear:both;\">Redundant return</div><div class=\"suggestion-row\" style=\"float: left;\"><div class=\"suggestion-warning\">Found:</div><div class=\"highlight-code\" id=\"haskell\">return 4</div></div><div class=\"suggestion-row\" style=\"float: left;\"><div class=\"suggestion-warning\">Why Not:</div><div class=\"highlight-code\" id=\"haskell\"></div></div>"
      ],
      "text/plain": [
       "Line 3: Redundant return\n",
       "Found:\n",
       "return 4\n",
       "Why not:"
      ]
     },
     "metadata": {},
     "output_type": "display_data"
    }
   ],
   "source": [
    "function = do\n",
    "    putStrLn \"hello\"\n",
    "    return 4\n",
    "    putStrLn \"bye\""
   ]
  },
  {
   "cell_type": "code",
   "execution_count": 20,
   "id": "ea24f68d",
   "metadata": {},
   "outputs": [
    {
     "data": {
      "text/plain": [
       "hello\n",
       "bye"
      ]
     },
     "metadata": {},
     "output_type": "display_data"
    }
   ],
   "source": [
    "function"
   ]
  },
  {
   "cell_type": "code",
   "execution_count": 24,
   "id": "5e4299f8",
   "metadata": {},
   "outputs": [
    {
     "data": {
      "text/html": [
       "<style>/* Styles used for the Hoogle display in the pager */\n",
       ".hoogle-doc {\n",
       "display: block;\n",
       "padding-bottom: 1.3em;\n",
       "padding-left: 0.4em;\n",
       "}\n",
       ".hoogle-code {\n",
       "display: block;\n",
       "font-family: monospace;\n",
       "white-space: pre;\n",
       "}\n",
       ".hoogle-text {\n",
       "display: block;\n",
       "}\n",
       ".hoogle-name {\n",
       "color: green;\n",
       "font-weight: bold;\n",
       "}\n",
       ".hoogle-head {\n",
       "font-weight: bold;\n",
       "}\n",
       ".hoogle-sub {\n",
       "display: block;\n",
       "margin-left: 0.4em;\n",
       "}\n",
       ".hoogle-package {\n",
       "font-weight: bold;\n",
       "font-style: italic;\n",
       "}\n",
       ".hoogle-module {\n",
       "font-weight: bold;\n",
       "}\n",
       ".hoogle-class {\n",
       "font-weight: bold;\n",
       "}\n",
       ".get-type {\n",
       "color: green;\n",
       "font-weight: bold;\n",
       "font-family: monospace;\n",
       "display: block;\n",
       "white-space: pre-wrap;\n",
       "}\n",
       ".show-type {\n",
       "color: green;\n",
       "font-weight: bold;\n",
       "font-family: monospace;\n",
       "margin-left: 1em;\n",
       "}\n",
       ".mono {\n",
       "font-family: monospace;\n",
       "display: block;\n",
       "}\n",
       ".err-msg {\n",
       "color: red;\n",
       "font-style: italic;\n",
       "font-family: monospace;\n",
       "white-space: pre;\n",
       "display: block;\n",
       "}\n",
       "#unshowable {\n",
       "color: red;\n",
       "font-weight: bold;\n",
       "}\n",
       ".err-msg.in.collapse {\n",
       "padding-top: 0.7em;\n",
       "}\n",
       ".highlight-code {\n",
       "white-space: pre;\n",
       "font-family: monospace;\n",
       "}\n",
       ".suggestion-warning { \n",
       "font-weight: bold;\n",
       "color: rgb(200, 130, 0);\n",
       "}\n",
       ".suggestion-error { \n",
       "font-weight: bold;\n",
       "color: red;\n",
       "}\n",
       ".suggestion-name {\n",
       "font-weight: bold;\n",
       "}\n",
       "</style><div class=\"suggestion-name\" style=\"clear:both;\">Use print</div><div class=\"suggestion-row\" style=\"float: left;\"><div class=\"suggestion-warning\">Found:</div><div class=\"highlight-code\" id=\"haskell\">putStrLn . show</div></div><div class=\"suggestion-row\" style=\"float: left;\"><div class=\"suggestion-warning\">Why Not:</div><div class=\"highlight-code\" id=\"haskell\">print</div></div>"
      ],
      "text/plain": [
       "Line 2: Use print\n",
       "Found:\n",
       "putStrLn . show\n",
       "Why not:\n",
       "print"
      ]
     },
     "metadata": {},
     "output_type": "display_data"
    },
    {
     "data": {
      "text/plain": [
       "3"
      ]
     },
     "metadata": {},
     "output_type": "display_data"
    },
    {
     "data": {
      "text/plain": [
       "3"
      ]
     },
     "metadata": {},
     "output_type": "display_data"
    }
   ],
   "source": [
    "-- print is an alias for putStrLn . show\n",
    "putStrLn . show $ 3\n",
    "print 3"
   ]
  }
 ],
 "metadata": {
  "kernelspec": {
   "display_name": "Haskell",
   "language": "haskell",
   "name": "haskell"
  },
  "language_info": {
   "codemirror_mode": "ihaskell",
   "file_extension": ".hs",
   "mimetype": "text/x-haskell",
   "name": "haskell",
   "pygments_lexer": "Haskell",
   "version": "9.4.5"
  }
 },
 "nbformat": 4,
 "nbformat_minor": 5
}

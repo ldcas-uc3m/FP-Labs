{
 "cells": [
  {
   "cell_type": "markdown",
   "id": "2fbe9757",
   "metadata": {},
   "source": [
    "# Guided exercise 7: Higher order functions (II)\n",
    "\n",
    "\n",
    "\n"
   ]
  },
  {
   "cell_type": "markdown",
   "id": "bc2144a7",
   "metadata": {},
   "source": [
    "**Exercise 1.** Use recursion to create your own `sum` function that adds all the elements of a list"
   ]
  },
  {
   "cell_type": "code",
   "execution_count": 2,
   "id": "e13fe39d",
   "metadata": {},
   "outputs": [
    {
     "data": {
      "text/html": [
       "<style>/* Styles used for the Hoogle display in the pager */\n",
       ".hoogle-doc {\n",
       "display: block;\n",
       "padding-bottom: 1.3em;\n",
       "padding-left: 0.4em;\n",
       "}\n",
       ".hoogle-code {\n",
       "display: block;\n",
       "font-family: monospace;\n",
       "white-space: pre;\n",
       "}\n",
       ".hoogle-text {\n",
       "display: block;\n",
       "}\n",
       ".hoogle-name {\n",
       "color: green;\n",
       "font-weight: bold;\n",
       "}\n",
       ".hoogle-head {\n",
       "font-weight: bold;\n",
       "}\n",
       ".hoogle-sub {\n",
       "display: block;\n",
       "margin-left: 0.4em;\n",
       "}\n",
       ".hoogle-package {\n",
       "font-weight: bold;\n",
       "font-style: italic;\n",
       "}\n",
       ".hoogle-module {\n",
       "font-weight: bold;\n",
       "}\n",
       ".hoogle-class {\n",
       "font-weight: bold;\n",
       "}\n",
       ".get-type {\n",
       "color: green;\n",
       "font-weight: bold;\n",
       "font-family: monospace;\n",
       "display: block;\n",
       "white-space: pre-wrap;\n",
       "}\n",
       ".show-type {\n",
       "color: green;\n",
       "font-weight: bold;\n",
       "font-family: monospace;\n",
       "margin-left: 1em;\n",
       "}\n",
       ".mono {\n",
       "font-family: monospace;\n",
       "display: block;\n",
       "}\n",
       ".err-msg {\n",
       "color: red;\n",
       "font-style: italic;\n",
       "font-family: monospace;\n",
       "white-space: pre;\n",
       "display: block;\n",
       "}\n",
       "#unshowable {\n",
       "color: red;\n",
       "font-weight: bold;\n",
       "}\n",
       ".err-msg.in.collapse {\n",
       "padding-top: 0.7em;\n",
       "}\n",
       ".highlight-code {\n",
       "white-space: pre;\n",
       "font-family: monospace;\n",
       "}\n",
       ".suggestion-warning { \n",
       "font-weight: bold;\n",
       "color: rgb(200, 130, 0);\n",
       "}\n",
       ".suggestion-error { \n",
       "font-weight: bold;\n",
       "color: red;\n",
       "}\n",
       ".suggestion-name {\n",
       "font-weight: bold;\n",
       "}\n",
       "</style><div class=\"suggestion-name\" style=\"clear:both;\">Use foldr</div><div class=\"suggestion-row\" style=\"float: left;\"><div class=\"suggestion-warning\">Found:</div><div class=\"highlight-code\" id=\"haskell\">add [] = 0\n",
       "add (x : xs) = x + add xs</div></div><div class=\"suggestion-row\" style=\"float: left;\"><div class=\"suggestion-warning\">Why Not:</div><div class=\"highlight-code\" id=\"haskell\">add xs = foldr (+) 0 xs</div></div>"
      ],
      "text/plain": [
       "Line 3: Use foldr\n",
       "Found:\n",
       "add [] = 0\n",
       "add (x : xs) = x + add xs\n",
       "Why not:\n",
       "add xs = foldr (+) 0 xs"
      ]
     },
     "metadata": {},
     "output_type": "display_data"
    }
   ],
   "source": [
    "add::(Num a)=> [a] -> a\n",
    "add [] = 0\n",
    "add (x:xs) = x + add xs\n",
    "-- Haskell suggests to use foldr"
   ]
  },
  {
   "cell_type": "code",
   "execution_count": 20,
   "id": "54b8fa9f",
   "metadata": {},
   "outputs": [
    {
     "data": {
      "text/plain": [
       "55"
      ]
     },
     "metadata": {},
     "output_type": "display_data"
    }
   ],
   "source": [
    "-- Invoking the function\n",
    "add [1, 2, 3, 4, 5, 6, 7, 8, 9, 10]"
   ]
  },
  {
   "cell_type": "markdown",
   "id": "821b22fe",
   "metadata": {},
   "source": [
    "## Folds\n",
    "\n",
    "`foldr f acc xs` and `foldl f acc xs` are similar functions, both apply a binary function over all the elements of a list plus an initial value, which is called the accumulator. The difference lies in the order of the parameters of the function: `f x acc` for `foldr` or `f acc x` for `foldl` and from where we start taking `x` from `xs`, from the head or from the last:\n",
    "\n",
    "`foldr f acc x:y:z = f x (f y (f z acc))`\n",
    "\n",
    "`foldl f acc x:y:z = f (f (f acc x) y) z` \n",
    "\n",
    "`foldr` is easier to be understood from a recursive point of view: `foldr f acc x:xs = f x (foldr f acc xs)`. Meanwhile `foldl` is easier seen as traversing the list applying the function between the accumulator and all its members in sequence."
   ]
  },
  {
   "cell_type": "code",
   "execution_count": 21,
   "id": "5654cbf6",
   "metadata": {},
   "outputs": [
    {
     "data": {
      "text/plain": [
       "-3"
      ]
     },
     "metadata": {},
     "output_type": "display_data"
    },
    {
     "data": {
      "text/plain": [
       "True"
      ]
     },
     "metadata": {},
     "output_type": "display_data"
    },
    {
     "data": {
      "text/plain": [
       "-1"
      ]
     },
     "metadata": {},
     "output_type": "display_data"
    },
    {
     "data": {
      "text/plain": [
       "True"
      ]
     },
     "metadata": {},
     "output_type": "display_data"
    }
   ],
   "source": [
    "foldr (-) 5 [1, 2, 3]\n",
    "foldr (-) 5 [1, 2, 3] == 1 - (2 - (3 - 5))\n",
    "foldl (-) 5 [1, 2, 3]\n",
    "foldl (-) 5 [1, 2, 3] == ((5 - 1) - 2) - 3"
   ]
  },
  {
   "cell_type": "markdown",
   "id": "a6b283ca",
   "metadata": {},
   "source": [
    "If the function is commutative both behave the same"
   ]
  },
  {
   "cell_type": "code",
   "execution_count": 2,
   "id": "f0dd6556",
   "metadata": {},
   "outputs": [
    {
     "data": {
      "text/plain": [
       "True"
      ]
     },
     "metadata": {},
     "output_type": "display_data"
    },
    {
     "data": {
      "text/plain": [
       "True"
      ]
     },
     "metadata": {},
     "output_type": "display_data"
    }
   ],
   "source": [
    "foldr (+) 4 [1, 2, 3] == 1 + (2 + (3 + 4))\n",
    "foldl (+) 4 [1, 2, 3] == ((4 + 1) + 2) + 3"
   ]
  },
  {
   "cell_type": "markdown",
   "id": "85552dd3",
   "metadata": {},
   "source": [
    "If it is not, the result will be in general different"
   ]
  },
  {
   "cell_type": "code",
   "execution_count": 3,
   "id": "d4afdf4c",
   "metadata": {},
   "outputs": [
    {
     "data": {
      "text/plain": [
       "2"
      ]
     },
     "metadata": {},
     "output_type": "display_data"
    },
    {
     "data": {
      "text/plain": [
       "-6"
      ]
     },
     "metadata": {},
     "output_type": "display_data"
    }
   ],
   "source": [
    "foldr (-) 0 [1, 2, 3]\n",
    "foldl (-) 0 [1, 2, 3]"
   ]
  },
  {
   "cell_type": "markdown",
   "id": "17f14043",
   "metadata": {},
   "source": [
    "Even if sometimes, by chance, it can be the same"
   ]
  },
  {
   "cell_type": "code",
   "execution_count": 4,
   "id": "026e6c4f",
   "metadata": {},
   "outputs": [
    {
     "data": {
      "text/plain": [
       "-2"
      ]
     },
     "metadata": {},
     "output_type": "display_data"
    },
    {
     "data": {
      "text/plain": [
       "-2"
      ]
     },
     "metadata": {},
     "output_type": "display_data"
    }
   ],
   "source": [
    "foldr (-) 4 [1, 2, 3]\n",
    "foldl (-) 4 [1, 2, 3]"
   ]
  },
  {
   "cell_type": "markdown",
   "id": "a7d6acbd",
   "metadata": {},
   "source": [
    "**Exercise 1.** Create `myMax xs` function that calculates the maximum of a list with a lambda and a fold"
   ]
  },
  {
   "cell_type": "code",
   "execution_count": 3,
   "id": "c6e69cbc",
   "metadata": {},
   "outputs": [
    {
     "data": {
      "text/html": [
       "<style>/* Styles used for the Hoogle display in the pager */\n",
       ".hoogle-doc {\n",
       "display: block;\n",
       "padding-bottom: 1.3em;\n",
       "padding-left: 0.4em;\n",
       "}\n",
       ".hoogle-code {\n",
       "display: block;\n",
       "font-family: monospace;\n",
       "white-space: pre;\n",
       "}\n",
       ".hoogle-text {\n",
       "display: block;\n",
       "}\n",
       ".hoogle-name {\n",
       "color: green;\n",
       "font-weight: bold;\n",
       "}\n",
       ".hoogle-head {\n",
       "font-weight: bold;\n",
       "}\n",
       ".hoogle-sub {\n",
       "display: block;\n",
       "margin-left: 0.4em;\n",
       "}\n",
       ".hoogle-package {\n",
       "font-weight: bold;\n",
       "font-style: italic;\n",
       "}\n",
       ".hoogle-module {\n",
       "font-weight: bold;\n",
       "}\n",
       ".hoogle-class {\n",
       "font-weight: bold;\n",
       "}\n",
       ".get-type {\n",
       "color: green;\n",
       "font-weight: bold;\n",
       "font-family: monospace;\n",
       "display: block;\n",
       "white-space: pre-wrap;\n",
       "}\n",
       ".show-type {\n",
       "color: green;\n",
       "font-weight: bold;\n",
       "font-family: monospace;\n",
       "margin-left: 1em;\n",
       "}\n",
       ".mono {\n",
       "font-family: monospace;\n",
       "display: block;\n",
       "}\n",
       ".err-msg {\n",
       "color: red;\n",
       "font-style: italic;\n",
       "font-family: monospace;\n",
       "white-space: pre;\n",
       "display: block;\n",
       "}\n",
       "#unshowable {\n",
       "color: red;\n",
       "font-weight: bold;\n",
       "}\n",
       ".err-msg.in.collapse {\n",
       "padding-top: 0.7em;\n",
       "}\n",
       ".highlight-code {\n",
       "white-space: pre;\n",
       "font-family: monospace;\n",
       "}\n",
       ".suggestion-warning { \n",
       "font-weight: bold;\n",
       "color: rgb(200, 130, 0);\n",
       "}\n",
       ".suggestion-error { \n",
       "font-weight: bold;\n",
       "color: red;\n",
       "}\n",
       ".suggestion-name {\n",
       "font-weight: bold;\n",
       "}\n",
       "</style><div class=\"suggestion-name\" style=\"clear:both;\">Use max</div><div class=\"suggestion-row\" style=\"float: left;\"><div class=\"suggestion-warning\">Found:</div><div class=\"highlight-code\" id=\"haskell\">if a > b then a else b</div></div><div class=\"suggestion-row\" style=\"float: left;\"><div class=\"suggestion-warning\">Why Not:</div><div class=\"highlight-code\" id=\"haskell\">max a b</div></div><div class=\"suggestion-name\" style=\"clear:both;\">Use max</div><div class=\"suggestion-row\" style=\"float: left;\"><div class=\"suggestion-warning\">Found:</div><div class=\"highlight-code\" id=\"haskell\">if a > b then a else b</div></div><div class=\"suggestion-row\" style=\"float: left;\"><div class=\"suggestion-warning\">Why Not:</div><div class=\"highlight-code\" id=\"haskell\">max a b</div></div>"
      ],
      "text/plain": [
       "Line 5: Use max\n",
       "Found:\n",
       "if a > b then a else b\n",
       "Why not:\n",
       "max a bLine 8: Use max\n",
       "Found:\n",
       "if a > b then a else b\n",
       "Why not:\n",
       "max a b"
      ]
     },
     "metadata": {},
     "output_type": "display_data"
    }
   ],
   "source": [
    "-- This lambda is conmmutative so we can use it in both folds, but we aware that for foldr the lambda should be \\x acc and for foldl it should be \\acc x\n",
    "myMax:: Ord a => [a] -> a\n",
    "myMax (x:xs) = foldr (\\a acc -> if a > acc then a else acc) x xs\n",
    "-- myMax (x:xs) = foldr max x xs\n",
    "\n",
    "myMax':: Ord a => [a] -> a\n",
    "myMax' (x:xs) = foldl (\\acc b -> if acc > b then acc else b) x xs\n",
    "-- myMax' (x:xs) = foldl max x xs"
   ]
  },
  {
   "cell_type": "code",
   "execution_count": 2,
   "id": "d3e1fa1c",
   "metadata": {},
   "outputs": [
    {
     "data": {
      "text/plain": [
       "3"
      ]
     },
     "metadata": {},
     "output_type": "display_data"
    },
    {
     "data": {
      "text/plain": [
       "3"
      ]
     },
     "metadata": {},
     "output_type": "display_data"
    },
    {
     "data": {
      "text/plain": [
       "3"
      ]
     },
     "metadata": {},
     "output_type": "display_data"
    },
    {
     "data": {
      "text/plain": [
       "3"
      ]
     },
     "metadata": {},
     "output_type": "display_data"
    },
    {
     "data": {
      "text/plain": [
       "3"
      ]
     },
     "metadata": {},
     "output_type": "display_data"
    },
    {
     "data": {
      "text/plain": [
       "3"
      ]
     },
     "metadata": {},
     "output_type": "display_data"
    }
   ],
   "source": [
    "myMax [3, 2, 1]\n",
    "myMax [1, 2, 3]\n",
    "myMax [1, 3, 2]\n",
    "myMax' [3, 2, 1]\n",
    "myMax' [1, 2, 3]\n",
    "myMax' [1, 3, 2]"
   ]
  },
  {
   "cell_type": "markdown",
   "id": "d4d46c81",
   "metadata": {},
   "source": [
    "`foldl1` and `foldr1` are like `foldl` and `foldr` but the initial value is not needed, they start with the first or last element of the list, respectively (they are partial as they cannot be used on empty lists)."
   ]
  },
  {
   "cell_type": "code",
   "execution_count": 7,
   "id": "22ba9b54",
   "metadata": {},
   "outputs": [
    {
     "data": {
      "text/html": [
       "<style>/* Styles used for the Hoogle display in the pager */\n",
       ".hoogle-doc {\n",
       "display: block;\n",
       "padding-bottom: 1.3em;\n",
       "padding-left: 0.4em;\n",
       "}\n",
       ".hoogle-code {\n",
       "display: block;\n",
       "font-family: monospace;\n",
       "white-space: pre;\n",
       "}\n",
       ".hoogle-text {\n",
       "display: block;\n",
       "}\n",
       ".hoogle-name {\n",
       "color: green;\n",
       "font-weight: bold;\n",
       "}\n",
       ".hoogle-head {\n",
       "font-weight: bold;\n",
       "}\n",
       ".hoogle-sub {\n",
       "display: block;\n",
       "margin-left: 0.4em;\n",
       "}\n",
       ".hoogle-package {\n",
       "font-weight: bold;\n",
       "font-style: italic;\n",
       "}\n",
       ".hoogle-module {\n",
       "font-weight: bold;\n",
       "}\n",
       ".hoogle-class {\n",
       "font-weight: bold;\n",
       "}\n",
       ".get-type {\n",
       "color: green;\n",
       "font-weight: bold;\n",
       "font-family: monospace;\n",
       "display: block;\n",
       "white-space: pre-wrap;\n",
       "}\n",
       ".show-type {\n",
       "color: green;\n",
       "font-weight: bold;\n",
       "font-family: monospace;\n",
       "margin-left: 1em;\n",
       "}\n",
       ".mono {\n",
       "font-family: monospace;\n",
       "display: block;\n",
       "}\n",
       ".err-msg {\n",
       "color: red;\n",
       "font-style: italic;\n",
       "font-family: monospace;\n",
       "white-space: pre;\n",
       "display: block;\n",
       "}\n",
       "#unshowable {\n",
       "color: red;\n",
       "font-weight: bold;\n",
       "}\n",
       ".err-msg.in.collapse {\n",
       "padding-top: 0.7em;\n",
       "}\n",
       ".highlight-code {\n",
       "white-space: pre;\n",
       "font-family: monospace;\n",
       "}\n",
       ".suggestion-warning { \n",
       "font-weight: bold;\n",
       "color: rgb(200, 130, 0);\n",
       "}\n",
       ".suggestion-error { \n",
       "font-weight: bold;\n",
       "color: red;\n",
       "}\n",
       ".suggestion-name {\n",
       "font-weight: bold;\n",
       "}\n",
       "</style><div class=\"suggestion-name\" style=\"clear:both;\">Eta reduce</div><div class=\"suggestion-row\" style=\"float: left;\"><div class=\"suggestion-warning\">Found:</div><div class=\"highlight-code\" id=\"haskell\">myMax'' xs = foldl1 (\\ a b -> if a > b then a else b) xs</div></div><div class=\"suggestion-row\" style=\"float: left;\"><div class=\"suggestion-warning\">Why Not:</div><div class=\"highlight-code\" id=\"haskell\">myMax'' = foldl1 (\\ a b -> if a > b then a else b)</div></div>"
      ],
      "text/plain": [
       "Line 3: Eta reduce\n",
       "Found:\n",
       "myMax'' xs = foldl1 (\\ a b -> if a > b then a else b) xs\n",
       "Why not:\n",
       "myMax'' = foldl1 (\\ a b -> if a > b then a else b)"
      ]
     },
     "metadata": {},
     "output_type": "display_data"
    }
   ],
   "source": [
    "myMax'':: Ord a => [a] -> a\n",
    "-- We could remove xs from here\n",
    "myMax'' xs = foldl1 (\\a b -> if a > b then a else b) xs"
   ]
  },
  {
   "cell_type": "code",
   "execution_count": 8,
   "id": "b05fb4d3",
   "metadata": {},
   "outputs": [
    {
     "data": {
      "text/plain": [
       "3"
      ]
     },
     "metadata": {},
     "output_type": "display_data"
    },
    {
     "data": {
      "text/plain": [
       "3"
      ]
     },
     "metadata": {},
     "output_type": "display_data"
    },
    {
     "data": {
      "text/plain": [
       "3"
      ]
     },
     "metadata": {},
     "output_type": "display_data"
    }
   ],
   "source": [
    "myMax'' [3, 2, 1]\n",
    "myMax'' [1, 2, 3]\n",
    "myMax'' [1, 3, 2]"
   ]
  },
  {
   "cell_type": "markdown",
   "id": "3f854cfa",
   "metadata": {},
   "source": [
    "**Exercise 2.** Create a function `multiply xs` that multiplies all the elements of a list"
   ]
  },
  {
   "cell_type": "code",
   "execution_count": 9,
   "id": "117b1cd4",
   "metadata": {},
   "outputs": [
    {
     "data": {
      "text/html": [
       "<style>/* Styles used for the Hoogle display in the pager */\n",
       ".hoogle-doc {\n",
       "display: block;\n",
       "padding-bottom: 1.3em;\n",
       "padding-left: 0.4em;\n",
       "}\n",
       ".hoogle-code {\n",
       "display: block;\n",
       "font-family: monospace;\n",
       "white-space: pre;\n",
       "}\n",
       ".hoogle-text {\n",
       "display: block;\n",
       "}\n",
       ".hoogle-name {\n",
       "color: green;\n",
       "font-weight: bold;\n",
       "}\n",
       ".hoogle-head {\n",
       "font-weight: bold;\n",
       "}\n",
       ".hoogle-sub {\n",
       "display: block;\n",
       "margin-left: 0.4em;\n",
       "}\n",
       ".hoogle-package {\n",
       "font-weight: bold;\n",
       "font-style: italic;\n",
       "}\n",
       ".hoogle-module {\n",
       "font-weight: bold;\n",
       "}\n",
       ".hoogle-class {\n",
       "font-weight: bold;\n",
       "}\n",
       ".get-type {\n",
       "color: green;\n",
       "font-weight: bold;\n",
       "font-family: monospace;\n",
       "display: block;\n",
       "white-space: pre-wrap;\n",
       "}\n",
       ".show-type {\n",
       "color: green;\n",
       "font-weight: bold;\n",
       "font-family: monospace;\n",
       "margin-left: 1em;\n",
       "}\n",
       ".mono {\n",
       "font-family: monospace;\n",
       "display: block;\n",
       "}\n",
       ".err-msg {\n",
       "color: red;\n",
       "font-style: italic;\n",
       "font-family: monospace;\n",
       "white-space: pre;\n",
       "display: block;\n",
       "}\n",
       "#unshowable {\n",
       "color: red;\n",
       "font-weight: bold;\n",
       "}\n",
       ".err-msg.in.collapse {\n",
       "padding-top: 0.7em;\n",
       "}\n",
       ".highlight-code {\n",
       "white-space: pre;\n",
       "font-family: monospace;\n",
       "}\n",
       ".suggestion-warning { \n",
       "font-weight: bold;\n",
       "color: rgb(200, 130, 0);\n",
       "}\n",
       ".suggestion-error { \n",
       "font-weight: bold;\n",
       "color: red;\n",
       "}\n",
       ".suggestion-name {\n",
       "font-weight: bold;\n",
       "}\n",
       "</style><div class=\"suggestion-name\" style=\"clear:both;\">Use product</div><div class=\"suggestion-row\" style=\"float: left;\"><div class=\"suggestion-warning\">Found:</div><div class=\"highlight-code\" id=\"haskell\">foldl1 (*)</div></div><div class=\"suggestion-row\" style=\"float: left;\"><div class=\"suggestion-warning\">Why Not:</div><div class=\"highlight-code\" id=\"haskell\">product</div></div>"
      ],
      "text/plain": [
       "Line 1: Use product\n",
       "Found:\n",
       "foldl1 (*)\n",
       "Why not:\n",
       "product"
      ]
     },
     "metadata": {},
     "output_type": "display_data"
    }
   ],
   "source": [
    "multiply = foldl1 (*)"
   ]
  },
  {
   "cell_type": "code",
   "execution_count": 10,
   "id": "0c89b646",
   "metadata": {},
   "outputs": [
    {
     "data": {
      "text/plain": [
       "120"
      ]
     },
     "metadata": {},
     "output_type": "display_data"
    },
    {
     "data": {
      "text/plain": [
       "2"
      ]
     },
     "metadata": {},
     "output_type": "display_data"
    }
   ],
   "source": [
    "multiply [1..5]\n",
    "multiply [2]"
   ]
  },
  {
   "cell_type": "markdown",
   "id": "1861c3f2",
   "metadata": {},
   "source": [
    "**Exercise 3.** Create a function `bit2int xs` that given a list of 1's and 0's representing a binary number returns its decimal representation"
   ]
  },
  {
   "cell_type": "code",
   "execution_count": 38,
   "id": "5ad7194e",
   "metadata": {},
   "outputs": [],
   "source": [
    "-- Every time a new element is 'discovered' it is the bit at position 1, so all the previous ones are multiplied by 2\n",
    "bin2int :: [Int] -> Int\n",
    "bin2int  = foldl (\\acc x -> x + 2*acc) 0\n",
    "\n",
    "-- We can also do it with a foldr if we reverse the list. Notice the order of parameters in lambda\n",
    "bin2int' :: [Int] -> Int\n",
    "bin2int' xs = foldr (\\x acc -> x + 2*acc) 0 $ reverse xs"
   ]
  },
  {
   "cell_type": "code",
   "execution_count": 39,
   "id": "0669441b",
   "metadata": {},
   "outputs": [
    {
     "data": {
      "text/plain": [
       "4"
      ]
     },
     "metadata": {},
     "output_type": "display_data"
    },
    {
     "data": {
      "text/plain": [
       "11"
      ]
     },
     "metadata": {},
     "output_type": "display_data"
    },
    {
     "data": {
      "text/plain": [
       "0"
      ]
     },
     "metadata": {},
     "output_type": "display_data"
    },
    {
     "data": {
      "text/plain": [
       "0"
      ]
     },
     "metadata": {},
     "output_type": "display_data"
    },
    {
     "data": {
      "text/plain": [
       "4"
      ]
     },
     "metadata": {},
     "output_type": "display_data"
    },
    {
     "data": {
      "text/plain": [
       "11"
      ]
     },
     "metadata": {},
     "output_type": "display_data"
    },
    {
     "data": {
      "text/plain": [
       "0"
      ]
     },
     "metadata": {},
     "output_type": "display_data"
    },
    {
     "data": {
      "text/plain": [
       "0"
      ]
     },
     "metadata": {},
     "output_type": "display_data"
    }
   ],
   "source": [
    "bin2int [1,0,0]\n",
    "bin2int [1,0,1,1]\n",
    "bin2int [0,0,0]\n",
    "bin2int []\n",
    "bin2int' [1,0,0]\n",
    "bin2int' [1,0,1,1]\n",
    "bin2int' [0,0,0]\n",
    "bin2int' []"
   ]
  },
  {
   "cell_type": "markdown",
   "id": "2055c53c",
   "metadata": {},
   "source": [
    "# The `$` operator and function composition\n",
    "The `$` operator is used to avoid parentheses in function application, it is like the space but it has the lowest precedence"
   ]
  },
  {
   "cell_type": "code",
   "execution_count": 11,
   "id": "8db4a820",
   "metadata": {},
   "outputs": [
    {
     "data": {
      "text/plain": [
       "True"
      ]
     },
     "metadata": {},
     "output_type": "display_data"
    },
    {
     "data": {
      "text/plain": [
       "True"
      ]
     },
     "metadata": {},
     "output_type": "display_data"
    }
   ],
   "source": [
    "even (1 + 2 + 3 + 4)\n",
    "even $ 1 + 2 + 3 + 4"
   ]
  },
  {
   "cell_type": "markdown",
   "id": "903f5c0a",
   "metadata": {},
   "source": [
    "Function composition `.` is also used to reduce the number of parentheses"
   ]
  },
  {
   "cell_type": "code",
   "execution_count": 12,
   "id": "906ebcd2",
   "metadata": {},
   "outputs": [],
   "source": [
    "addAll::(Num a)=> [[a]] -> a\n",
    "addAll x = sum (map sum x)"
   ]
  },
  {
   "cell_type": "code",
   "execution_count": 13,
   "id": "3c9d1ee5",
   "metadata": {},
   "outputs": [],
   "source": [
    "addAll'::(Num a)=> [[a]] -> a\n",
    "addAll'= sum . map sum"
   ]
  },
  {
   "cell_type": "code",
   "execution_count": 14,
   "id": "cbb96e6d",
   "metadata": {},
   "outputs": [
    {
     "data": {
      "text/plain": [
       "55"
      ]
     },
     "metadata": {},
     "output_type": "display_data"
    }
   ],
   "source": [
    "addAll' [[1, 2, 3, 4], [5, 6, 7, 8], [9, 10]]"
   ]
  },
  {
   "cell_type": "markdown",
   "id": "3a2ac9d8",
   "metadata": {},
   "source": [
    "Some combinations"
   ]
  },
  {
   "cell_type": "code",
   "execution_count": 15,
   "id": "24a20704",
   "metadata": {},
   "outputs": [
    {
     "data": {
      "text/plain": [
       "True"
      ]
     },
     "metadata": {},
     "output_type": "display_data"
    },
    {
     "data": {
      "text/plain": [
       "True"
      ]
     },
     "metadata": {},
     "output_type": "display_data"
    },
    {
     "data": {
      "text/plain": [
       "True"
      ]
     },
     "metadata": {},
     "output_type": "display_data"
    },
    {
     "data": {
      "text/plain": [
       "True"
      ]
     },
     "metadata": {},
     "output_type": "display_data"
    }
   ],
   "source": [
    "-- To check if the sum of a list is even\n",
    "-- Regular way\n",
    "even (sum [1, 2, 3, 4])\n",
    "-- With $ and .\n",
    "even $ sum [1,2, 3, 4]\n",
    "even . sum $ [1, 2, 3, 4]\n",
    "(even . sum) [1, 2, 3, 4]"
   ]
  },
  {
   "cell_type": "markdown",
   "id": "85cec96f",
   "metadata": {},
   "source": [
    "Use function composition to make things clearer, particularly in maps to avoid lambda functions"
   ]
  },
  {
   "cell_type": "code",
   "execution_count": 12,
   "id": "a22e166a",
   "metadata": {},
   "outputs": [
    {
     "data": {
      "text/html": [
       "<style>/* Styles used for the Hoogle display in the pager */\n",
       ".hoogle-doc {\n",
       "display: block;\n",
       "padding-bottom: 1.3em;\n",
       "padding-left: 0.4em;\n",
       "}\n",
       ".hoogle-code {\n",
       "display: block;\n",
       "font-family: monospace;\n",
       "white-space: pre;\n",
       "}\n",
       ".hoogle-text {\n",
       "display: block;\n",
       "}\n",
       ".hoogle-name {\n",
       "color: green;\n",
       "font-weight: bold;\n",
       "}\n",
       ".hoogle-head {\n",
       "font-weight: bold;\n",
       "}\n",
       ".hoogle-sub {\n",
       "display: block;\n",
       "margin-left: 0.4em;\n",
       "}\n",
       ".hoogle-package {\n",
       "font-weight: bold;\n",
       "font-style: italic;\n",
       "}\n",
       ".hoogle-module {\n",
       "font-weight: bold;\n",
       "}\n",
       ".hoogle-class {\n",
       "font-weight: bold;\n",
       "}\n",
       ".get-type {\n",
       "color: green;\n",
       "font-weight: bold;\n",
       "font-family: monospace;\n",
       "display: block;\n",
       "white-space: pre-wrap;\n",
       "}\n",
       ".show-type {\n",
       "color: green;\n",
       "font-weight: bold;\n",
       "font-family: monospace;\n",
       "margin-left: 1em;\n",
       "}\n",
       ".mono {\n",
       "font-family: monospace;\n",
       "display: block;\n",
       "}\n",
       ".err-msg {\n",
       "color: red;\n",
       "font-style: italic;\n",
       "font-family: monospace;\n",
       "white-space: pre;\n",
       "display: block;\n",
       "}\n",
       "#unshowable {\n",
       "color: red;\n",
       "font-weight: bold;\n",
       "}\n",
       ".err-msg.in.collapse {\n",
       "padding-top: 0.7em;\n",
       "}\n",
       ".highlight-code {\n",
       "white-space: pre;\n",
       "font-family: monospace;\n",
       "}\n",
       ".suggestion-warning { \n",
       "font-weight: bold;\n",
       "color: rgb(200, 130, 0);\n",
       "}\n",
       ".suggestion-error { \n",
       "font-weight: bold;\n",
       "color: red;\n",
       "}\n",
       ".suggestion-name {\n",
       "font-weight: bold;\n",
       "}\n",
       "</style><div class=\"suggestion-name\" style=\"clear:both;\">Avoid lambda</div><div class=\"suggestion-row\" style=\"float: left;\"><div class=\"suggestion-warning\">Found:</div><div class=\"highlight-code\" id=\"haskell\">\\ ys -> even $ sum ys</div></div><div class=\"suggestion-row\" style=\"float: left;\"><div class=\"suggestion-warning\">Why Not:</div><div class=\"highlight-code\" id=\"haskell\">even . sum</div></div>"
      ],
      "text/plain": [
       "Line 2: Avoid lambda\n",
       "Found:\n",
       "\\ ys -> even $ sum ys\n",
       "Why not:\n",
       "even . sum"
      ]
     },
     "metadata": {},
     "output_type": "display_data"
    }
   ],
   "source": [
    "-- Function that states if the sums of the sublists of a list are even\n",
    "evenSums :: (Integral a, Foldable t) => [t a] -> [Bool]\n",
    "evenSums  = map (\\ ys -> even $ sum ys)\n",
    "\n",
    "evenSums' :: (Integral a, Foldable t) => [t a] -> [Bool]\n",
    "evenSums' = map $ even . sum "
   ]
  },
  {
   "cell_type": "code",
   "execution_count": 17,
   "id": "41208206",
   "metadata": {},
   "outputs": [
    {
     "data": {
      "text/plain": [
       "[False,False,True]"
      ]
     },
     "metadata": {},
     "output_type": "display_data"
    },
    {
     "data": {
      "text/plain": [
       "[False,False,True]"
      ]
     },
     "metadata": {},
     "output_type": "display_data"
    }
   ],
   "source": [
    "evenSums [[1, 2],[3, 4],[5, 6, 7]]\n",
    "evenSums' [[1, 2],[3, 4],[5, 6, 7]]"
   ]
  }
 ],
 "metadata": {
  "kernelspec": {
   "display_name": "Haskell",
   "language": "haskell",
   "name": "haskell"
  },
  "language_info": {
   "codemirror_mode": "ihaskell",
   "file_extension": ".hs",
   "mimetype": "text/x-haskell",
   "name": "haskell",
   "pygments_lexer": "Haskell",
   "version": "9.4.5"
  }
 },
 "nbformat": 4,
 "nbformat_minor": 5
}

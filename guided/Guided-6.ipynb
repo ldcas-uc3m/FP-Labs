{
 "cells": [
  {
   "cell_type": "markdown",
   "id": "2fbe9757",
   "metadata": {},
   "source": [
    "# Guided exercise 6: New types and higher order functions\n",
    "\n",
    "\n",
    "\n"
   ]
  },
  {
   "cell_type": "markdown",
   "id": "42cf9fac",
   "metadata": {},
   "source": [
    "## Newtype declarations\n",
    "\n",
    "As we already know, in Haskell we can create our own types using either `type`, `data` or `newtype`. `newtype` is similar to `data` in the sense that it involves constructors with parameters but with an important limitation; it allows only one constructor with one parameter. Its main advantage with respect to `data` is that its evaluation is faster (it is removed by the compiler before runtime). On the other hand, they allow to overwrite the inherited base-type functions, unlike when using `type`, which creates just an alias of a given type with all its associated functions. It can be seen as a wrapper for an already existing type (the type of the parameter) that allows to change some of the functions associated to it."
   ]
  },
  {
   "cell_type": "code",
   "execution_count": 16,
   "id": "e3c2bb84",
   "metadata": {},
   "outputs": [],
   "source": [
    "newtype Temperature = Temperature Float deriving (Eq, Ord)\n",
    "\n",
    "sensation:: Temperature -> String\n",
    "sensation (Temperature t) \n",
    "    | t < 21 = \"Cold\"\n",
    "    | t < 27 = \"Warm\"\n",
    "    | otherwise = \"Hot\"\n",
    "    \n",
    "instance Show Temperature where\n",
    "    show (Temperature t) = show t ++ \" degrees\""
   ]
  },
  {
   "cell_type": "code",
   "execution_count": 17,
   "id": "1eab9a13",
   "metadata": {},
   "outputs": [
    {
     "data": {
      "text/plain": [
       "15.0 degrees"
      ]
     },
     "metadata": {},
     "output_type": "display_data"
    },
    {
     "data": {
      "text/plain": [
       "True"
      ]
     },
     "metadata": {},
     "output_type": "display_data"
    },
    {
     "data": {
      "text/plain": [
       "True"
      ]
     },
     "metadata": {},
     "output_type": "display_data"
    },
    {
     "data": {
      "text/plain": [
       "\"Hot\""
      ]
     },
     "metadata": {},
     "output_type": "display_data"
    }
   ],
   "source": [
    "Temperature 15\n",
    "Temperature 13 == Temperature 13\n",
    "Temperature 13 > Temperature 11\n",
    "sensation (Temperature 27)"
   ]
  },
  {
   "cell_type": "code",
   "execution_count": 11,
   "id": "0816b230",
   "metadata": {},
   "outputs": [
    {
     "ename": "",
     "evalue": "",
     "output_type": "error",
     "traceback": [
      "<interactive>:7:10: error:\n    Duplicate instance declarations:\n      instance Show Temperature2 -- Defined at <interactive>:7:10\n      instance Show Float -- Defined in ‘GHC.Float’"
     ]
    }
   ],
   "source": [
    "-- With type we cannot overwrite the type functions\n",
    "type Temperature2 = Float -- No new derivings here as this is really a Float with another name\n",
    "\n",
    "sensation:: Temperature2 -> String\n",
    "sensation t \n",
    "    | t < 21 = \"Cold\"\n",
    "    | t < 27 = \"Warm\"\n",
    "    | otherwise = \"Hot\"\n",
    "\n",
    "--  This fails as the function is already defined\n",
    "instance Show Temperature2 where\n",
    "    show t = show t ++ \" degrees\""
   ]
  },
  {
   "cell_type": "code",
   "execution_count": 12,
   "id": "7e6b3f04",
   "metadata": {},
   "outputs": [
    {
     "data": {
      "text/plain": [
       "15.0"
      ]
     },
     "metadata": {},
     "output_type": "display_data"
    },
    {
     "data": {
      "text/plain": [
       "False"
      ]
     },
     "metadata": {},
     "output_type": "display_data"
    },
    {
     "data": {
      "text/plain": [
       "False"
      ]
     },
     "metadata": {},
     "output_type": "display_data"
    },
    {
     "data": {
      "text/plain": [
       "\"Cold\""
      ]
     },
     "metadata": {},
     "output_type": "display_data"
    }
   ],
   "source": [
    "a :: Temperature2\n",
    "a = 15\n",
    "b :: Temperature2\n",
    "b = 18\n",
    "a\n",
    "a == b\n",
    "a > b\n",
    "sensation a"
   ]
  },
  {
   "cell_type": "markdown",
   "id": "d6da004a",
   "metadata": {},
   "source": [
    "**Exercise 1.** Create a `Mark` type with a consructor with a `Float`, and a `show` that shows both the numerical mark and the text associated to it."
   ]
  },
  {
   "cell_type": "code",
   "execution_count": null,
   "id": "7b5c3995",
   "metadata": {},
   "outputs": [],
   "source": []
  },
  {
   "cell_type": "markdown",
   "id": "c0a50ebc",
   "metadata": {},
   "source": [
    "**Exercise 2.** Modify the `Student` type to use the new `Mark` type. "
   ]
  },
  {
   "cell_type": "code",
   "execution_count": null,
   "id": "49e99828",
   "metadata": {},
   "outputs": [],
   "source": []
  },
  {
   "cell_type": "markdown",
   "id": "9be3fc63",
   "metadata": {},
   "source": [
    "## Higher order functions\n",
    "\n",
    "Higher order functions are those that take functions as arguments and/or return a function as output.\n",
    "\n",
    "Actually all functions with more than one parameter are curried and internally use a higher order function. Functions in Haskell can only have one parameter; functions with more than one parameter are actually two functions, the first one takes the first parameter and returns a function, which is applied to the second parameter:\n",
    "\n",
    "`f a b = g b` where `g = f a`"
   ]
  },
  {
   "cell_type": "code",
   "execution_count": 19,
   "id": "45bb01d2",
   "metadata": {},
   "outputs": [
    {
     "data": {
      "text/plain": [
       "True"
      ]
     },
     "metadata": {},
     "output_type": "display_data"
    },
    {
     "data": {
      "text/plain": [
       "5"
      ]
     },
     "metadata": {},
     "output_type": "display_data"
    },
    {
     "data": {
      "text/plain": [
       "True"
      ]
     },
     "metadata": {},
     "output_type": "display_data"
    },
    {
     "data": {
      "text/html": [
       "<style>/* Styles used for the Hoogle display in the pager */\n",
       ".hoogle-doc {\n",
       "display: block;\n",
       "padding-bottom: 1.3em;\n",
       "padding-left: 0.4em;\n",
       "}\n",
       ".hoogle-code {\n",
       "display: block;\n",
       "font-family: monospace;\n",
       "white-space: pre;\n",
       "}\n",
       ".hoogle-text {\n",
       "display: block;\n",
       "}\n",
       ".hoogle-name {\n",
       "color: green;\n",
       "font-weight: bold;\n",
       "}\n",
       ".hoogle-head {\n",
       "font-weight: bold;\n",
       "}\n",
       ".hoogle-sub {\n",
       "display: block;\n",
       "margin-left: 0.4em;\n",
       "}\n",
       ".hoogle-package {\n",
       "font-weight: bold;\n",
       "font-style: italic;\n",
       "}\n",
       ".hoogle-module {\n",
       "font-weight: bold;\n",
       "}\n",
       ".hoogle-class {\n",
       "font-weight: bold;\n",
       "}\n",
       ".get-type {\n",
       "color: green;\n",
       "font-weight: bold;\n",
       "font-family: monospace;\n",
       "display: block;\n",
       "white-space: pre-wrap;\n",
       "}\n",
       ".show-type {\n",
       "color: green;\n",
       "font-weight: bold;\n",
       "font-family: monospace;\n",
       "margin-left: 1em;\n",
       "}\n",
       ".mono {\n",
       "font-family: monospace;\n",
       "display: block;\n",
       "}\n",
       ".err-msg {\n",
       "color: red;\n",
       "font-style: italic;\n",
       "font-family: monospace;\n",
       "white-space: pre;\n",
       "display: block;\n",
       "}\n",
       "#unshowable {\n",
       "color: red;\n",
       "font-weight: bold;\n",
       "}\n",
       ".err-msg.in.collapse {\n",
       "padding-top: 0.7em;\n",
       "}\n",
       ".highlight-code {\n",
       "white-space: pre;\n",
       "font-family: monospace;\n",
       "}\n",
       ".suggestion-warning { \n",
       "font-weight: bold;\n",
       "color: rgb(200, 130, 0);\n",
       "}\n",
       ".suggestion-error { \n",
       "font-weight: bold;\n",
       "color: red;\n",
       "}\n",
       ".suggestion-name {\n",
       "font-weight: bold;\n",
       "}\n",
       "</style><span class='get-type'>max' :: forall {a}. (Ord a, Num a) => a -> a</span>"
      ],
      "text/plain": [
       "max' :: forall {a}. (Ord a, Num a) => a -> a"
      ]
     },
     "metadata": {},
     "output_type": "display_data"
    },
    {
     "data": {
      "text/html": [
       "<style>/* Styles used for the Hoogle display in the pager */\n",
       ".hoogle-doc {\n",
       "display: block;\n",
       "padding-bottom: 1.3em;\n",
       "padding-left: 0.4em;\n",
       "}\n",
       ".hoogle-code {\n",
       "display: block;\n",
       "font-family: monospace;\n",
       "white-space: pre;\n",
       "}\n",
       ".hoogle-text {\n",
       "display: block;\n",
       "}\n",
       ".hoogle-name {\n",
       "color: green;\n",
       "font-weight: bold;\n",
       "}\n",
       ".hoogle-head {\n",
       "font-weight: bold;\n",
       "}\n",
       ".hoogle-sub {\n",
       "display: block;\n",
       "margin-left: 0.4em;\n",
       "}\n",
       ".hoogle-package {\n",
       "font-weight: bold;\n",
       "font-style: italic;\n",
       "}\n",
       ".hoogle-module {\n",
       "font-weight: bold;\n",
       "}\n",
       ".hoogle-class {\n",
       "font-weight: bold;\n",
       "}\n",
       ".get-type {\n",
       "color: green;\n",
       "font-weight: bold;\n",
       "font-family: monospace;\n",
       "display: block;\n",
       "white-space: pre-wrap;\n",
       "}\n",
       ".show-type {\n",
       "color: green;\n",
       "font-weight: bold;\n",
       "font-family: monospace;\n",
       "margin-left: 1em;\n",
       "}\n",
       ".mono {\n",
       "font-family: monospace;\n",
       "display: block;\n",
       "}\n",
       ".err-msg {\n",
       "color: red;\n",
       "font-style: italic;\n",
       "font-family: monospace;\n",
       "white-space: pre;\n",
       "display: block;\n",
       "}\n",
       "#unshowable {\n",
       "color: red;\n",
       "font-weight: bold;\n",
       "}\n",
       ".err-msg.in.collapse {\n",
       "padding-top: 0.7em;\n",
       "}\n",
       ".highlight-code {\n",
       "white-space: pre;\n",
       "font-family: monospace;\n",
       "}\n",
       ".suggestion-warning { \n",
       "font-weight: bold;\n",
       "color: rgb(200, 130, 0);\n",
       "}\n",
       ".suggestion-error { \n",
       "font-weight: bold;\n",
       "color: red;\n",
       "}\n",
       ".suggestion-name {\n",
       "font-weight: bold;\n",
       "}\n",
       "</style><span class='get-type'>max :: forall a. Ord a => a -> a -> a</span>"
      ],
      "text/plain": [
       "max :: forall a. Ord a => a -> a -> a"
      ]
     },
     "metadata": {},
     "output_type": "display_data"
    }
   ],
   "source": [
    "max 4 5 == (max 4) 5\n",
    "-- We declare a partial function\n",
    "max'  = max 4\n",
    "-- Applying it\n",
    "max' 5\n",
    "-- Checking both are equal\n",
    "max' 5 == max 4 5\n",
    "-- Checking its type\n",
    ":t max'\n",
    "-- Notice the change of type wrt max\n",
    "-- As the function has been partially applied, the type has restricted to Num\n",
    ":t max"
   ]
  },
  {
   "cell_type": "markdown",
   "id": "0744e28e",
   "metadata": {},
   "source": [
    "**Exercise 3.** Create a biggerThan4 function with no parameters in its definition that returns if its parameter is bigger than 4. Check its type. How can we make it work only with Int?"
   ]
  },
  {
   "cell_type": "code",
   "execution_count": null,
   "id": "597a13b2",
   "metadata": {},
   "outputs": [],
   "source": []
  },
  {
   "cell_type": "code",
   "execution_count": 2,
   "id": "23b59445",
   "metadata": {},
   "outputs": [
    {
     "data": {
      "text/plain": [
       "False"
      ]
     },
     "metadata": {},
     "output_type": "display_data"
    },
    {
     "data": {
      "text/plain": [
       "False"
      ]
     },
     "metadata": {},
     "output_type": "display_data"
    },
    {
     "data": {
      "text/plain": [
       "True"
      ]
     },
     "metadata": {},
     "output_type": "display_data"
    },
    {
     "data": {
      "text/html": [
       "<style>/* Styles used for the Hoogle display in the pager */\n",
       ".hoogle-doc {\n",
       "display: block;\n",
       "padding-bottom: 1.3em;\n",
       "padding-left: 0.4em;\n",
       "}\n",
       ".hoogle-code {\n",
       "display: block;\n",
       "font-family: monospace;\n",
       "white-space: pre;\n",
       "}\n",
       ".hoogle-text {\n",
       "display: block;\n",
       "}\n",
       ".hoogle-name {\n",
       "color: green;\n",
       "font-weight: bold;\n",
       "}\n",
       ".hoogle-head {\n",
       "font-weight: bold;\n",
       "}\n",
       ".hoogle-sub {\n",
       "display: block;\n",
       "margin-left: 0.4em;\n",
       "}\n",
       ".hoogle-package {\n",
       "font-weight: bold;\n",
       "font-style: italic;\n",
       "}\n",
       ".hoogle-module {\n",
       "font-weight: bold;\n",
       "}\n",
       ".hoogle-class {\n",
       "font-weight: bold;\n",
       "}\n",
       ".get-type {\n",
       "color: green;\n",
       "font-weight: bold;\n",
       "font-family: monospace;\n",
       "display: block;\n",
       "white-space: pre-wrap;\n",
       "}\n",
       ".show-type {\n",
       "color: green;\n",
       "font-weight: bold;\n",
       "font-family: monospace;\n",
       "margin-left: 1em;\n",
       "}\n",
       ".mono {\n",
       "font-family: monospace;\n",
       "display: block;\n",
       "}\n",
       ".err-msg {\n",
       "color: red;\n",
       "font-style: italic;\n",
       "font-family: monospace;\n",
       "white-space: pre;\n",
       "display: block;\n",
       "}\n",
       "#unshowable {\n",
       "color: red;\n",
       "font-weight: bold;\n",
       "}\n",
       ".err-msg.in.collapse {\n",
       "padding-top: 0.7em;\n",
       "}\n",
       ".highlight-code {\n",
       "white-space: pre;\n",
       "font-family: monospace;\n",
       "}\n",
       ".suggestion-warning { \n",
       "font-weight: bold;\n",
       "color: rgb(200, 130, 0);\n",
       "}\n",
       ".suggestion-error { \n",
       "font-weight: bold;\n",
       "color: red;\n",
       "}\n",
       ".suggestion-name {\n",
       "font-weight: bold;\n",
       "}\n",
       "</style><span class='get-type'>biggerThan4 :: forall a. (Ord a, Num a) => a -> Bool</span>"
      ],
      "text/plain": [
       "biggerThan4 :: forall a. (Ord a, Num a) => a -> Bool"
      ]
     },
     "metadata": {},
     "output_type": "display_data"
    },
    {
     "data": {
      "text/plain": [
       "False"
      ]
     },
     "metadata": {},
     "output_type": "display_data"
    }
   ],
   "source": [
    "biggerThan4 3\n",
    "biggerThan4 4\n",
    "biggerThan4 5\n",
    ":t biggerThan4\n",
    "biggerThan4 3.4"
   ]
  },
  {
   "cell_type": "code",
   "execution_count": 3,
   "id": "e60b6cf0",
   "metadata": {},
   "outputs": [
    {
     "ename": "",
     "evalue": "",
     "output_type": "error",
     "traceback": [
      "<interactive>:1:13: error:\n    • No instance for (Fractional Int) arising from the literal ‘3.4’\n    • In the first argument of ‘biggerThan4’, namely ‘3.4’\n      In the expression: biggerThan4 3.4\n      In an equation for ‘it’: it = biggerThan4 3.4"
     ]
    }
   ],
   "source": [
    "-- Making it work only for Int\n",
    "\n",
    "-- Now this will raise an error\n",
    "biggerThan4 3.4"
   ]
  },
  {
   "cell_type": "markdown",
   "id": "901462b7",
   "metadata": {},
   "source": [
    "### map function\n",
    "\n",
    "`map` is one of the most useful higher order functions for lists. It applies a function to all elements of a list. Create your own `map` function using patterns (you can see the slides for its definition using list comprehension). Check the type."
   ]
  },
  {
   "cell_type": "code",
   "execution_count": 4,
   "id": "dbb5a2da",
   "metadata": {},
   "outputs": [
    {
     "data": {
      "text/html": [
       "<style>/* Styles used for the Hoogle display in the pager */\n",
       ".hoogle-doc {\n",
       "display: block;\n",
       "padding-bottom: 1.3em;\n",
       "padding-left: 0.4em;\n",
       "}\n",
       ".hoogle-code {\n",
       "display: block;\n",
       "font-family: monospace;\n",
       "white-space: pre;\n",
       "}\n",
       ".hoogle-text {\n",
       "display: block;\n",
       "}\n",
       ".hoogle-name {\n",
       "color: green;\n",
       "font-weight: bold;\n",
       "}\n",
       ".hoogle-head {\n",
       "font-weight: bold;\n",
       "}\n",
       ".hoogle-sub {\n",
       "display: block;\n",
       "margin-left: 0.4em;\n",
       "}\n",
       ".hoogle-package {\n",
       "font-weight: bold;\n",
       "font-style: italic;\n",
       "}\n",
       ".hoogle-module {\n",
       "font-weight: bold;\n",
       "}\n",
       ".hoogle-class {\n",
       "font-weight: bold;\n",
       "}\n",
       ".get-type {\n",
       "color: green;\n",
       "font-weight: bold;\n",
       "font-family: monospace;\n",
       "display: block;\n",
       "white-space: pre-wrap;\n",
       "}\n",
       ".show-type {\n",
       "color: green;\n",
       "font-weight: bold;\n",
       "font-family: monospace;\n",
       "margin-left: 1em;\n",
       "}\n",
       ".mono {\n",
       "font-family: monospace;\n",
       "display: block;\n",
       "}\n",
       ".err-msg {\n",
       "color: red;\n",
       "font-style: italic;\n",
       "font-family: monospace;\n",
       "white-space: pre;\n",
       "display: block;\n",
       "}\n",
       "#unshowable {\n",
       "color: red;\n",
       "font-weight: bold;\n",
       "}\n",
       ".err-msg.in.collapse {\n",
       "padding-top: 0.7em;\n",
       "}\n",
       ".highlight-code {\n",
       "white-space: pre;\n",
       "font-family: monospace;\n",
       "}\n",
       ".suggestion-warning { \n",
       "font-weight: bold;\n",
       "color: rgb(200, 130, 0);\n",
       "}\n",
       ".suggestion-error { \n",
       "font-weight: bold;\n",
       "color: red;\n",
       "}\n",
       ".suggestion-name {\n",
       "font-weight: bold;\n",
       "}\n",
       "</style><span class='get-type'>myMap :: forall t a. (t -> a) -> [t] -> [a]</span>"
      ],
      "text/plain": [
       "myMap :: forall t a. (t -> a) -> [t] -> [a]"
      ]
     },
     "metadata": {},
     "output_type": "display_data"
    }
   ],
   "source": [
    "myMap f [] = []\n",
    "myMap f (x:xs) = f x : myMap f xs\n",
    ":t myMap"
   ]
  },
  {
   "cell_type": "code",
   "execution_count": 5,
   "id": "894cbff6",
   "metadata": {},
   "outputs": [
    {
     "data": {
      "text/plain": [
       "[False,True,False,True,False]"
      ]
     },
     "metadata": {},
     "output_type": "display_data"
    }
   ],
   "source": [
    "myMap even [1, 2, 3, 4, 5]"
   ]
  },
  {
   "cell_type": "markdown",
   "id": "93f6fb91",
   "metadata": {},
   "source": [
    "If we want to apply a function to all the elements of a nested list, we do `map (map function) [[]]`"
   ]
  },
  {
   "cell_type": "code",
   "execution_count": 33,
   "id": "aa963044",
   "metadata": {},
   "outputs": [
    {
     "data": {
      "text/plain": [
       "[[False,True,False],[True],[False,True,False,True,False]]"
      ]
     },
     "metadata": {},
     "output_type": "display_data"
    },
    {
     "data": {
      "text/html": [
       "<style>/* Styles used for the Hoogle display in the pager */\n",
       ".hoogle-doc {\n",
       "display: block;\n",
       "padding-bottom: 1.3em;\n",
       "padding-left: 0.4em;\n",
       "}\n",
       ".hoogle-code {\n",
       "display: block;\n",
       "font-family: monospace;\n",
       "white-space: pre;\n",
       "}\n",
       ".hoogle-text {\n",
       "display: block;\n",
       "}\n",
       ".hoogle-name {\n",
       "color: green;\n",
       "font-weight: bold;\n",
       "}\n",
       ".hoogle-head {\n",
       "font-weight: bold;\n",
       "}\n",
       ".hoogle-sub {\n",
       "display: block;\n",
       "margin-left: 0.4em;\n",
       "}\n",
       ".hoogle-package {\n",
       "font-weight: bold;\n",
       "font-style: italic;\n",
       "}\n",
       ".hoogle-module {\n",
       "font-weight: bold;\n",
       "}\n",
       ".hoogle-class {\n",
       "font-weight: bold;\n",
       "}\n",
       ".get-type {\n",
       "color: green;\n",
       "font-weight: bold;\n",
       "font-family: monospace;\n",
       "display: block;\n",
       "white-space: pre-wrap;\n",
       "}\n",
       ".show-type {\n",
       "color: green;\n",
       "font-weight: bold;\n",
       "font-family: monospace;\n",
       "margin-left: 1em;\n",
       "}\n",
       ".mono {\n",
       "font-family: monospace;\n",
       "display: block;\n",
       "}\n",
       ".err-msg {\n",
       "color: red;\n",
       "font-style: italic;\n",
       "font-family: monospace;\n",
       "white-space: pre;\n",
       "display: block;\n",
       "}\n",
       "#unshowable {\n",
       "color: red;\n",
       "font-weight: bold;\n",
       "}\n",
       ".err-msg.in.collapse {\n",
       "padding-top: 0.7em;\n",
       "}\n",
       ".highlight-code {\n",
       "white-space: pre;\n",
       "font-family: monospace;\n",
       "}\n",
       ".suggestion-warning { \n",
       "font-weight: bold;\n",
       "color: rgb(200, 130, 0);\n",
       "}\n",
       ".suggestion-error { \n",
       "font-weight: bold;\n",
       "color: red;\n",
       "}\n",
       ".suggestion-name {\n",
       "font-weight: bold;\n",
       "}\n",
       "</style><span class='get-type'>map (map even) :: forall {a}. Integral a => [[a]] -> [[Bool]]</span>"
      ],
      "text/plain": [
       "map (map even) :: forall {a}. Integral a => [[a]] -> [[Bool]]"
      ]
     },
     "metadata": {},
     "output_type": "display_data"
    }
   ],
   "source": [
    "-- Returns if the elements of a list of lists are even\n",
    "map (map even) [[1,2,3],[4],[5,6,7,8,9]]\n",
    ":t map (map even)"
   ]
  },
  {
   "cell_type": "markdown",
   "id": "80d5bcc4",
   "metadata": {},
   "source": [
    "**Exercise 3.** Create a function that adds all the elements of a list made of several sublists of numbers."
   ]
  },
  {
   "cell_type": "code",
   "execution_count": 37,
   "id": "a1ecdf6e",
   "metadata": {},
   "outputs": [],
   "source": []
  },
  {
   "cell_type": "code",
   "execution_count": 38,
   "id": "a591c9cc",
   "metadata": {},
   "outputs": [
    {
     "data": {
      "text/html": [
       "<style>/* Styles used for the Hoogle display in the pager */\n",
       ".hoogle-doc {\n",
       "display: block;\n",
       "padding-bottom: 1.3em;\n",
       "padding-left: 0.4em;\n",
       "}\n",
       ".hoogle-code {\n",
       "display: block;\n",
       "font-family: monospace;\n",
       "white-space: pre;\n",
       "}\n",
       ".hoogle-text {\n",
       "display: block;\n",
       "}\n",
       ".hoogle-name {\n",
       "color: green;\n",
       "font-weight: bold;\n",
       "}\n",
       ".hoogle-head {\n",
       "font-weight: bold;\n",
       "}\n",
       ".hoogle-sub {\n",
       "display: block;\n",
       "margin-left: 0.4em;\n",
       "}\n",
       ".hoogle-package {\n",
       "font-weight: bold;\n",
       "font-style: italic;\n",
       "}\n",
       ".hoogle-module {\n",
       "font-weight: bold;\n",
       "}\n",
       ".hoogle-class {\n",
       "font-weight: bold;\n",
       "}\n",
       ".get-type {\n",
       "color: green;\n",
       "font-weight: bold;\n",
       "font-family: monospace;\n",
       "display: block;\n",
       "white-space: pre-wrap;\n",
       "}\n",
       ".show-type {\n",
       "color: green;\n",
       "font-weight: bold;\n",
       "font-family: monospace;\n",
       "margin-left: 1em;\n",
       "}\n",
       ".mono {\n",
       "font-family: monospace;\n",
       "display: block;\n",
       "}\n",
       ".err-msg {\n",
       "color: red;\n",
       "font-style: italic;\n",
       "font-family: monospace;\n",
       "white-space: pre;\n",
       "display: block;\n",
       "}\n",
       "#unshowable {\n",
       "color: red;\n",
       "font-weight: bold;\n",
       "}\n",
       ".err-msg.in.collapse {\n",
       "padding-top: 0.7em;\n",
       "}\n",
       ".highlight-code {\n",
       "white-space: pre;\n",
       "font-family: monospace;\n",
       "}\n",
       ".suggestion-warning { \n",
       "font-weight: bold;\n",
       "color: rgb(200, 130, 0);\n",
       "}\n",
       ".suggestion-error { \n",
       "font-weight: bold;\n",
       "color: red;\n",
       "}\n",
       ".suggestion-name {\n",
       "font-weight: bold;\n",
       "}\n",
       "</style><span class='get-type'>[[1, 2, 3, 4], [5, 6, 7, 8], [9, 10]] :: forall {a}. Num a => [[a]]</span>"
      ],
      "text/plain": [
       "[[1, 2, 3, 4], [5, 6, 7, 8], [9, 10]] :: forall {a}. Num a => [[a]]"
      ]
     },
     "metadata": {},
     "output_type": "display_data"
    },
    {
     "data": {
      "text/plain": [
       "55"
      ]
     },
     "metadata": {},
     "output_type": "display_data"
    }
   ],
   "source": [
    "-- Checking the type of a nested list\n",
    ":t [[1, 2, 3, 4], [5, 6, 7, 8], [9, 10]]\n",
    "-- Invoking the function\n",
    "addAll [[1, 2, 3, 4], [5, 6, 7, 8], [9, 10]]"
   ]
  },
  {
   "cell_type": "markdown",
   "id": "3927a966",
   "metadata": {},
   "source": [
    "### filter function\n",
    "\n",
    "`filter p xs` selects the elements from `xs` that satisfy predicate `p` (`p` is a function returning a `Bool`)"
   ]
  },
  {
   "cell_type": "code",
   "execution_count": 40,
   "id": "8ad4e4c4",
   "metadata": {},
   "outputs": [
    {
     "data": {
      "text/plain": [
       "[6,7,8]"
      ]
     },
     "metadata": {},
     "output_type": "display_data"
    }
   ],
   "source": [
    "filter (> 5) [1, 2, 3, 4, 5, 6, 7, 8]"
   ]
  },
  {
   "cell_type": "markdown",
   "id": "3cfac357",
   "metadata": {},
   "source": [
    "**Exercise 4.** Create a function that given a character returns it in capital letters, it must work both for small caps and capital letters."
   ]
  },
  {
   "cell_type": "code",
   "execution_count": 11,
   "id": "dea8772a",
   "metadata": {},
   "outputs": [],
   "source": []
  },
  {
   "cell_type": "code",
   "execution_count": 12,
   "id": "01b494dc",
   "metadata": {},
   "outputs": [
    {
     "data": {
      "text/plain": [
       "'J'"
      ]
     },
     "metadata": {},
     "output_type": "display_data"
    },
    {
     "data": {
      "text/plain": [
       "'J'"
      ]
     },
     "metadata": {},
     "output_type": "display_data"
    }
   ],
   "source": [
    "capitalize 'j'\n",
    "capitalize 'J'"
   ]
  },
  {
   "cell_type": "markdown",
   "id": "78fad237",
   "metadata": {},
   "source": [
    "**Exercise 5.** Create a function that given a text capitalizes all its vowels"
   ]
  },
  {
   "cell_type": "code",
   "execution_count": 13,
   "id": "f14caa24",
   "metadata": {},
   "outputs": [],
   "source": []
  },
  {
   "cell_type": "code",
   "execution_count": 14,
   "id": "9f22598c",
   "metadata": {},
   "outputs": [
    {
     "data": {
      "text/plain": [
       "\"HEllO my nAmE Is bOnd, JAmEs BOnd, I Am 007\""
      ]
     },
     "metadata": {},
     "output_type": "display_data"
    }
   ],
   "source": [
    "capitalizeVowels \"Hello my name is bond, James Bond, I am 007\""
   ]
  },
  {
   "cell_type": "markdown",
   "id": "86b5c0c2",
   "metadata": {},
   "source": [
    "**Exercise 6.** Create a function that given a text returns all its vowels in capital letters"
   ]
  },
  {
   "cell_type": "code",
   "execution_count": 15,
   "id": "624b110b",
   "metadata": {},
   "outputs": [],
   "source": []
  },
  {
   "cell_type": "code",
   "execution_count": 16,
   "id": "9a44ae23",
   "metadata": {},
   "outputs": [
    {
     "data": {
      "text/plain": [
       "\"EOAEIOAEOIA\""
      ]
     },
     "metadata": {},
     "output_type": "display_data"
    }
   ],
   "source": [
    "getVowels \"hello my name is bond, James Bond, I am 007\""
   ]
  }
 ],
 "metadata": {
  "kernelspec": {
   "display_name": "Haskell",
   "language": "haskell",
   "name": "haskell"
  },
  "language_info": {
   "codemirror_mode": "ihaskell",
   "file_extension": ".hs",
   "mimetype": "text/x-haskell",
   "name": "haskell",
   "pygments_lexer": "Haskell",
   "version": "9.4.5"
  }
 },
 "nbformat": 4,
 "nbformat_minor": 5
}

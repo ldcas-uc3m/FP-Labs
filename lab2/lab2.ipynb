{
 "cells": [
  {
   "cell_type": "markdown",
   "id": "835e1f8a",
   "metadata": {},
   "source": [
    "# Lab 2 exercises\n",
    "\n",
    "Exercises about sections, guards and patterns. \n",
    "\n",
    "**Note**: Except for the exercise 1, you must specify the type for all the created functions. "
   ]
  },
  {
   "cell_type": "markdown",
   "id": "0f4d0f2e",
   "metadata": {},
   "source": [
    "**Exercise 1.** Define a `square` function using sections"
   ]
  },
  {
   "cell_type": "code",
   "execution_count": null,
   "id": "cf7e921b",
   "metadata": {},
   "outputs": [],
   "source": [
    "square "
   ]
  },
  {
   "cell_type": "markdown",
   "id": "5d52eb73",
   "metadata": {},
   "source": [
    "**Exercise 2.** Write a function `older name1 age1 name2 age2` that receives two names and two ages and prints who is older. Example: if we introduce `older \"Pepe\" 23  Luisa\" 18`, it must print `Pepe is older than Luisa`. If they are the same age it must print `Pepe and Luisa are the same age`."
   ]
  },
  {
   "cell_type": "code",
   "execution_count": null,
   "id": "b05fbdc6",
   "metadata": {},
   "outputs": [],
   "source": [
    "older:: \n",
    "older name1 age1 name2 age2 \n",
    "\n",
    "\n",
    "-- Test code\n",
    "older \"Pepe\" 22 \"Luisa\" 18\n",
    "older \"Pepe\" 12 \"Luisa\" 18\n",
    "older \"Pepe\" 18 \"Luisa\" 18"
   ]
  },
  {
   "cell_type": "markdown",
   "id": "b4ac6096",
   "metadata": {},
   "source": [
    "**Exercise 3.**\tWrite a `ticketPrice age` function that prints on the screen the price of a cinema ticket according to the age of the customer. (a) Normal ticket: 9 Euros; (b) Children under 5: 60% discount; (c) People over 60: 55% discount; (d) Young people under 26: 20% discount. Create a version with guards and another with patterns."
   ]
  },
  {
   "cell_type": "code",
   "execution_count": null,
   "id": "759f6ebf",
   "metadata": {},
   "outputs": [],
   "source": [
    "-- With guards\n",
    "ticketPrice :: \n",
    "ticketPrice age\n",
    "\n",
    "-- Test code    \n",
    "ticketPrice 3\n",
    "ticketPrice 22\n",
    "ticketPrice 61\n",
    "ticketPrice 29\n",
    "\n",
    "-- With patterns\n",
    "ticketPrice' :: \n",
    "ticketPrice' age \n",
    "\n",
    "-- Test code\n",
    "ticketPrice' 3\n",
    "ticketPrice' 22\n",
    "ticketPrice' 61\n",
    "ticketPrice' 29"
   ]
  },
  {
   "cell_type": "markdown",
   "id": "52082a92",
   "metadata": {},
   "source": [
    "**Exercise 4.**\tCreate a function `secondsToHours seconds` receiving a number of seconds and converting it to its hours equivalent (for example 3680 seconds are 1 hour, 1 minute and 20 seconds and will be printed like 01:01:20). Notice the leading zeros. You can use auxiliary functions if needed."
   ]
  },
  {
   "cell_type": "code",
   "execution_count": null,
   "id": "864f055a",
   "metadata": {},
   "outputs": [],
   "source": [
    "secondsToHours ::\n",
    "secondsToHours seconds \n",
    "\n",
    "-- Test code\n",
    "secondsToHours 3680\n",
    "secondsToHours 265"
   ]
  },
  {
   "cell_type": "markdown",
   "id": "4c5ed778",
   "metadata": {},
   "source": [
    "**Exercise 5.**\tCreate a function `quadrant x y` that receives the coordinates of a point in a plane, i.e. two integer values, x and y, not equal to zero. The function must return the quadrant where this point lies (1st quadrant if x>0 and y>0, 2nd if x<0 and y>0, etc.) For example for (1,1) it must return: \"1st\". If x or y are zero it must print \"The values are not valid\"."
   ]
  },
  {
   "cell_type": "code",
   "execution_count": null,
   "id": "97e76cdd",
   "metadata": {},
   "outputs": [],
   "source": [
    "quadrant :: \n",
    "quadrant x y \n",
    "            \n",
    "-- Test code            \n",
    "quadrant 0 1\n",
    "quadrant 1 0\n",
    "quadrant 1 1\n",
    "quadrant (-1) 1\n",
    "quadrant (-1) (-1)\n",
    "quadrant 1 (-1)"
   ]
  },
  {
   "cell_type": "markdown",
   "id": "3d08eae7",
   "metadata": {},
   "source": [
    "**Exercise 6.**\tA year is leap-year if it is a multiple of 4, except if it is a multiple of 100. In this last case it will be leap-year only if it is also a multiple of 400. For example the year 1900 was not a leap-year, but the year 2000 was. Create a function `leapYear year` that calculates leap years. You can use auxiliary functions if needed. Example of outputs (notice the use of past or future tense): \n",
    "\n",
    "```\n",
    "1901 was not a leap year\n",
    "2016 was a leap year\n",
    "2400 will be a leap year\n",
    "2401 will be not a leap year\n",
    "2022 is not a leap year\n",
    "```"
   ]
  },
  {
   "cell_type": "code",
   "execution_count": null,
   "id": "73117323",
   "metadata": {},
   "outputs": [],
   "source": [
    "leapYear :: \n",
    "leapYear year \n",
    "\n",
    "-- Test code\n",
    "leapYear 1901\n",
    "leapYear 2016\n",
    "leapYear 2400\n",
    "leapYear 2401\n",
    "leapYear 2022"
   ]
  },
  {
   "cell_type": "markdown",
   "id": "05fac97b",
   "metadata": {},
   "source": [
    "**Exercise 7.**\tCreate a function `calculator num1 num2 operator` to simulate a calculator. It must receive two integer numbers and the operator (`+ - * div`) and show the result. If the operator is not valid it must raise an `error \"wrong operator\"` and finish."
   ]
  },
  {
   "cell_type": "code",
   "execution_count": null,
   "id": "3937db3c",
   "metadata": {},
   "outputs": [],
   "source": [
    "calculator ::\n",
    "calculator num1 num2 operator"
   ]
  }
 ],
 "metadata": {
  "kernelspec": {
   "display_name": "Haskell",
   "language": "haskell",
   "name": "haskell"
  },
  "language_info": {
   "codemirror_mode": "ihaskell",
   "file_extension": ".hs",
   "mimetype": "text/x-haskell",
   "name": "haskell",
   "pygments_lexer": "Haskell",
   "version": "9.4.5"
  }
 },
 "nbformat": 4,
 "nbformat_minor": 5
}

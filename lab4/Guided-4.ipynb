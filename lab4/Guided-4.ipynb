{
 "cells": [
  {
   "cell_type": "markdown",
   "id": "2fbe9757",
   "metadata": {},
   "source": [
    "# List comprehensions and types"
   ]
  },
  {
   "cell_type": "markdown",
   "id": "5c77c483",
   "metadata": {},
   "source": [
    "# List comprehensions\n",
    "\n",
    "Powerful way to create lists. Simplest case `[expresion | list generator]` "
   ]
  },
  {
   "cell_type": "code",
   "execution_count": 1,
   "id": "6f134dda",
   "metadata": {},
   "outputs": [
    {
     "data": {
      "text/plain": [
       "[1,8,27,64,125,216,343,512,729,1000,1331,1728,2197,2744,3375,4096,4913,5832,6859,8000]"
      ]
     },
     "metadata": {},
     "output_type": "display_data"
    },
    {
     "data": {
      "text/plain": [
       "[1,8,27,64,125,216,343,512,729,1000,1331,1728,2197,2744,3375,4096,4913,5832,6859,8000]"
      ]
     },
     "metadata": {},
     "output_type": "display_data"
    }
   ],
   "source": [
    "-- List with the cubes of the first 20 numbers\n",
    "list1 = [ x^3 | x <- [1..20]]\n",
    "list1\n",
    "-- Infinite list with cubes. Don't print it! \n",
    "list2 = [ x^3 | x <- [1..]]\n",
    "take 20 list2"
   ]
  },
  {
   "cell_type": "markdown",
   "id": "5c3b8a9e",
   "metadata": {},
   "source": [
    "**Exercise 1.** Use list comprehension to create the function `replicate n x` that creates a list with n copies of x."
   ]
  },
  {
   "cell_type": "code",
   "execution_count": 3,
   "id": "7daac700",
   "metadata": {},
   "outputs": [
    {
     "data": {
      "text/plain": [
       "[\"hi\",\"hi\",\"hi\",\"hi\",\"hi\",\"hi\",\"hi\",\"hi\",\"hi\",\"hi\",\"hi\",\"hi\",\"hi\",\"hi\",\"hi\",\"hi\",\"hi\",\"hi\",\"hi\",\"hi\"]"
      ]
     },
     "metadata": {},
     "output_type": "display_data"
    }
   ],
   "source": [
    "replicate'::Int->a->[a]\n",
    "replicate' n x = [x | y <- [1..n]]\n",
    "-- As we are not using y this approach is better\n",
    "replicate'' n x = [x | _ <- [1..n]]\n",
    "replicate'' 20 \"hi\""
   ]
  },
  {
   "cell_type": "markdown",
   "id": "5ea873a1",
   "metadata": {},
   "source": [
    "The most general (and useful) case is `[expresion | list generator1, list generator2.., guard1, guard2, ...]`"
   ]
  },
  {
   "cell_type": "code",
   "execution_count": 5,
   "id": "d3b422f7",
   "metadata": {},
   "outputs": [
    {
     "data": {
      "text/plain": [
       "[(4,16,64),(8,64,512),(12,144,1728),(16,256,4096),(20,400,8000),(24,576,13824),(28,784,21952),(32,1024,32768),(36,1296,46656),(40,1600,64000)]"
      ]
     },
     "metadata": {},
     "output_type": "display_data"
    }
   ],
   "source": [
    "-- List of tuples with the 10 first multiples of 4, their squares and cubes\n",
    "list3  = take 10 [(x, x^2, x^3) | x <- [4..], x `rem` 4 == 0]\n",
    "list3"
   ]
  },
  {
   "cell_type": "markdown",
   "id": "74c9c095",
   "metadata": {},
   "source": [
    "**Exercise 2.** Create a list of tuples with the 10 first multiples of 4, their squares and cubes"
   ]
  },
  {
   "cell_type": "code",
   "execution_count": 4,
   "id": "5db927a4",
   "metadata": {},
   "outputs": [
    {
     "data": {
      "text/plain": [
       "[(4,16,64),(8,64,512),(12,144,1728),(16,256,4096),(20,400,8000),(24,576,13824),(28,784,21952),(32,1024,32768),(36,1296,46656),(40,1600,64000)]"
      ]
     },
     "metadata": {},
     "output_type": "display_data"
    }
   ],
   "source": [
    "-- List of tuples with the 10 first multiples of 4, their squares and cubes\n",
    "list2  = take 10 [(x, x^2, x^3) | x <- [4..], x `rem` 4 == 0]\n",
    "list2"
   ]
  },
  {
   "cell_type": "markdown",
   "id": "4a04dc16",
   "metadata": {},
   "source": [
    "**Exercise 3.** Create a function that takes the x first multiples of a number n, their squares and cubes"
   ]
  },
  {
   "cell_type": "code",
   "execution_count": 7,
   "id": "d3ed1e4f",
   "metadata": {},
   "outputs": [
    {
     "data": {
      "text/plain": [
       "[(4,16,64),(8,64,512),(12,144,1728),(16,256,4096),(20,400,8000),(24,576,13824),(28,784,21952),(32,1024,32768),(36,1296,46656),(40,1600,64000)]"
      ]
     },
     "metadata": {},
     "output_type": "display_data"
    }
   ],
   "source": [
    "-- Function that takes the x first multiples of a number n, their squares and cubes\n",
    "-- The type of x must be Int because take::Int->[a]->[a]\n",
    "takeSquaresCubes:: Integral c => Int -> c -> [(c,c,c)]\n",
    "takeSquaresCubes x n = take x [(x, x^2, x^3) | x <- [n..], x `rem` n == 0]\n",
    "takeSquaresCubes 10 4"
   ]
  },
  {
   "cell_type": "markdown",
   "id": "57ad19bd",
   "metadata": {},
   "source": [
    "**Exercise 4.** Create a function `addition x n e` where the squares and cubes of the `n` first multiples of `x` are added, only if any of them finishes with `e`"
   ]
  },
  {
   "cell_type": "code",
   "execution_count": 8,
   "id": "e65681d2",
   "metadata": {},
   "outputs": [
    {
     "data": {
      "text/plain": [
       "[576,22736]"
      ]
     },
     "metadata": {},
     "output_type": "display_data"
    }
   ],
   "source": [
    "-- Function where the squares and cubes of the n first multiples of x are added only if any of them finishes with e\n",
    "addition::Integral a => Int -> a -> a -> [a]\n",
    "addition x n e = [s + c | (_, s, c) <- takeSquaresCubes x n, c `rem` 10 == e || c `rem` 10 == e]\n",
    "addition 10 4 2"
   ]
  },
  {
   "cell_type": "markdown",
   "id": "47fd7c34",
   "metadata": {},
   "source": [
    "**Exercise 5.** Create a list with the multiplication tables of 1 to 10 as in `[(1,1,1), (1,2,2), (1,3,3)...]`"
   ]
  },
  {
   "cell_type": "code",
   "execution_count": 7,
   "id": "d4347ff4",
   "metadata": {},
   "outputs": [
    {
     "data": {
      "text/plain": [
       "[(1,1,1),(1,2,2),(1,3,3),(1,4,4),(1,5,5),(1,6,6),(1,7,7),(1,8,8),(1,9,9),(1,10,10),(2,1,2),(2,2,4),(2,3,6),(2,4,8),(2,5,10),(2,6,12),(2,7,14),(2,8,16),(2,9,18),(2,10,20),(3,1,3),(3,2,6),(3,3,9),(3,4,12),(3,5,15),(3,6,18),(3,7,21),(3,8,24),(3,9,27),(3,10,30),(4,1,4),(4,2,8),(4,3,12),(4,4,16),(4,5,20),(4,6,24),(4,7,28),(4,8,32),(4,9,36),(4,10,40),(5,1,5),(5,2,10),(5,3,15),(5,4,20),(5,5,25),(5,6,30),(5,7,35),(5,8,40),(5,9,45),(5,10,50),(6,1,6),(6,2,12),(6,3,18),(6,4,24),(6,5,30),(6,6,36),(6,7,42),(6,8,48),(6,9,54),(6,10,60),(7,1,7),(7,2,14),(7,3,21),(7,4,28),(7,5,35),(7,6,42),(7,7,49),(7,8,56),(7,9,63),(7,10,70),(8,1,8),(8,2,16),(8,3,24),(8,4,32),(8,5,40),(8,6,48),(8,7,56),(8,8,64),(8,9,72),(8,10,80),(9,1,9),(9,2,18),(9,3,27),(9,4,36),(9,5,45),(9,6,54),(9,7,63),(9,8,72),(9,9,81),(9,10,90),(10,1,10),(10,2,20),(10,3,30),(10,4,40),(10,5,50),(10,6,60),(10,7,70),(10,8,80),(10,9,90),(10,10,100)]"
      ]
     },
     "metadata": {},
     "output_type": "display_data"
    }
   ],
   "source": [
    "tables = [(x,y,x*y) | x <-[1..10], y <- [1..10]]\n",
    "tables"
   ]
  },
  {
   "cell_type": "markdown",
   "id": "da7265bd",
   "metadata": {},
   "source": [
    "The `zip` function takes a pair of lists and returns a list of pairs of corresponding elements: "
   ]
  },
  {
   "cell_type": "code",
   "execution_count": 31,
   "id": "6c68eeb2",
   "metadata": {},
   "outputs": [
    {
     "data": {
      "text/plain": [
       "[(1,6),(2,7),(3,8)]"
      ]
     },
     "metadata": {},
     "output_type": "display_data"
    },
    {
     "data": {
      "text/plain": [
       "[(1,6),(2,7),(3,8)]"
      ]
     },
     "metadata": {},
     "output_type": "display_data"
    },
    {
     "data": {
      "text/plain": [
       "[(1,6),(2,7),(3,8)]"
      ]
     },
     "metadata": {},
     "output_type": "display_data"
    }
   ],
   "source": [
    "zip [1..3] [6..8]\n",
    "-- If they are of different size\n",
    "zip [1..3] [6..12]\n",
    "zip [1..33] [6..8]"
   ]
  },
  {
   "cell_type": "markdown",
   "id": "35bc35bd",
   "metadata": {},
   "source": [
    "**Exercise 6.** Create a `consecutive xs` function that given a list of elements tells if they are consecutive either in ascending or descending order. Which is its type? Tip: use the `pairs` function seen in lectures."
   ]
  },
  {
   "cell_type": "code",
   "execution_count": 69,
   "id": "5bc35920",
   "metadata": {},
   "outputs": [],
   "source": [
    "pairs :: [a] -> [(a,a)]\n",
    "pairs xs = zip xs (tail xs)\n",
    "\n",
    "consecutive::(Eq a, Enum a) => [a]->Bool\n",
    "consecutive xs = (and [y == succ x | (x,y) <- pairs xs]) || and [x == succ y | (x,y) <- pairs xs]\n"
   ]
  },
  {
   "cell_type": "markdown",
   "id": "26ce4bbe",
   "metadata": {},
   "source": [
    "# Types and typeclasses\n",
    "\n",
    "A type is a collection of values along with some functions. Type names start by capital letter: `Int`, `Integer`, `Float`, `Double`, `Bool`, `Char`, `String`. \n",
    "\n",
    "A typeclass can be seen as a superclass/interface of several types, defining some overloaded methods that apply to all the *child* types. Basic typeclasses in Haskell: `Eq`, `Ord`, `Enum`, `Show`, `Read`, `Num`, `Integral`, `Fractional`, `Floating`... "
   ]
  },
  {
   "cell_type": "code",
   "execution_count": 4,
   "id": "7a98f00d",
   "metadata": {},
   "outputs": [
    {
     "data": {
      "text/html": [
       "<style>/* Styles used for the Hoogle display in the pager */\n",
       ".hoogle-doc {\n",
       "display: block;\n",
       "padding-bottom: 1.3em;\n",
       "padding-left: 0.4em;\n",
       "}\n",
       ".hoogle-code {\n",
       "display: block;\n",
       "font-family: monospace;\n",
       "white-space: pre;\n",
       "}\n",
       ".hoogle-text {\n",
       "display: block;\n",
       "}\n",
       ".hoogle-name {\n",
       "color: green;\n",
       "font-weight: bold;\n",
       "}\n",
       ".hoogle-head {\n",
       "font-weight: bold;\n",
       "}\n",
       ".hoogle-sub {\n",
       "display: block;\n",
       "margin-left: 0.4em;\n",
       "}\n",
       ".hoogle-package {\n",
       "font-weight: bold;\n",
       "font-style: italic;\n",
       "}\n",
       ".hoogle-module {\n",
       "font-weight: bold;\n",
       "}\n",
       ".hoogle-class {\n",
       "font-weight: bold;\n",
       "}\n",
       ".get-type {\n",
       "color: green;\n",
       "font-weight: bold;\n",
       "font-family: monospace;\n",
       "display: block;\n",
       "white-space: pre-wrap;\n",
       "}\n",
       ".show-type {\n",
       "color: green;\n",
       "font-weight: bold;\n",
       "font-family: monospace;\n",
       "margin-left: 1em;\n",
       "}\n",
       ".mono {\n",
       "font-family: monospace;\n",
       "display: block;\n",
       "}\n",
       ".err-msg {\n",
       "color: red;\n",
       "font-style: italic;\n",
       "font-family: monospace;\n",
       "white-space: pre;\n",
       "display: block;\n",
       "}\n",
       "#unshowable {\n",
       "color: red;\n",
       "font-weight: bold;\n",
       "}\n",
       ".err-msg.in.collapse {\n",
       "padding-top: 0.7em;\n",
       "}\n",
       ".highlight-code {\n",
       "white-space: pre;\n",
       "font-family: monospace;\n",
       "}\n",
       ".suggestion-warning { \n",
       "font-weight: bold;\n",
       "color: rgb(200, 130, 0);\n",
       "}\n",
       ".suggestion-error { \n",
       "font-weight: bold;\n",
       "color: red;\n",
       "}\n",
       ".suggestion-name {\n",
       "font-weight: bold;\n",
       "}\n",
       "</style><span class='get-type'>2 :: forall {a}. Num a => a</span>"
      ],
      "text/plain": [
       "2 :: forall {a}. Num a => a"
      ]
     },
     "metadata": {},
     "output_type": "display_data"
    },
    {
     "data": {
      "text/html": [
       "<style>/* Styles used for the Hoogle display in the pager */\n",
       ".hoogle-doc {\n",
       "display: block;\n",
       "padding-bottom: 1.3em;\n",
       "padding-left: 0.4em;\n",
       "}\n",
       ".hoogle-code {\n",
       "display: block;\n",
       "font-family: monospace;\n",
       "white-space: pre;\n",
       "}\n",
       ".hoogle-text {\n",
       "display: block;\n",
       "}\n",
       ".hoogle-name {\n",
       "color: green;\n",
       "font-weight: bold;\n",
       "}\n",
       ".hoogle-head {\n",
       "font-weight: bold;\n",
       "}\n",
       ".hoogle-sub {\n",
       "display: block;\n",
       "margin-left: 0.4em;\n",
       "}\n",
       ".hoogle-package {\n",
       "font-weight: bold;\n",
       "font-style: italic;\n",
       "}\n",
       ".hoogle-module {\n",
       "font-weight: bold;\n",
       "}\n",
       ".hoogle-class {\n",
       "font-weight: bold;\n",
       "}\n",
       ".get-type {\n",
       "color: green;\n",
       "font-weight: bold;\n",
       "font-family: monospace;\n",
       "display: block;\n",
       "white-space: pre-wrap;\n",
       "}\n",
       ".show-type {\n",
       "color: green;\n",
       "font-weight: bold;\n",
       "font-family: monospace;\n",
       "margin-left: 1em;\n",
       "}\n",
       ".mono {\n",
       "font-family: monospace;\n",
       "display: block;\n",
       "}\n",
       ".err-msg {\n",
       "color: red;\n",
       "font-style: italic;\n",
       "font-family: monospace;\n",
       "white-space: pre;\n",
       "display: block;\n",
       "}\n",
       "#unshowable {\n",
       "color: red;\n",
       "font-weight: bold;\n",
       "}\n",
       ".err-msg.in.collapse {\n",
       "padding-top: 0.7em;\n",
       "}\n",
       ".highlight-code {\n",
       "white-space: pre;\n",
       "font-family: monospace;\n",
       "}\n",
       ".suggestion-warning { \n",
       "font-weight: bold;\n",
       "color: rgb(200, 130, 0);\n",
       "}\n",
       ".suggestion-error { \n",
       "font-weight: bold;\n",
       "color: red;\n",
       "}\n",
       ".suggestion-name {\n",
       "font-weight: bold;\n",
       "}\n",
       "</style><span class='get-type'>3.4 :: forall {a}. Fractional a => a</span>"
      ],
      "text/plain": [
       "3.4 :: forall {a}. Fractional a => a"
      ]
     },
     "metadata": {},
     "output_type": "display_data"
    },
    {
     "data": {
      "text/html": [
       "<style>/* Styles used for the Hoogle display in the pager */\n",
       ".hoogle-doc {\n",
       "display: block;\n",
       "padding-bottom: 1.3em;\n",
       "padding-left: 0.4em;\n",
       "}\n",
       ".hoogle-code {\n",
       "display: block;\n",
       "font-family: monospace;\n",
       "white-space: pre;\n",
       "}\n",
       ".hoogle-text {\n",
       "display: block;\n",
       "}\n",
       ".hoogle-name {\n",
       "color: green;\n",
       "font-weight: bold;\n",
       "}\n",
       ".hoogle-head {\n",
       "font-weight: bold;\n",
       "}\n",
       ".hoogle-sub {\n",
       "display: block;\n",
       "margin-left: 0.4em;\n",
       "}\n",
       ".hoogle-package {\n",
       "font-weight: bold;\n",
       "font-style: italic;\n",
       "}\n",
       ".hoogle-module {\n",
       "font-weight: bold;\n",
       "}\n",
       ".hoogle-class {\n",
       "font-weight: bold;\n",
       "}\n",
       ".get-type {\n",
       "color: green;\n",
       "font-weight: bold;\n",
       "font-family: monospace;\n",
       "display: block;\n",
       "white-space: pre-wrap;\n",
       "}\n",
       ".show-type {\n",
       "color: green;\n",
       "font-weight: bold;\n",
       "font-family: monospace;\n",
       "margin-left: 1em;\n",
       "}\n",
       ".mono {\n",
       "font-family: monospace;\n",
       "display: block;\n",
       "}\n",
       ".err-msg {\n",
       "color: red;\n",
       "font-style: italic;\n",
       "font-family: monospace;\n",
       "white-space: pre;\n",
       "display: block;\n",
       "}\n",
       "#unshowable {\n",
       "color: red;\n",
       "font-weight: bold;\n",
       "}\n",
       ".err-msg.in.collapse {\n",
       "padding-top: 0.7em;\n",
       "}\n",
       ".highlight-code {\n",
       "white-space: pre;\n",
       "font-family: monospace;\n",
       "}\n",
       ".suggestion-warning { \n",
       "font-weight: bold;\n",
       "color: rgb(200, 130, 0);\n",
       "}\n",
       ".suggestion-error { \n",
       "font-weight: bold;\n",
       "color: red;\n",
       "}\n",
       ".suggestion-name {\n",
       "font-weight: bold;\n",
       "}\n",
       "</style><span class='get-type'>'a' :: Char</span>"
      ],
      "text/plain": [
       "'a' :: Char"
      ]
     },
     "metadata": {},
     "output_type": "display_data"
    },
    {
     "data": {
      "text/html": [
       "<style>/* Styles used for the Hoogle display in the pager */\n",
       ".hoogle-doc {\n",
       "display: block;\n",
       "padding-bottom: 1.3em;\n",
       "padding-left: 0.4em;\n",
       "}\n",
       ".hoogle-code {\n",
       "display: block;\n",
       "font-family: monospace;\n",
       "white-space: pre;\n",
       "}\n",
       ".hoogle-text {\n",
       "display: block;\n",
       "}\n",
       ".hoogle-name {\n",
       "color: green;\n",
       "font-weight: bold;\n",
       "}\n",
       ".hoogle-head {\n",
       "font-weight: bold;\n",
       "}\n",
       ".hoogle-sub {\n",
       "display: block;\n",
       "margin-left: 0.4em;\n",
       "}\n",
       ".hoogle-package {\n",
       "font-weight: bold;\n",
       "font-style: italic;\n",
       "}\n",
       ".hoogle-module {\n",
       "font-weight: bold;\n",
       "}\n",
       ".hoogle-class {\n",
       "font-weight: bold;\n",
       "}\n",
       ".get-type {\n",
       "color: green;\n",
       "font-weight: bold;\n",
       "font-family: monospace;\n",
       "display: block;\n",
       "white-space: pre-wrap;\n",
       "}\n",
       ".show-type {\n",
       "color: green;\n",
       "font-weight: bold;\n",
       "font-family: monospace;\n",
       "margin-left: 1em;\n",
       "}\n",
       ".mono {\n",
       "font-family: monospace;\n",
       "display: block;\n",
       "}\n",
       ".err-msg {\n",
       "color: red;\n",
       "font-style: italic;\n",
       "font-family: monospace;\n",
       "white-space: pre;\n",
       "display: block;\n",
       "}\n",
       "#unshowable {\n",
       "color: red;\n",
       "font-weight: bold;\n",
       "}\n",
       ".err-msg.in.collapse {\n",
       "padding-top: 0.7em;\n",
       "}\n",
       ".highlight-code {\n",
       "white-space: pre;\n",
       "font-family: monospace;\n",
       "}\n",
       ".suggestion-warning { \n",
       "font-weight: bold;\n",
       "color: rgb(200, 130, 0);\n",
       "}\n",
       ".suggestion-error { \n",
       "font-weight: bold;\n",
       "color: red;\n",
       "}\n",
       ".suggestion-name {\n",
       "font-weight: bold;\n",
       "}\n",
       "</style><span class='get-type'>pi :: forall a. Floating a => a</span>"
      ],
      "text/plain": [
       "pi :: forall a. Floating a => a"
      ]
     },
     "metadata": {},
     "output_type": "display_data"
    },
    {
     "data": {
      "text/plain": [
       "2.0"
      ]
     },
     "metadata": {},
     "output_type": "display_data"
    },
    {
     "data": {
      "text/html": [
       "<style>/* Styles used for the Hoogle display in the pager */\n",
       ".hoogle-doc {\n",
       "display: block;\n",
       "padding-bottom: 1.3em;\n",
       "padding-left: 0.4em;\n",
       "}\n",
       ".hoogle-code {\n",
       "display: block;\n",
       "font-family: monospace;\n",
       "white-space: pre;\n",
       "}\n",
       ".hoogle-text {\n",
       "display: block;\n",
       "}\n",
       ".hoogle-name {\n",
       "color: green;\n",
       "font-weight: bold;\n",
       "}\n",
       ".hoogle-head {\n",
       "font-weight: bold;\n",
       "}\n",
       ".hoogle-sub {\n",
       "display: block;\n",
       "margin-left: 0.4em;\n",
       "}\n",
       ".hoogle-package {\n",
       "font-weight: bold;\n",
       "font-style: italic;\n",
       "}\n",
       ".hoogle-module {\n",
       "font-weight: bold;\n",
       "}\n",
       ".hoogle-class {\n",
       "font-weight: bold;\n",
       "}\n",
       ".get-type {\n",
       "color: green;\n",
       "font-weight: bold;\n",
       "font-family: monospace;\n",
       "display: block;\n",
       "white-space: pre-wrap;\n",
       "}\n",
       ".show-type {\n",
       "color: green;\n",
       "font-weight: bold;\n",
       "font-family: monospace;\n",
       "margin-left: 1em;\n",
       "}\n",
       ".mono {\n",
       "font-family: monospace;\n",
       "display: block;\n",
       "}\n",
       ".err-msg {\n",
       "color: red;\n",
       "font-style: italic;\n",
       "font-family: monospace;\n",
       "white-space: pre;\n",
       "display: block;\n",
       "}\n",
       "#unshowable {\n",
       "color: red;\n",
       "font-weight: bold;\n",
       "}\n",
       ".err-msg.in.collapse {\n",
       "padding-top: 0.7em;\n",
       "}\n",
       ".highlight-code {\n",
       "white-space: pre;\n",
       "font-family: monospace;\n",
       "}\n",
       ".suggestion-warning { \n",
       "font-weight: bold;\n",
       "color: rgb(200, 130, 0);\n",
       "}\n",
       ".suggestion-error { \n",
       "font-weight: bold;\n",
       "color: red;\n",
       "}\n",
       ".suggestion-name {\n",
       "font-weight: bold;\n",
       "}\n",
       "</style><span class='get-type'>2 :: Integer :: Integer</span>"
      ],
      "text/plain": [
       "2 :: Integer :: Integer"
      ]
     },
     "metadata": {},
     "output_type": "display_data"
    },
    {
     "data": {
      "text/plain": [
       "3.141592653589793"
      ]
     },
     "metadata": {},
     "output_type": "display_data"
    },
    {
     "data": {
      "text/plain": [
       "3.1415927"
      ]
     },
     "metadata": {},
     "output_type": "display_data"
    }
   ],
   "source": [
    ":t 2\n",
    ":t 3.4\n",
    ":t 'a'\n",
    ":t pi\n",
    "-- The type can be forced\n",
    "2 :: Float\n",
    ":t 2 :: Integer\n",
    "pi\n",
    "a = pi :: Float\n",
    "a"
   ]
  },
  {
   "cell_type": "markdown",
   "id": "e8360867",
   "metadata": {},
   "source": [
    "To force something to belong to a typeclass we use `=>`"
   ]
  },
  {
   "cell_type": "code",
   "execution_count": 12,
   "id": "75288c9c",
   "metadata": {},
   "outputs": [
    {
     "data": {
      "text/plain": [
       "2.0"
      ]
     },
     "metadata": {},
     "output_type": "display_data"
    }
   ],
   "source": [
    "2 :: Fractional a => a"
   ]
  },
  {
   "cell_type": "markdown",
   "id": "aa733587",
   "metadata": {},
   "source": [
    "This is more common in functions:"
   ]
  },
  {
   "cell_type": "code",
   "execution_count": 26,
   "id": "3a27cc07",
   "metadata": {},
   "outputs": [
    {
     "data": {
      "text/html": [
       "<style>/* Styles used for the Hoogle display in the pager */\n",
       ".hoogle-doc {\n",
       "display: block;\n",
       "padding-bottom: 1.3em;\n",
       "padding-left: 0.4em;\n",
       "}\n",
       ".hoogle-code {\n",
       "display: block;\n",
       "font-family: monospace;\n",
       "white-space: pre;\n",
       "}\n",
       ".hoogle-text {\n",
       "display: block;\n",
       "}\n",
       ".hoogle-name {\n",
       "color: green;\n",
       "font-weight: bold;\n",
       "}\n",
       ".hoogle-head {\n",
       "font-weight: bold;\n",
       "}\n",
       ".hoogle-sub {\n",
       "display: block;\n",
       "margin-left: 0.4em;\n",
       "}\n",
       ".hoogle-package {\n",
       "font-weight: bold;\n",
       "font-style: italic;\n",
       "}\n",
       ".hoogle-module {\n",
       "font-weight: bold;\n",
       "}\n",
       ".hoogle-class {\n",
       "font-weight: bold;\n",
       "}\n",
       ".get-type {\n",
       "color: green;\n",
       "font-weight: bold;\n",
       "font-family: monospace;\n",
       "display: block;\n",
       "white-space: pre-wrap;\n",
       "}\n",
       ".show-type {\n",
       "color: green;\n",
       "font-weight: bold;\n",
       "font-family: monospace;\n",
       "margin-left: 1em;\n",
       "}\n",
       ".mono {\n",
       "font-family: monospace;\n",
       "display: block;\n",
       "}\n",
       ".err-msg {\n",
       "color: red;\n",
       "font-style: italic;\n",
       "font-family: monospace;\n",
       "white-space: pre;\n",
       "display: block;\n",
       "}\n",
       "#unshowable {\n",
       "color: red;\n",
       "font-weight: bold;\n",
       "}\n",
       ".err-msg.in.collapse {\n",
       "padding-top: 0.7em;\n",
       "}\n",
       ".highlight-code {\n",
       "white-space: pre;\n",
       "font-family: monospace;\n",
       "}\n",
       ".suggestion-warning { \n",
       "font-weight: bold;\n",
       "color: rgb(200, 130, 0);\n",
       "}\n",
       ".suggestion-error { \n",
       "font-weight: bold;\n",
       "color: red;\n",
       "}\n",
       ".suggestion-name {\n",
       "font-weight: bold;\n",
       "}\n",
       "</style><span class='get-type'>headEqTail :: forall a. Eq a => [a] -> Bool</span>"
      ],
      "text/plain": [
       "headEqTail :: forall a. Eq a => [a] -> Bool"
      ]
     },
     "metadata": {},
     "output_type": "display_data"
    },
    {
     "data": {
      "text/plain": [
       "True"
      ]
     },
     "metadata": {},
     "output_type": "display_data"
    },
    {
     "data": {
      "text/plain": [
       "False"
      ]
     },
     "metadata": {},
     "output_type": "display_data"
    },
    {
     "data": {
      "text/plain": [
       "True"
      ]
     },
     "metadata": {},
     "output_type": "display_data"
    }
   ],
   "source": [
    "headEqTail:: Eq a => [a] -> Bool\n",
    "headEqTail x = head x == last x\n",
    ":t headEqTail\n",
    "headEqTail [1, 2, 1]\n",
    "headEqTail \"hello\"\n",
    "headEqTail [True, False, True]"
   ]
  },
  {
   "cell_type": "code",
   "execution_count": 23,
   "id": "d3dbfc81",
   "metadata": {},
   "outputs": [
    {
     "data": {
      "text/plain": [
       "True"
      ]
     },
     "metadata": {},
     "output_type": "display_data"
    },
    {
     "data": {
      "text/plain": [
       "False"
      ]
     },
     "metadata": {},
     "output_type": "display_data"
    }
   ],
   "source": [
    "-- Restricting the function so it only works with numbers\n",
    "headEqTail':: (Num a, Eq a) => [a] -> Bool\n",
    "headEqTail' x = head x == last x\n",
    "headEqTail' [1, 2, 1]\n",
    "headEqTail' [1, 2, 2]"
   ]
  },
  {
   "cell_type": "code",
   "execution_count": 22,
   "id": "8a2c6006",
   "metadata": {},
   "outputs": [
    {
     "data": {
      "text/plain": [
       "True"
      ]
     },
     "metadata": {},
     "output_type": "display_data"
    },
    {
     "data": {
      "text/plain": [
       "False"
      ]
     },
     "metadata": {},
     "output_type": "display_data"
    }
   ],
   "source": [
    "-- Only with integers\n",
    "headEqTail'':: (Integral a) => [a] -> Bool\n",
    "headEqTail'' x = head x == last x\n",
    "headEqTail'' [1, 2, 1]\n",
    "headEqTail'' [1, 2, 2]"
   ]
  },
  {
   "cell_type": "markdown",
   "id": "bce4c1f3",
   "metadata": {},
   "source": [
    "# New data types\n",
    "\n",
    "In Haskell we can create our own data types, actually this is quite common. There are three different ways to do it: `type`, `data` and `newtype`.\n",
    "\n",
    "## Type\n",
    "\n",
    "The simplest way to create a type as a combination of other types. Commonly used to create an alias of a type."
   ]
  },
  {
   "cell_type": "code",
   "execution_count": 1,
   "id": "b419ce44",
   "metadata": {},
   "outputs": [
    {
     "data": {
      "text/html": [
       "<style>/* Styles used for the Hoogle display in the pager */\n",
       ".hoogle-doc {\n",
       "display: block;\n",
       "padding-bottom: 1.3em;\n",
       "padding-left: 0.4em;\n",
       "}\n",
       ".hoogle-code {\n",
       "display: block;\n",
       "font-family: monospace;\n",
       "white-space: pre;\n",
       "}\n",
       ".hoogle-text {\n",
       "display: block;\n",
       "}\n",
       ".hoogle-name {\n",
       "color: green;\n",
       "font-weight: bold;\n",
       "}\n",
       ".hoogle-head {\n",
       "font-weight: bold;\n",
       "}\n",
       ".hoogle-sub {\n",
       "display: block;\n",
       "margin-left: 0.4em;\n",
       "}\n",
       ".hoogle-package {\n",
       "font-weight: bold;\n",
       "font-style: italic;\n",
       "}\n",
       ".hoogle-module {\n",
       "font-weight: bold;\n",
       "}\n",
       ".hoogle-class {\n",
       "font-weight: bold;\n",
       "}\n",
       ".get-type {\n",
       "color: green;\n",
       "font-weight: bold;\n",
       "font-family: monospace;\n",
       "display: block;\n",
       "white-space: pre-wrap;\n",
       "}\n",
       ".show-type {\n",
       "color: green;\n",
       "font-weight: bold;\n",
       "font-family: monospace;\n",
       "margin-left: 1em;\n",
       "}\n",
       ".mono {\n",
       "font-family: monospace;\n",
       "display: block;\n",
       "}\n",
       ".err-msg {\n",
       "color: red;\n",
       "font-style: italic;\n",
       "font-family: monospace;\n",
       "white-space: pre;\n",
       "display: block;\n",
       "}\n",
       "#unshowable {\n",
       "color: red;\n",
       "font-weight: bold;\n",
       "}\n",
       ".err-msg.in.collapse {\n",
       "padding-top: 0.7em;\n",
       "}\n",
       ".highlight-code {\n",
       "white-space: pre;\n",
       "font-family: monospace;\n",
       "}\n",
       ".suggestion-warning { \n",
       "font-weight: bold;\n",
       "color: rgb(200, 130, 0);\n",
       "}\n",
       ".suggestion-error { \n",
       "font-weight: bold;\n",
       "color: red;\n",
       "}\n",
       ".suggestion-name {\n",
       "font-weight: bold;\n",
       "}\n",
       "</style><span class='get-type'>name :: forall {a} {b} {c}. (a, b, c) -> a</span>"
      ],
      "text/plain": [
       "name :: forall {a} {b} {c}. (a, b, c) -> a"
      ]
     },
     "metadata": {},
     "output_type": "display_data"
    },
    {
     "data": {
      "text/plain": [
       "\"Pepe\""
      ]
     },
     "metadata": {},
     "output_type": "display_data"
    },
    {
     "data": {
      "text/plain": [
       "\"Perez\""
      ]
     },
     "metadata": {},
     "output_type": "display_data"
    },
    {
     "data": {
      "text/plain": [
       "22"
      ]
     },
     "metadata": {},
     "output_type": "display_data"
    },
    {
     "data": {
      "text/plain": [
       "False"
      ]
     },
     "metadata": {},
     "output_type": "display_data"
    }
   ],
   "source": [
    "-- New type to represent a person with (Name, Surname, Age)\n",
    "type Person = (String, String, Int)\n",
    "\n",
    "-- Functions to get the components\n",
    "name (a, b, c) = a\n",
    "surname (a, b, c) = b\n",
    "age (a, b, c) = c\n",
    "\n",
    "-- Checking the type of any of them\n",
    ":t name\n",
    "\n",
    "-- Invoking\n",
    "name (\"Pepe\", \"Perez\", 22) \n",
    "surname (\"Pepe\", \"Perez\", 22) \n",
    "age (\"Pepe\", \"Perez\", 22) \n",
    "\n",
    "-- But they can be invoked with any triplet\n",
    "age (1, True, False)"
   ]
  },
  {
   "cell_type": "code",
   "execution_count": 4,
   "id": "368aa977",
   "metadata": {},
   "outputs": [
    {
     "data": {
      "text/plain": [
       "\"Pepe\""
      ]
     },
     "metadata": {},
     "output_type": "display_data"
    },
    {
     "data": {
      "text/plain": [
       "\"Perez\""
      ]
     },
     "metadata": {},
     "output_type": "display_data"
    },
    {
     "data": {
      "text/plain": [
       "22"
      ]
     },
     "metadata": {},
     "output_type": "display_data"
    },
    {
     "ename": "",
     "evalue": "",
     "output_type": "error",
     "traceback": [
      "<interactive>:1:15: error:\n    • Couldn't match expected type ‘Int’ with actual type ‘Bool’\n    • In the expression: False\n      In the first argument of ‘age’, namely ‘(1, True, False)’\n      In the expression: age (1, True, False)\n<interactive>:1:9: error:\n    • Couldn't match type ‘Bool’ with ‘String’\n      Expected: String\n        Actual: Bool\n    • In the expression: True\n      In the first argument of ‘age’, namely ‘(1, True, False)’\n      In the expression: age (1, True, False)"
     ]
    }
   ],
   "source": [
    "-- Ensuring they work only with persons: forcing the type\n",
    "name:: Person -> String\n",
    "name (a, b, c) = a\n",
    "\n",
    "surname:: Person -> String\n",
    "surname (a, b, c) = b\n",
    "\n",
    "age:: Person -> Int\n",
    "age (a, b, c) = c\n",
    "\n",
    "-- Invoking\n",
    "name (\"Pepe\", \"Perez\", 22) \n",
    "surname (\"Pepe\", \"Perez\", 22) \n",
    "age (\"Pepe\", \"Perez\", 22) \n",
    "\n",
    "-- Now this fails\n",
    "age (1, True, False)"
   ]
  },
  {
   "cell_type": "markdown",
   "id": "e17b79a9",
   "metadata": {},
   "source": [
    "**Exercise 7.** Create a function that returns if a person is an adult (>= 18 years old)"
   ]
  },
  {
   "cell_type": "code",
   "execution_count": 51,
   "id": "ada18b1b",
   "metadata": {},
   "outputs": [
    {
     "data": {
      "text/plain": [
       "True"
      ]
     },
     "metadata": {},
     "output_type": "display_data"
    }
   ],
   "source": [
    "isAdult :: Person -> Bool\n",
    "isAdult (a, b, c) = c >= 18\n",
    "\n",
    "isAdult (\"Pepe\", \"Perez\", 22) "
   ]
  },
  {
   "cell_type": "markdown",
   "id": "e4827d8b",
   "metadata": {},
   "source": [
    "# Data\n",
    "\n",
    "With data we can create completely new types. Simplest syntax: `data Name = Constructor1 | Contstructor2 | ... deriving (TypeClass1, TypeClass2...)`. The `deriving` part is optional but usually we always derive at least from `Show`"
   ]
  },
  {
   "cell_type": "markdown",
   "id": "9b5266ab",
   "metadata": {},
   "source": [
    "**Exercise 8.** Create:\n",
    "1. A type to represent the days of the week\n",
    "2. A function `nextDay` that given a day returns the next\n",
    "3. A function `workingDays` that returns a list with the working days\n",
    "4. A function `isWorkingDay` day that returns true if the day is a working day\n",
    "5. A function `isHoliday` day that returns true if the day is not a working day"
   ]
  },
  {
   "cell_type": "code",
   "execution_count": 9,
   "id": "31ee702c",
   "metadata": {},
   "outputs": [
    {
     "data": {
      "text/plain": [
       "Monday"
      ]
     },
     "metadata": {},
     "output_type": "display_data"
    },
    {
     "ename": "",
     "evalue": "",
     "output_type": "error",
     "traceback": [
      "succ{WeekDays}: tried to take `succ' of last tag in enumeration\nCallStack (from HasCallStack):\n  error, called at <interactive>:1:82 in interactive:Ghci363"
     ]
    }
   ],
   "source": [
    "-- This could be enough, but if we don't derive from Show we cannot show anything\n",
    "data WeekDays = Monday | Tuesday | Wednesday | Saturday | Sunday "
   ]
  },
  {
   "cell_type": "code",
   "execution_count": 29,
   "id": "c0f6854a",
   "metadata": {},
   "outputs": [],
   "source": [
    "-- 1\n",
    "-- Deriving Show, Eq to use == and Enum to ease the nextDay function\n",
    "data WeekDays = Monday | Tuesday | Wednesday | Thursday | Friday| Saturday | Sunday deriving (Show, Eq, Enum)\n",
    "\n",
    "-- 2 with patterns\n",
    "nextDay::WeekDays -> WeekDays\n",
    "nextDay Monday = Tuesday\n",
    "nextDay Tuesday = Wednesday\n",
    "nextDay Wednesday = Thursday\n",
    "nextDay Thursday = Friday\n",
    "nextDay Friday = Saturday\n",
    "nextDay Saturday = Sunday\n",
    "nextDay Sunday = Monday\n",
    "\n",
    "-- 2 with enum\n",
    "nextDay'::WeekDays -> WeekDays\n",
    "nextDay' Sunday = Monday\n",
    "nextDay' x = succ x\n",
    "\n",
    "-- 3\n",
    "workingDays:: [WeekDays]\n",
    "workingDays = [Monday, Tuesday, Wednesday, Thursday, Friday]\n",
    "\n",
    "-- 4\n",
    "isWorkingDay::WeekDays -> Bool\n",
    "isWorkingDay d = d `elem` workingDays\n",
    "\n",
    "-- 5\n",
    "isHoliday::WeekDays -> Bool\n",
    "isHoliday d = not (isWorkingDay d)"
   ]
  },
  {
   "cell_type": "code",
   "execution_count": 30,
   "id": "c8574aaa",
   "metadata": {},
   "outputs": [
    {
     "data": {
      "text/plain": [
       "Wednesday"
      ]
     },
     "metadata": {},
     "output_type": "display_data"
    },
    {
     "data": {
      "text/plain": [
       "Wednesday"
      ]
     },
     "metadata": {},
     "output_type": "display_data"
    },
    {
     "data": {
      "text/plain": [
       "[Monday,Tuesday,Wednesday,Thursday,Friday]"
      ]
     },
     "metadata": {},
     "output_type": "display_data"
    },
    {
     "data": {
      "text/plain": [
       "True"
      ]
     },
     "metadata": {},
     "output_type": "display_data"
    },
    {
     "data": {
      "text/plain": [
       "False"
      ]
     },
     "metadata": {},
     "output_type": "display_data"
    },
    {
     "data": {
      "text/plain": [
       "True"
      ]
     },
     "metadata": {},
     "output_type": "display_data"
    }
   ],
   "source": [
    "nextDay Tuesday\n",
    "nextDay' Tuesday\n",
    "workingDays\n",
    "isWorkingDay Wednesday\n",
    "isWorkingDay Sunday\n",
    "isHoliday Sunday"
   ]
  }
 ],
 "metadata": {
  "kernelspec": {
   "display_name": "Haskell",
   "language": "haskell",
   "name": "haskell"
  },
  "language_info": {
   "codemirror_mode": "ihaskell",
   "file_extension": ".hs",
   "mimetype": "text/x-haskell",
   "name": "haskell",
   "pygments_lexer": "Haskell",
   "version": "9.4.5"
  }
 },
 "nbformat": 4,
 "nbformat_minor": 5
}

{
 "cells": [
  {
   "cell_type": "markdown",
   "id": "2fbe9757",
   "metadata": {},
   "source": [
    "# Lab 4 exercises\n",
    "\n",
    "Exercises about lists and types.\n",
    "\n",
    "**Note:** You must specify the type for all the created functions."
   ]
  },
  {
   "cell_type": "markdown",
   "id": "b3dc89ec",
   "metadata": {},
   "source": [
    "**Exercise 1.** Use list comprehension to create a function that returns the position of all the even elements in a list"
   ]
  },
  {
   "cell_type": "code",
   "execution_count": 1,
   "id": "13e0169b",
   "metadata": {},
   "outputs": [],
   "source": []
  },
  {
   "cell_type": "code",
   "execution_count": 2,
   "id": "978673ac",
   "metadata": {},
   "outputs": [
    {
     "data": {
      "text/plain": [
       "[]"
      ]
     },
     "metadata": {},
     "output_type": "display_data"
    },
    {
     "data": {
      "text/plain": [
       "[]"
      ]
     },
     "metadata": {},
     "output_type": "display_data"
    },
    {
     "data": {
      "text/plain": [
       "[3]"
      ]
     },
     "metadata": {},
     "output_type": "display_data"
    },
    {
     "data": {
      "text/plain": [
       "[0,1,2,3]"
      ]
     },
     "metadata": {},
     "output_type": "display_data"
    }
   ],
   "source": [
    "-- Test\n",
    "evenPositions []\n",
    "evenPositions [1, 1, 1, 1]\n",
    "evenPositions [1, 1, 1, 2]\n",
    "evenPositions [2, 2, 2, 2]"
   ]
  },
  {
   "cell_type": "markdown",
   "id": "312b4bf8",
   "metadata": {},
   "source": [
    "**Exercise 2.** Create a function that returns the position of the first even element of a list or -1 if there are no even elements on the list."
   ]
  },
  {
   "cell_type": "code",
   "execution_count": 3,
   "id": "448a5911",
   "metadata": {},
   "outputs": [],
   "source": []
  },
  {
   "cell_type": "code",
   "execution_count": 4,
   "id": "3965336b",
   "metadata": {},
   "outputs": [
    {
     "data": {
      "text/plain": [
       "-1"
      ]
     },
     "metadata": {},
     "output_type": "display_data"
    },
    {
     "data": {
      "text/plain": [
       "-1"
      ]
     },
     "metadata": {},
     "output_type": "display_data"
    },
    {
     "data": {
      "text/plain": [
       "3"
      ]
     },
     "metadata": {},
     "output_type": "display_data"
    },
    {
     "data": {
      "text/plain": [
       "0"
      ]
     },
     "metadata": {},
     "output_type": "display_data"
    }
   ],
   "source": [
    "-- Test\n",
    "posFirstEven []\n",
    "posFirstEven [1, 1, 1, 1]\n",
    "posFirstEven [1, 1, 1, 2]\n",
    "posFirstEven [2, 2, 2, 2]"
   ]
  },
  {
   "cell_type": "markdown",
   "id": "d06431ee",
   "metadata": {},
   "source": [
    "**Exercise 3.** Use the previous function to create a function that splits a list at its first even element (it will be part of the second list)"
   ]
  },
  {
   "cell_type": "code",
   "execution_count": 5,
   "id": "4713f040",
   "metadata": {},
   "outputs": [],
   "source": []
  },
  {
   "cell_type": "code",
   "execution_count": 6,
   "id": "4fd944a4",
   "metadata": {},
   "outputs": [
    {
     "data": {
      "text/plain": [
       "([],[])"
      ]
     },
     "metadata": {},
     "output_type": "display_data"
    },
    {
     "data": {
      "text/plain": [
       "([1,1,1,1],[])"
      ]
     },
     "metadata": {},
     "output_type": "display_data"
    },
    {
     "data": {
      "text/plain": [
       "([1,1,1],[2])"
      ]
     },
     "metadata": {},
     "output_type": "display_data"
    },
    {
     "data": {
      "text/plain": [
       "([],[2,2,2,2])"
      ]
     },
     "metadata": {},
     "output_type": "display_data"
    }
   ],
   "source": [
    "-- Test\n",
    "splitEven []\n",
    "splitEven [1, 1, 1, 1]\n",
    "splitEven [1, 1, 1, 2]\n",
    "splitEven [2, 2, 2, 2]"
   ]
  },
  {
   "cell_type": "markdown",
   "id": "290aabfe",
   "metadata": {},
   "source": [
    "**Exercise 4.** Create a `consecutive xs` function that given a list of elements tells if they are consecutive either in ascending or descending order. Which is its type? Tip: use the `pairs` function seen in lectures."
   ]
  },
  {
   "cell_type": "code",
   "execution_count": 1,
   "id": "f4cbdba8",
   "metadata": {},
   "outputs": [],
   "source": []
  },
  {
   "cell_type": "code",
   "execution_count": 2,
   "id": "e47d4f17",
   "metadata": {},
   "outputs": [
    {
     "data": {
      "text/plain": [
       "False"
      ]
     },
     "metadata": {},
     "output_type": "display_data"
    },
    {
     "data": {
      "text/plain": [
       "True"
      ]
     },
     "metadata": {},
     "output_type": "display_data"
    },
    {
     "data": {
      "text/plain": [
       "True"
      ]
     },
     "metadata": {},
     "output_type": "display_data"
    },
    {
     "data": {
      "text/plain": [
       "True"
      ]
     },
     "metadata": {},
     "output_type": "display_data"
    }
   ],
   "source": [
    "-- Test\n",
    "consecutive [1, 2, 3, 5]\n",
    "consecutive [1, 2, 3, 4]\n",
    "consecutive ['a','b','c']\n",
    "consecutive [2, 1, 0, -1]"
   ]
  },
  {
   "cell_type": "markdown",
   "id": "943ceb2d",
   "metadata": {},
   "source": [
    "**Exercise 5.** A number is perfect if it is equal to the addition of all its divisors, except itself. Create the `perfectTo x` function that returns a list with all the perfect numbers until the given one (included). Note: auxiliary functions can be created."
   ]
  },
  {
   "cell_type": "code",
   "execution_count": 4,
   "id": "39c5492c",
   "metadata": {},
   "outputs": [],
   "source": []
  },
  {
   "cell_type": "code",
   "execution_count": 5,
   "id": "e0d1c9a9",
   "metadata": {},
   "outputs": [
    {
     "data": {
      "text/plain": [
       "[6]"
      ]
     },
     "metadata": {},
     "output_type": "display_data"
    },
    {
     "data": {
      "text/plain": [
       "[6,28,496]"
      ]
     },
     "metadata": {},
     "output_type": "display_data"
    },
    {
     "data": {
      "text/plain": [
       "[6,28,496,8128]"
      ]
     },
     "metadata": {},
     "output_type": "display_data"
    }
   ],
   "source": [
    "-- Test\n",
    "perfectTo 10\n",
    "perfectTo 1000\n",
    "perfectTo 10000"
   ]
  },
  {
   "cell_type": "markdown",
   "id": "1ab25dd7",
   "metadata": {},
   "source": [
    "**Exercise 6.** Create the `multiples3_5 n` function that returns the addition of all the multiples of 3 or 5 to the number n included."
   ]
  },
  {
   "cell_type": "code",
   "execution_count": 6,
   "id": "dee1605d",
   "metadata": {},
   "outputs": [],
   "source": []
  },
  {
   "cell_type": "code",
   "execution_count": 7,
   "id": "acbf9294",
   "metadata": {},
   "outputs": [
    {
     "data": {
      "text/plain": [
       "0"
      ]
     },
     "metadata": {},
     "output_type": "display_data"
    },
    {
     "data": {
      "text/plain": [
       "3"
      ]
     },
     "metadata": {},
     "output_type": "display_data"
    },
    {
     "data": {
      "text/plain": [
       "8"
      ]
     },
     "metadata": {},
     "output_type": "display_data"
    },
    {
     "data": {
      "text/plain": [
       "60"
      ]
     },
     "metadata": {},
     "output_type": "display_data"
    }
   ],
   "source": [
    "-- Test\n",
    "multiples3_5 2\n",
    "multiples3_5 3\n",
    "multiples3_5 5\n",
    "multiples3_5 15"
   ]
  },
  {
   "cell_type": "markdown",
   "id": "1a8bb029",
   "metadata": {},
   "source": [
    "**Exercise 7** Use `type` to create:\n",
    "1. A type to represent a Date with day (Int), month (Int), year (Int)\n",
    "2. A function `isleap date` to return if the year of a Date is a leap year\n",
    "3. A function `rightMonth date` to check if a month number is correct\n",
    "4. A function `rightDay date` to check if a day number is correct for that month of that Date\n",
    "5. A function `fixDate date` that if the month of the day is incorrect, fixes them, the month will be 1 and the day will be 1 too.\n",
    "6. A function `monthName date` that returns the name of the month of that date\n",
    "7. A function `showDate date` that returns \"day of monthName of the leap/not leap year\"\n",
    "8. A function `nextDay date` that returns the next Date of a given one\n",
    "9. A function `isPrevious date1 date2` that returns if date1 is previous to date2"
   ]
  },
  {
   "cell_type": "code",
   "execution_count": null,
   "id": "6298c406",
   "metadata": {},
   "outputs": [],
   "source": []
  }
 ],
 "metadata": {
  "kernelspec": {
   "display_name": "Haskell",
   "language": "haskell",
   "name": "haskell"
  },
  "language_info": {
   "codemirror_mode": "ihaskell",
   "file_extension": ".hs",
   "mimetype": "text/x-haskell",
   "name": "haskell",
   "pygments_lexer": "Haskell",
   "version": "9.4.5"
  }
 },
 "nbformat": 4,
 "nbformat_minor": 5
}
